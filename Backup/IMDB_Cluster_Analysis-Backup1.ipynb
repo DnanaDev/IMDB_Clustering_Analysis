{
 "cells": [
  {
   "cell_type": "markdown",
   "metadata": {},
   "source": [
    "### Idea/TO DO \n",
    "1. Could do predictive modelling to predict Your Ratings."
   ]
  },
  {
   "cell_type": "markdown",
   "metadata": {},
   "source": [
    "### Scaling Data and Principal Component Analysis.\n",
    "1. Scale Data. (Done, converted all possible values to numeric, Dropped Title, REstore from Original DF)\n",
    "2. Perform PCA\n",
    "3. Cluster\n",
    "4. Analzse Clusters.\n",
    "5. Profit."
   ]
  },
  {
   "cell_type": "code",
   "execution_count": 79,
   "metadata": {},
   "outputs": [],
   "source": [
    "#!/usr/bin/python \n",
    "\n",
    "\"\"\" \n",
    "    Skeleton code for k-means clustering mini-project.\n",
    "\"\"\"\n",
    "\n",
    "import pickle\n",
    "import numpy as np\n",
    "import matplotlib.pyplot as plt\n",
    "import sys\n",
    "import pandas as pd\n",
    "import seaborn as sns\n",
    "sys.path.append(\"../tools/\")\n",
    "#from feature_format import featureFormat, targetFeatureSplit\n",
    "pd.set_option('display.max_rows', 1000)"
   ]
  },
  {
   "cell_type": "code",
   "execution_count": 3,
   "metadata": {},
   "outputs": [],
   "source": [
    "def Draw(pred, features, poi, mark_poi=False, name=\"image.png\", f1_name=\"feature 1\", f2_name=\"feature 2\"):\n",
    "    \"\"\" some plotting code designed to help you visualize your clusters \"\"\"\n",
    "\n",
    "    ### plot each cluster with a different color--add more colors for\n",
    "    ### drawing more than five clusters\n",
    "    colors = [\"b\", \"c\", \"k\", \"m\", \"g\"]\n",
    "    for ii, pp in enumerate(pred):\n",
    "        plt.scatter(features[ii][0], features[ii][1], color = colors[pred[ii]])\n",
    "\n",
    "    ### if you like, place red stars over points that are POIs (just for funsies)\n",
    "    if mark_poi:\n",
    "        for ii, pp in enumerate(pred):\n",
    "            if poi[ii]:\n",
    "                plt.scatter(features[ii][0], features[ii][1], color=\"r\", marker=\"*\")\n",
    "    plt.xlabel(f1_name)\n",
    "    plt.ylabel(f2_name)\n",
    "    plt.savefig(name)\n",
    "    plt.show()"
   ]
  },
  {
   "cell_type": "markdown",
   "metadata": {},
   "source": [
    "# Lets see if we can Find Clusters in my IMDB Ratings Dataset."
   ]
  },
  {
   "cell_type": "code",
   "execution_count": 181,
   "metadata": {},
   "outputs": [],
   "source": [
    "path = '/Users/apple/Desktop/DS/Datasets/imdb_ratings.csv'\n",
    "\n",
    "import os\n",
    "from pathlib import Path"
   ]
  },
  {
   "cell_type": "code",
   "execution_count": 182,
   "metadata": {},
   "outputs": [
    {
     "name": "stdout",
     "output_type": "stream",
     "text": [
      "/Users/apple/Desktop/DS/My_imdb_analysis_pd_plt_sns[EDA]\n",
      "/Users/apple\n"
     ]
    }
   ],
   "source": [
    "print(Path.cwd())\n",
    "print(Path.home())"
   ]
  },
  {
   "cell_type": "code",
   "execution_count": 183,
   "metadata": {},
   "outputs": [],
   "source": [
    "data = pd.read_csv(path, engine='python', index_col=0)"
   ]
  },
  {
   "cell_type": "code",
   "execution_count": 184,
   "metadata": {},
   "outputs": [
    {
     "data": {
      "text/html": [
       "<div>\n",
       "<style scoped>\n",
       "    .dataframe tbody tr th:only-of-type {\n",
       "        vertical-align: middle;\n",
       "    }\n",
       "\n",
       "    .dataframe tbody tr th {\n",
       "        vertical-align: top;\n",
       "    }\n",
       "\n",
       "    .dataframe thead th {\n",
       "        text-align: right;\n",
       "    }\n",
       "</style>\n",
       "<table border=\"1\" class=\"dataframe\">\n",
       "  <thead>\n",
       "    <tr style=\"text-align: right;\">\n",
       "      <th></th>\n",
       "      <th>Your Rating</th>\n",
       "      <th>Date Rated</th>\n",
       "      <th>Title</th>\n",
       "      <th>URL</th>\n",
       "      <th>Title Type</th>\n",
       "      <th>IMDb Rating</th>\n",
       "      <th>Runtime (mins)</th>\n",
       "      <th>Year</th>\n",
       "      <th>Genres</th>\n",
       "      <th>Num Votes</th>\n",
       "      <th>Release Date</th>\n",
       "      <th>Directors</th>\n",
       "    </tr>\n",
       "  </thead>\n",
       "  <tbody>\n",
       "    <tr>\n",
       "      <th>count</th>\n",
       "      <td>301.000000</td>\n",
       "      <td>301</td>\n",
       "      <td>301</td>\n",
       "      <td>301</td>\n",
       "      <td>301</td>\n",
       "      <td>301.000000</td>\n",
       "      <td>301.000000</td>\n",
       "      <td>301.000000</td>\n",
       "      <td>301</td>\n",
       "      <td>3.010000e+02</td>\n",
       "      <td>300</td>\n",
       "      <td>258</td>\n",
       "    </tr>\n",
       "    <tr>\n",
       "      <th>unique</th>\n",
       "      <td>NaN</td>\n",
       "      <td>126</td>\n",
       "      <td>301</td>\n",
       "      <td>301</td>\n",
       "      <td>6</td>\n",
       "      <td>NaN</td>\n",
       "      <td>NaN</td>\n",
       "      <td>NaN</td>\n",
       "      <td>145</td>\n",
       "      <td>NaN</td>\n",
       "      <td>290</td>\n",
       "      <td>203</td>\n",
       "    </tr>\n",
       "    <tr>\n",
       "      <th>top</th>\n",
       "      <td>NaN</td>\n",
       "      <td>2016-04-27</td>\n",
       "      <td>Shaadi Mein Zaroor Aana</td>\n",
       "      <td>https://www.imdb.com/title/tt1734110/</td>\n",
       "      <td>movie</td>\n",
       "      <td>NaN</td>\n",
       "      <td>NaN</td>\n",
       "      <td>NaN</td>\n",
       "      <td>Comedy, Drama</td>\n",
       "      <td>NaN</td>\n",
       "      <td>2012-09-08</td>\n",
       "      <td>Christopher Nolan</td>\n",
       "    </tr>\n",
       "    <tr>\n",
       "      <th>freq</th>\n",
       "      <td>NaN</td>\n",
       "      <td>32</td>\n",
       "      <td>1</td>\n",
       "      <td>1</td>\n",
       "      <td>250</td>\n",
       "      <td>NaN</td>\n",
       "      <td>NaN</td>\n",
       "      <td>NaN</td>\n",
       "      <td>26</td>\n",
       "      <td>NaN</td>\n",
       "      <td>2</td>\n",
       "      <td>6</td>\n",
       "    </tr>\n",
       "    <tr>\n",
       "      <th>mean</th>\n",
       "      <td>7.996678</td>\n",
       "      <td>NaN</td>\n",
       "      <td>NaN</td>\n",
       "      <td>NaN</td>\n",
       "      <td>NaN</td>\n",
       "      <td>7.882060</td>\n",
       "      <td>116.229236</td>\n",
       "      <td>2008.328904</td>\n",
       "      <td>NaN</td>\n",
       "      <td>2.971019e+05</td>\n",
       "      <td>NaN</td>\n",
       "      <td>NaN</td>\n",
       "    </tr>\n",
       "    <tr>\n",
       "      <th>std</th>\n",
       "      <td>0.939852</td>\n",
       "      <td>NaN</td>\n",
       "      <td>NaN</td>\n",
       "      <td>NaN</td>\n",
       "      <td>NaN</td>\n",
       "      <td>0.696235</td>\n",
       "      <td>61.651688</td>\n",
       "      <td>12.819313</td>\n",
       "      <td>NaN</td>\n",
       "      <td>3.445646e+05</td>\n",
       "      <td>NaN</td>\n",
       "      <td>NaN</td>\n",
       "    </tr>\n",
       "    <tr>\n",
       "      <th>min</th>\n",
       "      <td>5.000000</td>\n",
       "      <td>NaN</td>\n",
       "      <td>NaN</td>\n",
       "      <td>NaN</td>\n",
       "      <td>NaN</td>\n",
       "      <td>5.600000</td>\n",
       "      <td>6.000000</td>\n",
       "      <td>1931.000000</td>\n",
       "      <td>NaN</td>\n",
       "      <td>3.300000e+01</td>\n",
       "      <td>NaN</td>\n",
       "      <td>NaN</td>\n",
       "    </tr>\n",
       "    <tr>\n",
       "      <th>25%</th>\n",
       "      <td>8.000000</td>\n",
       "      <td>NaN</td>\n",
       "      <td>NaN</td>\n",
       "      <td>NaN</td>\n",
       "      <td>NaN</td>\n",
       "      <td>7.500000</td>\n",
       "      <td>98.000000</td>\n",
       "      <td>2007.000000</td>\n",
       "      <td>NaN</td>\n",
       "      <td>4.267900e+04</td>\n",
       "      <td>NaN</td>\n",
       "      <td>NaN</td>\n",
       "    </tr>\n",
       "    <tr>\n",
       "      <th>50%</th>\n",
       "      <td>8.000000</td>\n",
       "      <td>NaN</td>\n",
       "      <td>NaN</td>\n",
       "      <td>NaN</td>\n",
       "      <td>NaN</td>\n",
       "      <td>7.900000</td>\n",
       "      <td>115.000000</td>\n",
       "      <td>2013.000000</td>\n",
       "      <td>NaN</td>\n",
       "      <td>1.852270e+05</td>\n",
       "      <td>NaN</td>\n",
       "      <td>NaN</td>\n",
       "    </tr>\n",
       "    <tr>\n",
       "      <th>75%</th>\n",
       "      <td>9.000000</td>\n",
       "      <td>NaN</td>\n",
       "      <td>NaN</td>\n",
       "      <td>NaN</td>\n",
       "      <td>NaN</td>\n",
       "      <td>8.300000</td>\n",
       "      <td>132.000000</td>\n",
       "      <td>2016.000000</td>\n",
       "      <td>NaN</td>\n",
       "      <td>4.329790e+05</td>\n",
       "      <td>NaN</td>\n",
       "      <td>NaN</td>\n",
       "    </tr>\n",
       "    <tr>\n",
       "      <th>max</th>\n",
       "      <td>10.000000</td>\n",
       "      <td>NaN</td>\n",
       "      <td>NaN</td>\n",
       "      <td>NaN</td>\n",
       "      <td>NaN</td>\n",
       "      <td>9.900000</td>\n",
       "      <td>594.000000</td>\n",
       "      <td>2018.000000</td>\n",
       "      <td>NaN</td>\n",
       "      <td>2.039088e+06</td>\n",
       "      <td>NaN</td>\n",
       "      <td>NaN</td>\n",
       "    </tr>\n",
       "  </tbody>\n",
       "</table>\n",
       "</div>"
      ],
      "text/plain": [
       "        Your Rating  Date Rated                    Title  \\\n",
       "count    301.000000         301                      301   \n",
       "unique          NaN         126                      301   \n",
       "top             NaN  2016-04-27  Shaadi Mein Zaroor Aana   \n",
       "freq            NaN          32                        1   \n",
       "mean       7.996678         NaN                      NaN   \n",
       "std        0.939852         NaN                      NaN   \n",
       "min        5.000000         NaN                      NaN   \n",
       "25%        8.000000         NaN                      NaN   \n",
       "50%        8.000000         NaN                      NaN   \n",
       "75%        9.000000         NaN                      NaN   \n",
       "max       10.000000         NaN                      NaN   \n",
       "\n",
       "                                          URL Title Type  IMDb Rating  \\\n",
       "count                                     301        301   301.000000   \n",
       "unique                                    301          6          NaN   \n",
       "top     https://www.imdb.com/title/tt1734110/      movie          NaN   \n",
       "freq                                        1        250          NaN   \n",
       "mean                                      NaN        NaN     7.882060   \n",
       "std                                       NaN        NaN     0.696235   \n",
       "min                                       NaN        NaN     5.600000   \n",
       "25%                                       NaN        NaN     7.500000   \n",
       "50%                                       NaN        NaN     7.900000   \n",
       "75%                                       NaN        NaN     8.300000   \n",
       "max                                       NaN        NaN     9.900000   \n",
       "\n",
       "        Runtime (mins)         Year         Genres     Num Votes Release Date  \\\n",
       "count       301.000000   301.000000            301  3.010000e+02          300   \n",
       "unique             NaN          NaN            145           NaN          290   \n",
       "top                NaN          NaN  Comedy, Drama           NaN   2012-09-08   \n",
       "freq               NaN          NaN             26           NaN            2   \n",
       "mean        116.229236  2008.328904            NaN  2.971019e+05          NaN   \n",
       "std          61.651688    12.819313            NaN  3.445646e+05          NaN   \n",
       "min           6.000000  1931.000000            NaN  3.300000e+01          NaN   \n",
       "25%          98.000000  2007.000000            NaN  4.267900e+04          NaN   \n",
       "50%         115.000000  2013.000000            NaN  1.852270e+05          NaN   \n",
       "75%         132.000000  2016.000000            NaN  4.329790e+05          NaN   \n",
       "max         594.000000  2018.000000            NaN  2.039088e+06          NaN   \n",
       "\n",
       "                Directors  \n",
       "count                 258  \n",
       "unique                203  \n",
       "top     Christopher Nolan  \n",
       "freq                    6  \n",
       "mean                  NaN  \n",
       "std                   NaN  \n",
       "min                   NaN  \n",
       "25%                   NaN  \n",
       "50%                   NaN  \n",
       "75%                   NaN  \n",
       "max                   NaN  "
      ]
     },
     "execution_count": 184,
     "metadata": {},
     "output_type": "execute_result"
    }
   ],
   "source": [
    "data.describe(include='all')"
   ]
  },
  {
   "cell_type": "markdown",
   "metadata": {},
   "source": [
    "#### Lets first filter only movies "
   ]
  },
  {
   "cell_type": "code",
   "execution_count": 185,
   "metadata": {},
   "outputs": [],
   "source": [
    "# create filter \n",
    "\n",
    "film_filt = (data['Title Type'] == 'movie')\n",
    "\n",
    "# getting film data using loc indexer \n",
    "# syntax .loc[condition in form of df['']== , list of columns you want displayed]\n",
    "\n",
    "data_film = data.loc[(film_filt)]"
   ]
  },
  {
   "cell_type": "code",
   "execution_count": 186,
   "metadata": {},
   "outputs": [
    {
     "data": {
      "text/html": [
       "<div>\n",
       "<style scoped>\n",
       "    .dataframe tbody tr th:only-of-type {\n",
       "        vertical-align: middle;\n",
       "    }\n",
       "\n",
       "    .dataframe tbody tr th {\n",
       "        vertical-align: top;\n",
       "    }\n",
       "\n",
       "    .dataframe thead th {\n",
       "        text-align: right;\n",
       "    }\n",
       "</style>\n",
       "<table border=\"1\" class=\"dataframe\">\n",
       "  <thead>\n",
       "    <tr style=\"text-align: right;\">\n",
       "      <th></th>\n",
       "      <th>Your Rating</th>\n",
       "      <th>IMDb Rating</th>\n",
       "      <th>Runtime (mins)</th>\n",
       "      <th>Year</th>\n",
       "      <th>Num Votes</th>\n",
       "    </tr>\n",
       "  </thead>\n",
       "  <tbody>\n",
       "    <tr>\n",
       "      <th>count</th>\n",
       "      <td>250.000000</td>\n",
       "      <td>250.000000</td>\n",
       "      <td>250.000000</td>\n",
       "      <td>250.000000</td>\n",
       "      <td>2.500000e+02</td>\n",
       "    </tr>\n",
       "    <tr>\n",
       "      <th>mean</th>\n",
       "      <td>7.896000</td>\n",
       "      <td>7.712400</td>\n",
       "      <td>122.052000</td>\n",
       "      <td>2007.660000</td>\n",
       "      <td>3.210570e+05</td>\n",
       "    </tr>\n",
       "    <tr>\n",
       "      <th>std</th>\n",
       "      <td>0.912422</td>\n",
       "      <td>0.588619</td>\n",
       "      <td>26.250135</td>\n",
       "      <td>13.661734</td>\n",
       "      <td>3.532972e+05</td>\n",
       "    </tr>\n",
       "    <tr>\n",
       "      <th>min</th>\n",
       "      <td>5.000000</td>\n",
       "      <td>5.600000</td>\n",
       "      <td>60.000000</td>\n",
       "      <td>1931.000000</td>\n",
       "      <td>3.300000e+01</td>\n",
       "    </tr>\n",
       "    <tr>\n",
       "      <th>25%</th>\n",
       "      <td>7.000000</td>\n",
       "      <td>7.400000</td>\n",
       "      <td>105.000000</td>\n",
       "      <td>2006.000000</td>\n",
       "      <td>4.887300e+04</td>\n",
       "    </tr>\n",
       "    <tr>\n",
       "      <th>50%</th>\n",
       "      <td>8.000000</td>\n",
       "      <td>7.800000</td>\n",
       "      <td>118.000000</td>\n",
       "      <td>2012.000000</td>\n",
       "      <td>2.224305e+05</td>\n",
       "    </tr>\n",
       "    <tr>\n",
       "      <th>75%</th>\n",
       "      <td>8.000000</td>\n",
       "      <td>8.100000</td>\n",
       "      <td>135.000000</td>\n",
       "      <td>2016.000000</td>\n",
       "      <td>4.596830e+05</td>\n",
       "    </tr>\n",
       "    <tr>\n",
       "      <th>max</th>\n",
       "      <td>10.000000</td>\n",
       "      <td>9.300000</td>\n",
       "      <td>321.000000</td>\n",
       "      <td>2018.000000</td>\n",
       "      <td>2.039088e+06</td>\n",
       "    </tr>\n",
       "  </tbody>\n",
       "</table>\n",
       "</div>"
      ],
      "text/plain": [
       "       Your Rating  IMDb Rating  Runtime (mins)         Year     Num Votes\n",
       "count   250.000000   250.000000      250.000000   250.000000  2.500000e+02\n",
       "mean      7.896000     7.712400      122.052000  2007.660000  3.210570e+05\n",
       "std       0.912422     0.588619       26.250135    13.661734  3.532972e+05\n",
       "min       5.000000     5.600000       60.000000  1931.000000  3.300000e+01\n",
       "25%       7.000000     7.400000      105.000000  2006.000000  4.887300e+04\n",
       "50%       8.000000     7.800000      118.000000  2012.000000  2.224305e+05\n",
       "75%       8.000000     8.100000      135.000000  2016.000000  4.596830e+05\n",
       "max      10.000000     9.300000      321.000000  2018.000000  2.039088e+06"
      ]
     },
     "execution_count": 186,
     "metadata": {},
     "output_type": "execute_result"
    }
   ],
   "source": [
    "# 250 Movies \n",
    "data_film.describe()"
   ]
  },
  {
   "cell_type": "code",
   "execution_count": 187,
   "metadata": {},
   "outputs": [
    {
     "name": "stderr",
     "output_type": "stream",
     "text": [
      "/Library/Frameworks/Python.framework/Versions/3.6/lib/python3.6/site-packages/pandas/core/frame.py:2963: SettingWithCopyWarning: \n",
      "A value is trying to be set on a copy of a slice from a DataFrame.\n",
      "Try using .loc[row_indexer,col_indexer] = value instead\n",
      "\n",
      "See the caveats in the documentation: https://pandas.pydata.org/pandas-docs/stable/user_guide/indexing.html#returning-a-view-versus-a-copy\n",
      "  self[k1] = value[k2]\n",
      "/Library/Frameworks/Python.framework/Versions/3.6/lib/python3.6/site-packages/pandas/core/frame.py:3997: SettingWithCopyWarning: \n",
      "A value is trying to be set on a copy of a slice from a DataFrame\n",
      "\n",
      "See the caveats in the documentation: https://pandas.pydata.org/pandas-docs/stable/user_guide/indexing.html#returning-a-view-versus-a-copy\n",
      "  errors=errors,\n"
     ]
    }
   ],
   "source": [
    "data_film[['Genre1','Genre2','Genre3','Genre4','Genre5','Genre6','Genre7']] = data_film.Genres.str.split(',', expand=True)\n",
    "data_film.drop(['Genre2','Genre3', 'Genre4','Genre5','Genre6','Genre7'], axis= 1, inplace = True)\n",
    "# Loss of info by dropping secondary, tertiary genres but will result in duplication, is complex."
   ]
  },
  {
   "cell_type": "code",
   "execution_count": 188,
   "metadata": {},
   "outputs": [
    {
     "name": "stderr",
     "output_type": "stream",
     "text": [
      "/Library/Frameworks/Python.framework/Versions/3.6/lib/python3.6/site-packages/pandas/core/frame.py:2963: SettingWithCopyWarning: \n",
      "A value is trying to be set on a copy of a slice from a DataFrame.\n",
      "Try using .loc[row_indexer,col_indexer] = value instead\n",
      "\n",
      "See the caveats in the documentation: https://pandas.pydata.org/pandas-docs/stable/user_guide/indexing.html#returning-a-view-versus-a-copy\n",
      "  self[k1] = value[k2]\n",
      "/Library/Frameworks/Python.framework/Versions/3.6/lib/python3.6/site-packages/pandas/core/frame.py:3997: SettingWithCopyWarning: \n",
      "A value is trying to be set on a copy of a slice from a DataFrame\n",
      "\n",
      "See the caveats in the documentation: https://pandas.pydata.org/pandas-docs/stable/user_guide/indexing.html#returning-a-view-versus-a-copy\n",
      "  errors=errors,\n"
     ]
    }
   ],
   "source": [
    "# Loss of info, Lee ukreich, ethan and joel coen etc are big loosers. Complex fix later.\n",
    "data_film[['Director1','Director2','Director3', 'Director4']] = data_film.Directors.str.split(',', expand=True)\n",
    "data_film.drop(['Director2','Director3', 'Director4'], axis = 1, inplace = True)"
   ]
  },
  {
   "cell_type": "code",
   "execution_count": 190,
   "metadata": {},
   "outputs": [
    {
     "name": "stderr",
     "output_type": "stream",
     "text": [
      "/Library/Frameworks/Python.framework/Versions/3.6/lib/python3.6/site-packages/pandas/core/frame.py:3997: SettingWithCopyWarning: \n",
      "A value is trying to be set on a copy of a slice from a DataFrame\n",
      "\n",
      "See the caveats in the documentation: https://pandas.pydata.org/pandas-docs/stable/user_guide/indexing.html#returning-a-view-versus-a-copy\n",
      "  errors=errors,\n"
     ]
    }
   ],
   "source": [
    "data_film.drop(['Genres', 'Directors'], axis = 1, inplace = True)"
   ]
  },
  {
   "cell_type": "code",
   "execution_count": 191,
   "metadata": {},
   "outputs": [
    {
     "data": {
      "text/plain": [
       "<matplotlib.axes._subplots.AxesSubplot at 0x158005390>"
      ]
     },
     "execution_count": 191,
     "metadata": {},
     "output_type": "execute_result"
    },
    {
     "data": {
      "image/png": "[encoded data removed]",
      "text/plain": [
       "<Figure size 1152x864 with 1 Axes>"
      ]
     },
     "metadata": {
      "needs_background": "light"
     },
     "output_type": "display_data"
    }
   ],
   "source": [
    "plt.figure(figsize=(16,12))\n",
    "sns.countplot(x = 'Genre1', data = data_film, hue=\"Your Rating\", palette=\"pastel\")"
   ]
  },
  {
   "cell_type": "code",
   "execution_count": 192,
   "metadata": {},
   "outputs": [
    {
     "data": {
      "text/plain": [
       "<matplotlib.axes._subplots.AxesSubplot at 0x159dd5d30>"
      ]
     },
     "execution_count": 192,
     "metadata": {},
     "output_type": "execute_result"
    },
    {
     "data": {
      "image/png": "[encoded data removed]",
      "text/plain": [
       "<Figure size 1152x864 with 1 Axes>"
      ]
     },
     "metadata": {
      "needs_background": "light"
     },
     "output_type": "display_data"
    }
   ],
   "source": [
    "plt.figure(figsize = (16,12))\n",
    "data_film.Director1.value_counts()[:20].plot(kind = 'bar')"
   ]
  },
  {
   "cell_type": "markdown",
   "metadata": {},
   "source": [
    "### One - Hot encode Genre1"
   ]
  },
  {
   "cell_type": "code",
   "execution_count": 193,
   "metadata": {
    "scrolled": true
   },
   "outputs": [],
   "source": [
    "data_film = pd.get_dummies(data_film, prefix='Genre:', columns=['Genre1'])"
   ]
  },
  {
   "cell_type": "code",
   "execution_count": 194,
   "metadata": {},
   "outputs": [],
   "source": [
    "data_film = pd.get_dummies(data_film, prefix='Director:', columns=['Director1'])"
   ]
  },
  {
   "cell_type": "code",
   "execution_count": 195,
   "metadata": {},
   "outputs": [
    {
     "data": {
      "text/plain": [
       "<matplotlib.axes._subplots.AxesSubplot at 0x15b1ad710>"
      ]
     },
     "execution_count": 195,
     "metadata": {},
     "output_type": "execute_result"
    },
    {
     "data": {
      "image/png": "[encoded data removed]",
      "text/plain": [
       "<Figure size 864x576 with 1 Axes>"
      ]
     },
     "metadata": {
      "needs_background": "light"
     },
     "output_type": "display_data"
    }
   ],
   "source": [
    "plt.figure(figsize=(12, 8))\n",
    "sns.boxplot(x = 'Runtime (mins)', data = data_film)"
   ]
  },
  {
   "cell_type": "code",
   "execution_count": 15,
   "metadata": {},
   "outputs": [
    {
     "data": {
      "text/plain": [
       "<matplotlib.axes._subplots.AxesSubplot at 0x1101bea90>"
      ]
     },
     "execution_count": 15,
     "metadata": {},
     "output_type": "execute_result"
    },
    {
     "data": {
      "image/png": "[encoded data removed]",
      "text/plain": [
       "<Figure size 864x576 with 1 Axes>"
      ]
     },
     "metadata": {
      "needs_background": "light"
     },
     "output_type": "display_data"
    }
   ],
   "source": [
    "plt.figure(figsize=(12, 8))\n",
    "sns.boxplot(x = 'Your Rating', y = 'Runtime (mins)', data = data_film)"
   ]
  },
  {
   "cell_type": "markdown",
   "metadata": {},
   "source": [
    "#### Lets check if there is a linear relationship between my rating and runtime"
   ]
  },
  {
   "cell_type": "code",
   "execution_count": 16,
   "metadata": {},
   "outputs": [
    {
     "data": {
      "text/plain": [
       "<matplotlib.axes._subplots.AxesSubplot at 0x1101c7f98>"
      ]
     },
     "execution_count": 16,
     "metadata": {},
     "output_type": "execute_result"
    },
    {
     "data": {
      "image/png": "[encoded data removed]",
      "text/plain": [
       "<Figure size 432x288 with 1 Axes>"
      ]
     },
     "metadata": {
      "needs_background": "light"
     },
     "output_type": "display_data"
    }
   ],
   "source": [
    "sns.regplot(y = 'Your Rating', x = 'Runtime (mins)', data = data_film)\n",
    "# No SIgnificant Relationship"
   ]
  },
  {
   "cell_type": "markdown",
   "metadata": {},
   "source": [
    "#### Lets check if there is a linear relationship between my rating and IMDB rating"
   ]
  },
  {
   "cell_type": "code",
   "execution_count": 17,
   "metadata": {},
   "outputs": [
    {
     "data": {
      "text/plain": [
       "<matplotlib.axes._subplots.AxesSubplot at 0x12377eef0>"
      ]
     },
     "execution_count": 17,
     "metadata": {},
     "output_type": "execute_result"
    },
    {
     "data": {
      "image/png": "[encoded data removed]",
      "text/plain": [
       "<Figure size 432x288 with 1 Axes>"
      ]
     },
     "metadata": {
      "needs_background": "light"
     },
     "output_type": "display_data"
    }
   ],
   "source": [
    "sns.regplot(y = 'Your Rating', x = 'IMDb Rating', data = data_film)\n",
    "# Very strong Positive relationship. Not a hipster after all."
   ]
  },
  {
   "cell_type": "markdown",
   "metadata": {},
   "source": [
    "#### Lets check if there is a linear relationship between my rating and Year of films release."
   ]
  },
  {
   "cell_type": "code",
   "execution_count": 18,
   "metadata": {},
   "outputs": [
    {
     "data": {
      "text/plain": [
       "<matplotlib.axes._subplots.AxesSubplot at 0x123943f98>"
      ]
     },
     "execution_count": 18,
     "metadata": {},
     "output_type": "execute_result"
    },
    {
     "data": {
      "image/png": "[encoded data removed]",
      "text/plain": [
       "<Figure size 432x288 with 1 Axes>"
      ]
     },
     "metadata": {
      "needs_background": "light"
     },
     "output_type": "display_data"
    }
   ],
   "source": [
    "sns.regplot(y = 'Your Rating', x = 'Year', data = data_film)"
   ]
  },
  {
   "cell_type": "markdown",
   "metadata": {},
   "source": [
    "#### Insight: I tend to rate older movies highly and newer movies worse."
   ]
  },
  {
   "cell_type": "markdown",
   "metadata": {},
   "source": [
    "#### Lets check if there is a linear relationship between my rating and The number of votes/Popularity."
   ]
  },
  {
   "cell_type": "code",
   "execution_count": 19,
   "metadata": {},
   "outputs": [
    {
     "data": {
      "text/plain": [
       "<matplotlib.axes._subplots.AxesSubplot at 0x123a177b8>"
      ]
     },
     "execution_count": 19,
     "metadata": {},
     "output_type": "execute_result"
    },
    {
     "data": {
      "image/png": "[encoded data removed]",
      "text/plain": [
       "<Figure size 432x288 with 1 Axes>"
      ]
     },
     "metadata": {
      "needs_background": "light"
     },
     "output_type": "display_data"
    }
   ],
   "source": [
    "sns.regplot(y = 'Your Rating', x = 'Num Votes', data = data_film)"
   ]
  },
  {
   "cell_type": "markdown",
   "metadata": {},
   "source": [
    "#### Insight: Popular movies tend to get rated higher, decent positive trend."
   ]
  },
  {
   "cell_type": "code",
   "execution_count": 20,
   "metadata": {},
   "outputs": [
    {
     "data": {
      "text/plain": [
       "<matplotlib.axes._subplots.AxesSubplot at 0x123afb5c0>"
      ]
     },
     "execution_count": 20,
     "metadata": {},
     "output_type": "execute_result"
    },
    {
     "data": {
      "image/png": "[encoded data removed]",
      "text/plain": [
       "<Figure size 432x288 with 1 Axes>"
      ]
     },
     "metadata": {
      "needs_background": "light"
     },
     "output_type": "display_data"
    }
   ],
   "source": [
    "sns.regplot(y = 'IMDb Rating', x = 'Num Votes', data = data_film)"
   ]
  },
  {
   "cell_type": "markdown",
   "metadata": {},
   "source": [
    "#### Getting Data for Clustering, Need a feature vector (starting with two simple Feature)\n",
    "#### 1. Clustering Based on runtime and runtime. Lets see If I give tend to give a certain rating to movies of a certain length."
   ]
  },
  {
   "cell_type": "markdown",
   "metadata": {},
   "source": [
    "#### Comparing BoxPlots"
   ]
  },
  {
   "cell_type": "code",
   "execution_count": 151,
   "metadata": {},
   "outputs": [
    {
     "data": {
      "text/plain": [
       "<matplotlib.axes._subplots.AxesSubplot at 0x154f6fa58>"
      ]
     },
     "execution_count": 151,
     "metadata": {},
     "output_type": "execute_result"
    },
    {
     "data": {
      "image/png": "[encoded data removed]",
      "text/plain": [
       "<Figure size 1008x504 with 1 Axes>"
      ]
     },
     "metadata": {
      "needs_background": "light"
     },
     "output_type": "display_data"
    }
   ],
   "source": [
    "plt.figure(figsize=(14,7))\n",
    "sns.boxplot(x = 'Your Rating', y = 'IMDb Rating', data = data_film)\n",
    "#sns.boxplot(x = 'IMDb Rating', data = data_film, color = 'gray')"
   ]
  },
  {
   "cell_type": "markdown",
   "metadata": {},
   "source": [
    "#### Insight: I generally follow the same tresnds as the IMDb ratings. The movies I've rated the highest tend to be highly rated movies in general. There is a large percentage of movies I've rated lower that the IMDb public likes."
   ]
  },
  {
   "cell_type": "markdown",
   "metadata": {},
   "source": [
    "#### Lets just plot the features and try and find clusters."
   ]
  },
  {
   "cell_type": "code",
   "execution_count": 22,
   "metadata": {},
   "outputs": [
    {
     "data": {
      "text/plain": [
       "Text(0, 0.5, 'Rating')"
      ]
     },
     "execution_count": 22,
     "metadata": {},
     "output_type": "execute_result"
    },
    {
     "data": {
      "image/png": "[encoded data removed]",
      "text/plain": [
       "<Figure size 864x576 with 1 Axes>"
      ]
     },
     "metadata": {
      "needs_background": "light"
     },
     "output_type": "display_data"
    }
   ],
   "source": [
    "plt.figure(figsize=(12,8))\n",
    "plt.plot( data_film['Runtime (mins)'], data_film['Your Rating'].to_list(), 'r.')\n",
    "plt.xlabel('Runtime in mins')\n",
    "plt.ylabel('Rating')"
   ]
  },
  {
   "cell_type": "code",
   "execution_count": 204,
   "metadata": {},
   "outputs": [
    {
     "data": {
      "text/plain": [
       "Your Rating                              int64\n",
       "Title                                   object\n",
       "URL                                     object\n",
       "Title Type                              object\n",
       "IMDb Rating                            float64\n",
       "Runtime (mins)                           int64\n",
       "Year                                     int64\n",
       "Num Votes                                int64\n",
       "Genre:_Action                            uint8\n",
       "Genre:_Adventure                         uint8\n",
       "Genre:_Animation                         uint8\n",
       "Genre:_Biography                         uint8\n",
       "Genre:_Comedy                            uint8\n",
       "Genre:_Crime                             uint8\n",
       "Genre:_Documentary                       uint8\n",
       "Genre:_Drama                             uint8\n",
       "Genre:_Family                            uint8\n",
       "Genre:_Horror                            uint8\n",
       "Genre:_Mystery                           uint8\n",
       "Genre:_Sci-Fi                            uint8\n",
       "Director:_Aamir Khan                     uint8\n",
       "Director:_Abhinay Deo                    uint8\n",
       "Director:_Abhishek Kapoor                uint8\n",
       "Director:_Abhishek Sharma                uint8\n",
       "Director:_Adam McKay                     uint8\n",
       "Director:_Adam Shankman                  uint8\n",
       "Director:_Adrian Molina                  uint8\n",
       "Director:_Akarsh Khurana                 uint8\n",
       "Director:_Alejandro G. I��rritu          uint8\n",
       "Director:_Alex Garland                   uint8\n",
       "Director:_Alexander Payne                uint8\n",
       "Director:_Amit Masurkar                  uint8\n",
       "Director:_Amit Ravindernath Sharma       uint8\n",
       "Director:_Andrew Stanton                 uint8\n",
       "Director:_Aniruddha Roy Chowdhury        uint8\n",
       "Director:_Anurag Kashyap                 uint8\n",
       "Director:_Ashutosh Gowariker             uint8\n",
       "Director:_Asif Kapadia                   uint8\n",
       "Director:_Ayan Mukherjee                 uint8\n",
       "Director:_Barry Jenkins                  uint8\n",
       "Director:_Barry Levinson                 uint8\n",
       "Director:_Ben Affleck                    uint8\n",
       "Director:_Bonni Cohen                    uint8\n",
       "Director:_Brad Bird                      uint8\n",
       "Director:_Brian Fee                      uint8\n",
       "Director:_Caleb Vetter                   uint8\n",
       "Director:_Cameron Crowe                  uint8\n",
       "Director:_Chad Stahelski                 uint8\n",
       "Director:_Charles Chaplin                uint8\n",
       "Director:_Chris Sanders                  uint8\n",
       "Director:_Christopher Nolan              uint8\n",
       "Director:_Colin Trevorrow                uint8\n",
       "Director:_Curtis Hanson                  uint8\n",
       "Director:_Damien Chazelle                uint8\n",
       "Director:_Dan Scanlon                    uint8\n",
       "Director:_Dan Trachtenberg               uint8\n",
       "Director:_Danny Boyle                    uint8\n",
       "Director:_David Fincher                  uint8\n",
       "Director:_David Frankel                  uint8\n",
       "Director:_David Leitch                   uint8\n",
       "Director:_David O. Russell               uint8\n",
       "Director:_David Yates                    uint8\n",
       "Director:_Dean DeBlois                   uint8\n",
       "Director:_Denis Villeneuve               uint8\n",
       "Director:_Dibakar Banerjee               uint8\n",
       "Director:_Doug Liman                     uint8\n",
       "Director:_Edgar Wright                   uint8\n",
       "Director:_Edward Zwick                   uint8\n",
       "Director:_Elizabeth Allen Rosenbaum      uint8\n",
       "Director:_Ethan Coen                     uint8\n",
       "Director:_Evan Goldberg                  uint8\n",
       "Director:_Fede Alvarez                   uint8\n",
       "Director:_Frank Darabont                 uint8\n",
       "Director:_Garth Davis                    uint8\n",
       "Director:_Garth Jennings                 uint8\n",
       "Director:_George Miller                  uint8\n",
       "Director:_Glenn Ficarra                  uint8\n",
       "Director:_Greg Berlanti                  uint8\n",
       "Director:_Greta Gerwig                   uint8\n",
       "Director:_Gus Van Sant                   uint8\n",
       "Director:_Guy Ritchie                    uint8\n",
       "Director:_Habib Faisal                   uint8\n",
       "Director:_Hrishikesh Mukherjee           uint8\n",
       "Director:_Imtiaz Ali                     uint8\n",
       "Director:_Ivan Reitman                   uint8\n",
       "Director:_J.J. Abrams                    uint8\n",
       "Director:_James Cameron                  uint8\n",
       "Director:_James Gunn                     uint8\n",
       "Director:_James Mangold                  uint8\n",
       "Director:_James Marsh                    uint8\n",
       "Director:_James McTeigue                 uint8\n",
       "Director:_James Wan                      uint8\n",
       "Director:_Jason Moore                    uint8\n",
       "Director:_Jason Reitman                  uint8\n",
       "Director:_Jaume Collet-Serra             uint8\n",
       "Director:_Jean-Marc Vall�e               uint8\n",
       "Director:_Jean-Pierre Jeunet             uint8\n",
       "Director:_Jennifer Lee                   uint8\n",
       "Director:_Jim Field Smith                uint8\n",
       "Director:_John Carney                    uint8\n",
       "Director:_John Crowley                   uint8\n",
       "Director:_John G. Avildsen               uint8\n",
       "Director:_John Hughes                    uint8\n",
       "Director:_John Lasseter                  uint8\n",
       "Director:_John Madden                    uint8\n",
       "Director:_Jon M. Chu                     uint8\n",
       "Director:_Jonathan Levine                uint8\n",
       "Director:_Jordan Peele                   uint8\n",
       "Director:_Jordan Vogt-Roberts            uint8\n",
       "Director:_Joseph Gordon-Levitt           uint8\n",
       "Director:_Joss Whedon                    uint8\n",
       "Director:_Karan Johar                    uint8\n",
       "Director:_Kathryn Bigelow                uint8\n",
       "Director:_Kelly Fremon Craig             uint8\n",
       "Director:_Kenneth Lonergan               uint8\n",
       "Director:_Kyle Patrick Alvarez           uint8\n",
       "Director:_Lasse Hallstr�m                uint8\n",
       "Director:_Lee H. Katzin                  uint8\n",
       "Director:_Lee Toland Krieger             uint8\n",
       "Director:_Lenny Abrahamson               uint8\n",
       "Director:_Leslye Headland                uint8\n",
       "Director:_Lone Scherfig                  uint8\n",
       "Director:_Louie Psihoyos                 uint8\n",
       "Director:_Louis Leterrier                uint8\n",
       "Director:_Loveleen Tandan                uint8\n",
       "Director:_Luke Greenfield                uint8\n",
       "Director:_Luv Ranjan                     uint8\n",
       "Director:_Marc Lawrence                  uint8\n",
       "Director:_Marc Webb                      uint8\n",
       "Director:_Martin Scorsese                uint8\n",
       "Director:_Meghna Gulzar                  uint8\n",
       "Director:_Mel Stuart                     uint8\n",
       "Director:_Michael Gracey                 uint8\n",
       "Director:_Michael Showalter              uint8\n",
       "Director:_Michel Gondry                  uint8\n",
       "Director:_Mike Mills                     uint8\n",
       "Director:_Mike Nichols                   uint8\n",
       "Director:_Milos Forman                   uint8\n",
       "Director:_Morgan Matthews                uint8\n",
       "Director:_Morten Tyldum                  uint8\n",
       "Director:_Mrighdeep Lamba                uint8\n",
       "Director:_Nagesh Kukunoor                uint8\n",
       "Director:_Nancy Meyers                   uint8\n",
       "Director:_Nandita Das                    uint8\n",
       "Director:_Nate Adams                     uint8\n",
       "Director:_Neeraj Ghaywan                 uint8\n",
       "Director:_Neeraj Pandey                  uint8\n",
       "Director:_Nicholas Stoller               uint8\n",
       "Director:_Nicolas Winding Refn           uint8\n",
       "Director:_Nitesh Tiwari                  uint8\n",
       "Director:_Patty Jenkins                  uint8\n",
       "Director:_Paul Crowder                   uint8\n",
       "Director:_Pete Docter                    uint8\n",
       "Director:_Peter Segal                    uint8\n",
       "Director:_Peter Weir                     uint8\n",
       "Director:_Quentin Tarantino              uint8\n",
       "Director:_R. Balki                       uint8\n",
       "Director:_Raj Kumar Gupta                uint8\n",
       "Director:_Rajkumar Hirani                uint8\n",
       "Director:_Ram Madhvani                   uint8\n",
       "Director:_Ramesh Sippy                   uint8\n",
       "Director:_Ratnaa Sinha                   uint8\n",
       "Director:_Rian Johnson                   uint8\n",
       "Director:_Rich Moore                     uint8\n",
       "Director:_Richard Attenborough           uint8\n",
       "Director:_Richard Curtis                 uint8\n",
       "Director:_Richard Linklater              uint8\n",
       "Director:_Rick Famuyiwa                  uint8\n",
       "Director:_Ridley Scott                   uint8\n",
       "Director:_Rob Minkoff                    uint8\n",
       "Director:_Rob Reiner                     uint8\n",
       "Director:_Robert Wise                    uint8\n",
       "Director:_Robert Zemeckis                uint8\n",
       "Director:_Roberto Benigni                uint8\n",
       "Director:_Rod Blackhurst                 uint8\n",
       "Director:_Ron Howard                     uint8\n",
       "Director:_Ruben Fleischer                uint8\n",
       "Director:_Saket Chaudhary                uint8\n",
       "Director:_Sam Mendes                     uint8\n",
       "Director:_Sanjay Leela Bhansali          uint8\n",
       "Director:_Satyajit Ray                   uint8\n",
       "Director:_Scott Derrickson               uint8\n",
       "Director:_Shakun Batra                   uint8\n",
       "Director:_Shane Black                    uint8\n",
       "Director:_Shiboprosad Mukherjee          uint8\n",
       "Director:_Shimit Amin                    uint8\n",
       "Director:_Shoojit Sircar                 uint8\n",
       "Director:_Siddharth Malhotra             uint8\n",
       "Director:_Sofia Coppola                  uint8\n",
       "Director:_Spike Jonze                    uint8\n",
       "Director:_Srijit Mukherji                uint8\n",
       "Director:_Sriram Raghavan                uint8\n",
       "Director:_Stanley Kubrick                uint8\n",
       "Director:_Stephen Chbosky                uint8\n",
       "Director:_Steven Spielberg               uint8\n",
       "Director:_Subhash Kapoor                 uint8\n",
       "Director:_Sujoy Ghosh                    uint8\n",
       "Director:_Tim Burton                     uint8\n",
       "Director:_Tim Miller                     uint8\n",
       "Director:_Tom Ford                       uint8\n",
       "Director:_Tom Hooper                     uint8\n",
       "Director:_Tom McCarthy                   uint8\n",
       "Director:_Umesh Aggarwal                 uint8\n",
       "Director:_Umesh Shukla                   uint8\n",
       "Director:_Vikas Bahl                     uint8\n",
       "Director:_Vikramaditya Motwane           uint8\n",
       "Director:_Wes Anderson                   uint8\n",
       "Director:_Woody Allen                    uint8\n",
       "Director:_Zoya Akhtar                    uint8\n",
       "Rated_Year                              object\n",
       "Release_Year                            object\n",
       "dtype: object"
      ]
     },
     "execution_count": 204,
     "metadata": {},
     "output_type": "execute_result"
    }
   ],
   "source": [
    "data_film.dtypes"
   ]
  },
  {
   "cell_type": "code",
   "execution_count": null,
   "metadata": {},
   "outputs": [],
   "source": [
    "# Dropping Rated and Release month and day, could have information, like I like rating movies higher on weekends etc?"
   ]
  },
  {
   "cell_type": "code",
   "execution_count": 197,
   "metadata": {},
   "outputs": [],
   "source": [
    "data_film[['Rated_Year', 'Rated_month', 'Rated_Day']] = data_film['Date Rated'].str.split('-', expand = True)\n",
    "data_film.drop(['Rated_month', 'Rated_Day'], axis = 1, inplace = True)"
   ]
  },
  {
   "cell_type": "code",
   "execution_count": 198,
   "metadata": {},
   "outputs": [],
   "source": [
    "#data_film.rename({'Year': 'Rated_Year'}, axis=1, inplace=True)\n",
    "data_film.drop('Date Rated', axis = 1, inplace = True)"
   ]
  },
  {
   "cell_type": "code",
   "execution_count": 200,
   "metadata": {},
   "outputs": [],
   "source": [
    "data_film[['Release_Year', 'Release_month', 'Release_Day']] = data_film['Release Date'].str.split('-', expand = True)\n",
    "data_film.drop(['Release_month', 'Release_Day'], axis = 1, inplace = True)"
   ]
  },
  {
   "cell_type": "code",
   "execution_count": 203,
   "metadata": {},
   "outputs": [],
   "source": [
    "data_film.drop('Release Date', axis = 1, inplace = True)"
   ]
  },
  {
   "cell_type": "code",
   "execution_count": 207,
   "metadata": {},
   "outputs": [],
   "source": [
    "data_film.drop(['Title Type', 'URL'], axis = 1, inplace = True)"
   ]
  },
  {
   "cell_type": "markdown",
   "metadata": {},
   "source": [
    "### Making Copy as we'll drop Title and convert to numeric"
   ]
  },
  {
   "cell_type": "code",
   "execution_count": 208,
   "metadata": {},
   "outputs": [],
   "source": [
    "data_film_num = data_film"
   ]
  },
  {
   "cell_type": "code",
   "execution_count": 209,
   "metadata": {},
   "outputs": [],
   "source": [
    "data_film_num.drop(['Title'], axis = 1, inplace=True)"
   ]
  },
  {
   "cell_type": "code",
   "execution_count": 220,
   "metadata": {},
   "outputs": [],
   "source": [
    "data_film_num.drop(['Release_Year'], axis = 1, inplace=True)"
   ]
  },
  {
   "cell_type": "code",
   "execution_count": 222,
   "metadata": {},
   "outputs": [],
   "source": [
    "data_film_num['Rated_Year'] = data_film_num['Rated_Year'].astype(int)"
   ]
  },
  {
   "cell_type": "markdown",
   "metadata": {},
   "source": [
    "#### Checking Out this New Info"
   ]
  },
  {
   "cell_type": "code",
   "execution_count": 228,
   "metadata": {},
   "outputs": [
    {
     "data": {
      "text/plain": [
       "<matplotlib.axes._subplots.AxesSubplot at 0x15f1358d0>"
      ]
     },
     "execution_count": 228,
     "metadata": {},
     "output_type": "execute_result"
    },
    {
     "data": {
      "image/png": "[encoded data removed]",
      "text/plain": [
       "<Figure size 1152x576 with 1 Axes>"
      ]
     },
     "metadata": {
      "needs_background": "light"
     },
     "output_type": "display_data"
    }
   ],
   "source": [
    "plt.figure(figsize=(16,8))\n",
    "sns.boxplot(x = 'Rated_Year', y = 'Your Rating', data =data_film_num )"
   ]
  },
  {
   "cell_type": "code",
   "execution_count": 233,
   "metadata": {},
   "outputs": [
    {
     "data": {
      "text/plain": [
       "<matplotlib.axes._subplots.AxesSubplot at 0x16ab36048>"
      ]
     },
     "execution_count": 233,
     "metadata": {},
     "output_type": "execute_result"
    },
    {
     "data": {
      "image/png": "[encoded data removed]",
      "text/plain": [
       "<Figure size 1440x720 with 1 Axes>"
      ]
     },
     "metadata": {
      "needs_background": "light"
     },
     "output_type": "display_data"
    }
   ],
   "source": [
    "plt.figure(figsize=(20,10))\n",
    "sns.boxplot(x = 'Year', y = 'Your Rating', data =data_film_num )"
   ]
  },
  {
   "cell_type": "markdown",
   "metadata": {},
   "source": [
    "### Lets standardise these Values"
   ]
  },
  {
   "cell_type": "code",
   "execution_count": 152,
   "metadata": {},
   "outputs": [],
   "source": [
    "from sklearn.preprocessing import StandardScaler"
   ]
  },
  {
   "cell_type": "code",
   "execution_count": 234,
   "metadata": {},
   "outputs": [],
   "source": [
    "data_film_scaled = StandardScaler().fit_transform(data_film_num.values)"
   ]
  },
  {
   "cell_type": "markdown",
   "metadata": {},
   "source": [
    "### Restoring Indexes And Column Names"
   ]
  },
  {
   "cell_type": "code",
   "execution_count": 238,
   "metadata": {},
   "outputs": [],
   "source": [
    "data_film_scaled_df = pd.DataFrame(data = data_film_scaled, index = data_film_num.index, columns = data_film_num.columns)"
   ]
  },
  {
   "cell_type": "markdown",
   "metadata": {},
   "source": [
    "# Principal Components Analysis to Reduce Dimensionality of Data"
   ]
  },
  {
   "cell_type": "markdown",
   "metadata": {},
   "source": [
    "#### Lets Target that 50% Percent of the Variance is explained by the principal components"
   ]
  },
  {
   "cell_type": "code",
   "execution_count": 1,
   "metadata": {},
   "outputs": [
    {
     "ename": "NameError",
     "evalue": "name 'data_film_scaled_df' is not defined",
     "output_type": "error",
     "traceback": [
      "\u001b[0;31m---------------------------------------------------------------------------\u001b[0m",
      "\u001b[0;31mNameError\u001b[0m                                 Traceback (most recent call last)",
      "\u001b[0;32m<ipython-input-1-cffd03f2ea26>\u001b[0m in \u001b[0;36m<module>\u001b[0;34m()\u001b[0m\n\u001b[1;32m      3\u001b[0m \u001b[0mtarget_variance\u001b[0m \u001b[0;34m=\u001b[0m \u001b[0;36m0.50\u001b[0m\u001b[0;34m\u001b[0m\u001b[0m\n\u001b[1;32m      4\u001b[0m \u001b[0;34m\u001b[0m\u001b[0m\n\u001b[0;32m----> 5\u001b[0;31m \u001b[0;32mfor\u001b[0m \u001b[0mi\u001b[0m \u001b[0;32min\u001b[0m \u001b[0mrange\u001b[0m\u001b[0;34m(\u001b[0m\u001b[0mlen\u001b[0m\u001b[0;34m(\u001b[0m\u001b[0mdata_film_scaled_df\u001b[0m\u001b[0;34m.\u001b[0m\u001b[0mcolumns\u001b[0m\u001b[0;34m)\u001b[0m\u001b[0;34m)\u001b[0m\u001b[0;34m:\u001b[0m\u001b[0;34m\u001b[0m\u001b[0m\n\u001b[0m\u001b[1;32m      6\u001b[0m     \u001b[0mpca_film\u001b[0m \u001b[0;34m=\u001b[0m \u001b[0mPCA\u001b[0m\u001b[0;34m(\u001b[0m\u001b[0mn_components\u001b[0m\u001b[0;34m=\u001b[0m\u001b[0mi\u001b[0m\u001b[0;34m)\u001b[0m\u001b[0;34m\u001b[0m\u001b[0m\n\u001b[1;32m      7\u001b[0m     \u001b[0mpca_components_film\u001b[0m \u001b[0;34m=\u001b[0m \u001b[0mpca_film\u001b[0m\u001b[0;34m.\u001b[0m\u001b[0mfit_transform\u001b[0m\u001b[0;34m(\u001b[0m\u001b[0mdata_film_scaled_df\u001b[0m\u001b[0;34m)\u001b[0m\u001b[0;34m\u001b[0m\u001b[0m\n",
      "\u001b[0;31mNameError\u001b[0m: name 'data_film_scaled_df' is not defined"
     ]
    }
   ],
   "source": [
    "from sklearn.decomposition import PCA\n",
    "\n",
    "target_variance = 0.50\n",
    "\n",
    "for i in range(len(data_film_scaled_df.columns)):\n",
    "    pca_film = PCA(n_components=i)\n",
    "    pca_components_film = pca_film.fit_transform(data_film_scaled_df)\n",
    "    #print(f'Total Explained Variance is {np.sum(pca_film.explained_variance_ratio_)}')\n",
    "    if np.sum(pca_film.explained_variance_ratio_) > target_variance:\n",
    "        #print(f'No of Components that explain 50% of Variance: {i}')\n",
    "        break\n",
    "\n",
    "print(f'No of Components that explain 50% of Variance: {i}')"
   ]
  },
  {
   "cell_type": "markdown",
   "metadata": {},
   "source": [
    "### Getting the features for the clustering (using Runtime and My Ratings)\n",
    "Coverting DF to dict, and using the given helper function."
   ]
  },
  {
   "cell_type": "code",
   "execution_count": 23,
   "metadata": {},
   "outputs": [],
   "source": [
    "film_dict = data_film.to_dict()"
   ]
  },
  {
   "cell_type": "code",
   "execution_count": 24,
   "metadata": {},
   "outputs": [
    {
     "data": {
      "text/plain": [
       "dict_keys(['Const', 'Your Rating', 'Date Rated', 'Title', 'URL', 'Title Type', 'IMDb Rating', 'Runtime (mins)', 'Year', 'Genres', 'Num Votes', 'Release Date', 'Directors'])"
      ]
     },
     "execution_count": 24,
     "metadata": {},
     "output_type": "execute_result"
    }
   ],
   "source": [
    "film_dict.keys()"
   ]
  },
  {
   "cell_type": "code",
   "execution_count": 25,
   "metadata": {},
   "outputs": [],
   "source": [
    "feature_1 = 'Runtime (mins)'\n",
    "feature_2 = 'Your Rating'\n",
    "feature_3 = 'Year'\n",
    "feature_4 = 'IMDb Rating'\n",
    "feature_5 = 'Num Votes'\n",
    "# poi is supposed to be target for helper, here dummy column\n",
    "\n",
    "poi = 'Const'\n",
    "\n",
    "# Ge list 2D array of rows with the features - [[feature_1, feature_2]]"
   ]
  },
  {
   "cell_type": "code",
   "execution_count": 26,
   "metadata": {},
   "outputs": [],
   "source": [
    "# Adding all film runtimes to list, sure there is a better way.\n",
    "run_time = []\n",
    "for i in film_dict[feature_1]:\n",
    "    run_time.append(film_dict[feature_1][i])"
   ]
  },
  {
   "cell_type": "code",
   "execution_count": 27,
   "metadata": {},
   "outputs": [],
   "source": [
    "# Adding all your ratings to list, sure there is a better way.\n",
    "\n",
    "y_rating = []\n",
    "for i in film_dict[feature_2]:\n",
    "    y_rating.append(film_dict[feature_2][i])"
   ]
  },
  {
   "cell_type": "code",
   "execution_count": 28,
   "metadata": {},
   "outputs": [],
   "source": [
    "# year to list \n",
    "\n",
    "year = []\n",
    "for i in film_dict[feature_3]:\n",
    "    year.append(film_dict[feature_3][i])"
   ]
  },
  {
   "cell_type": "code",
   "execution_count": 29,
   "metadata": {},
   "outputs": [],
   "source": [
    "# IMDb Rating to list \n",
    "\n",
    "imdb_rate = []\n",
    "for i in film_dict[feature_4]:\n",
    "    imdb_rate.append(film_dict[feature_4][i])"
   ]
  },
  {
   "cell_type": "code",
   "execution_count": 30,
   "metadata": {},
   "outputs": [],
   "source": [
    "# Num of votes to list \n",
    "\n",
    "num_votes = []\n",
    "\n",
    "for i in film_dict[feature_5]:\n",
    "    num_votes.append(film_dict[feature_5][i])"
   ]
  },
  {
   "cell_type": "code",
   "execution_count": 31,
   "metadata": {},
   "outputs": [],
   "source": [
    "# Convert to numpy arrays and vstack or concatenate.\n",
    "\n",
    "run_arr = np.array(run_time)\n",
    "rat_arr = np.array(y_rating)\n",
    "year_arr = np.array(year)\n",
    "imdb_rat_arr = np.array(imdb_rate)\n",
    "num_votes_arr = np.array(num_votes)"
   ]
  },
  {
   "cell_type": "code",
   "execution_count": 32,
   "metadata": {},
   "outputs": [],
   "source": [
    "run_arr = run_arr.reshape(-1,1)\n",
    "rat_arr = rat_arr.reshape(-1,1)\n",
    "year_arr = year_arr.reshape(-1,1)\n",
    "imdb_rat_arr = imdb_rat_arr.reshape(-1,1)\n",
    "num_votes_arr = num_votes_arr.reshape(-1,1)"
   ]
  },
  {
   "cell_type": "code",
   "execution_count": 33,
   "metadata": {},
   "outputs": [],
   "source": [
    "# hstack to get rows with arrays of [feat 1, feat 2].\n",
    "movie_features = np.hstack((run_arr, rat_arr, year_arr, imdb_rat_arr, num_votes_arr))\n",
    "\n",
    "# convert to list of arrays for compatibility with helper function\n",
    "movie_features_list = list(movie_features)"
   ]
  },
  {
   "cell_type": "markdown",
   "metadata": {},
   "source": [
    "# Fitting Kmeans - Clustering algo.\n",
    "1. Scale features first.\n",
    "\n",
    "## Difficult to Interpret with Runtime and YourRating.\n",
    "# TO DO:\n",
    "1. Let's see if changing order of features, affects the clusters (shouldn't since its scaled ?) <b> (No Difference)</b>\n",
    "2. Add Year feature to the mix.(Now we're Getting interesting Results). \n",
    "The clusters are split into : 1 - Highly rated, 3 - moderately rated a low rated movies clusters. <br>\n",
    "Of the 3 moderately rated clusters, 1- is a cluster of older movies. The rest of the two are look to be seprated based on no. of votes. (not sure.)\n",
    "3. Lets add more numerical features.( IMDb Rating - can get cluster of movies showing vastly different tastes)(Num Votes to get popularity in the mix.\n",
    ")"
   ]
  },
  {
   "cell_type": "code",
   "execution_count": 150,
   "metadata": {},
   "outputs": [
    {
     "name": "stdout",
     "output_type": "stream",
     "text": [
      "<class 'pandas.core.frame.DataFrame'>\n",
      "Index: 250 entries, tt1010048 to tt0993846\n",
      "Columns: 211 entries, Your Rating to Director:_Zoya Akhtar\n",
      "dtypes: float64(1), int64(4), object(5), uint8(201)\n",
      "memory usage: 80.6+ KB\n"
     ]
    }
   ],
   "source": [
    "#data_film.info()"
   ]
  },
  {
   "cell_type": "code",
   "execution_count": 35,
   "metadata": {},
   "outputs": [],
   "source": [
    "from sklearn.preprocessing import MinMaxScaler\n",
    "\n",
    "# Transforming to scaled features\n",
    "scaled_mov_features = MinMaxScaler().fit_transform(movie_features_list)"
   ]
  },
  {
   "cell_type": "code",
   "execution_count": 36,
   "metadata": {},
   "outputs": [
    {
     "data": {
      "image/png": "[encoded data removed]",
      "text/plain": [
       "<Figure size 1296x864 with 1 Axes>"
      ]
     },
     "metadata": {
      "needs_background": "light"
     },
     "output_type": "display_data"
    }
   ],
   "source": [
    "from sklearn.cluster import KMeans\n",
    "\n",
    "cluster_film = KMeans(n_clusters = 5, n_init=10, max_iter= 100).fit(scaled_mov_features)\n",
    "\n",
    "pred_film = cluster_film.labels_\n",
    "\n",
    "plt.figure(figsize=(18,12))\n",
    "\n",
    "try:\n",
    "    Draw(pred_film, movie_features_list, poi, mark_poi=False, name=\"Filmclusters_rating_year_runtime_imdb_numVotes.pdf\", f1_name=feature_1, f2_name=feature_2)\n",
    "except NameError:\n",
    "    print(\"no predictions object named pred found, no clusters to plot\")"
   ]
  },
  {
   "cell_type": "code",
   "execution_count": 37,
   "metadata": {},
   "outputs": [
    {
     "name": "stdout",
     "output_type": "stream",
     "text": [
      "Runtime Your Rating Year IMDb Rating Num Votes\n",
      "[[0.22824302 0.33968254 0.95548258 0.4036894  0.07470704]\n",
      " [0.23674829 0.63304348 0.92693653 0.57884841 0.08923739]\n",
      " [0.24172762 0.67272727 0.87748171 0.69287469 0.37107101]\n",
      " [0.2344131  0.71818182 0.45872518 0.67813268 0.14139224]\n",
      " [0.33971903 0.86666667 0.79885057 0.88738739 0.82546931]]\n"
     ]
    }
   ],
   "source": [
    "# Lets get the center of the clusters \n",
    "print('Runtime', 'Your Rating','Year','IMDb Rating','Num Votes')\n",
    "# 5 dimensions for each cluster.\n",
    "print(cluster_film.cluster_centers_)"
   ]
  },
  {
   "cell_type": "markdown",
   "metadata": {},
   "source": [
    "### The splits are still Mostly on the basis of ratings."
   ]
  },
  {
   "cell_type": "markdown",
   "metadata": {},
   "source": [
    "### Lets Place the cluster labels back into dataframe and check which Movies got Clustered Together."
   ]
  },
  {
   "cell_type": "code",
   "execution_count": 38,
   "metadata": {},
   "outputs": [
    {
     "name": "stderr",
     "output_type": "stream",
     "text": [
      "/Library/Frameworks/Python.framework/Versions/3.6/lib/python3.6/site-packages/ipykernel_launcher.py:1: SettingWithCopyWarning: \n",
      "A value is trying to be set on a copy of a slice from a DataFrame.\n",
      "Try using .loc[row_indexer,col_indexer] = value instead\n",
      "\n",
      "See the caveats in the documentation: https://pandas.pydata.org/pandas-docs/stable/user_guide/indexing.html#returning-a-view-versus-a-copy\n",
      "  \"\"\"Entry point for launching an IPython kernel.\n"
     ]
    }
   ],
   "source": [
    "data_film['Clusters'] = pred_film"
   ]
  },
  {
   "cell_type": "markdown",
   "metadata": {},
   "source": [
    "### Investigating Clusters"
   ]
  },
  {
   "cell_type": "markdown",
   "metadata": {},
   "source": [
    "### The splits are still Mostly on the basis of ratings."
   ]
  },
  {
   "cell_type": "code",
   "execution_count": 39,
   "metadata": {},
   "outputs": [
    {
     "data": {
      "text/plain": [
       "Clusters\n",
       "0     63\n",
       "1    115\n",
       "2     44\n",
       "3     22\n",
       "4      6\n",
       "Name: Your Rating, dtype: int64"
      ]
     },
     "execution_count": 39,
     "metadata": {},
     "output_type": "execute_result"
    }
   ],
   "source": [
    "data_film.groupby(['Clusters'])['Your Rating'].size()"
   ]
  },
  {
   "cell_type": "code",
   "execution_count": 40,
   "metadata": {},
   "outputs": [
    {
     "data": {
      "text/plain": [
       "Clusters\n",
       "0    6.698413\n",
       "1    8.165217\n",
       "2    8.363636\n",
       "3    8.590909\n",
       "4    9.333333\n",
       "Name: Your Rating, dtype: float64"
      ]
     },
     "execution_count": 40,
     "metadata": {},
     "output_type": "execute_result"
    }
   ],
   "source": [
    "data_film.groupby(['Clusters'])['Your Rating'].mean()\n",
    "# A group of movies that is highly rated and a group with low ratings.\n",
    "# Lets investigate these groups "
   ]
  },
  {
   "cell_type": "code",
   "execution_count": 41,
   "metadata": {},
   "outputs": [
    {
     "data": {
      "text/html": [
       "<div>\n",
       "<style scoped>\n",
       "    .dataframe tbody tr th:only-of-type {\n",
       "        vertical-align: middle;\n",
       "    }\n",
       "\n",
       "    .dataframe tbody tr th {\n",
       "        vertical-align: top;\n",
       "    }\n",
       "\n",
       "    .dataframe thead th {\n",
       "        text-align: right;\n",
       "    }\n",
       "</style>\n",
       "<table border=\"1\" class=\"dataframe\">\n",
       "  <thead>\n",
       "    <tr style=\"text-align: right;\">\n",
       "      <th></th>\n",
       "      <th>count</th>\n",
       "      <th>mean</th>\n",
       "      <th>std</th>\n",
       "      <th>min</th>\n",
       "      <th>25%</th>\n",
       "      <th>50%</th>\n",
       "      <th>75%</th>\n",
       "      <th>max</th>\n",
       "    </tr>\n",
       "    <tr>\n",
       "      <th>Clusters</th>\n",
       "      <th></th>\n",
       "      <th></th>\n",
       "      <th></th>\n",
       "      <th></th>\n",
       "      <th></th>\n",
       "      <th></th>\n",
       "      <th></th>\n",
       "      <th></th>\n",
       "    </tr>\n",
       "  </thead>\n",
       "  <tbody>\n",
       "    <tr>\n",
       "      <th>0</th>\n",
       "      <td>63.0</td>\n",
       "      <td>6.698413</td>\n",
       "      <td>0.585715</td>\n",
       "      <td>5.0</td>\n",
       "      <td>6.0</td>\n",
       "      <td>7.0</td>\n",
       "      <td>7.00</td>\n",
       "      <td>8.0</td>\n",
       "    </tr>\n",
       "    <tr>\n",
       "      <th>1</th>\n",
       "      <td>115.0</td>\n",
       "      <td>8.165217</td>\n",
       "      <td>0.457500</td>\n",
       "      <td>7.0</td>\n",
       "      <td>8.0</td>\n",
       "      <td>8.0</td>\n",
       "      <td>8.00</td>\n",
       "      <td>10.0</td>\n",
       "    </tr>\n",
       "    <tr>\n",
       "      <th>2</th>\n",
       "      <td>44.0</td>\n",
       "      <td>8.363636</td>\n",
       "      <td>0.650256</td>\n",
       "      <td>7.0</td>\n",
       "      <td>8.0</td>\n",
       "      <td>8.0</td>\n",
       "      <td>9.00</td>\n",
       "      <td>10.0</td>\n",
       "    </tr>\n",
       "    <tr>\n",
       "      <th>3</th>\n",
       "      <td>22.0</td>\n",
       "      <td>8.590909</td>\n",
       "      <td>0.734140</td>\n",
       "      <td>7.0</td>\n",
       "      <td>8.0</td>\n",
       "      <td>9.0</td>\n",
       "      <td>9.00</td>\n",
       "      <td>10.0</td>\n",
       "    </tr>\n",
       "    <tr>\n",
       "      <th>4</th>\n",
       "      <td>6.0</td>\n",
       "      <td>9.333333</td>\n",
       "      <td>0.516398</td>\n",
       "      <td>9.0</td>\n",
       "      <td>9.0</td>\n",
       "      <td>9.0</td>\n",
       "      <td>9.75</td>\n",
       "      <td>10.0</td>\n",
       "    </tr>\n",
       "  </tbody>\n",
       "</table>\n",
       "</div>"
      ],
      "text/plain": [
       "          count      mean       std  min  25%  50%   75%   max\n",
       "Clusters                                                      \n",
       "0          63.0  6.698413  0.585715  5.0  6.0  7.0  7.00   8.0\n",
       "1         115.0  8.165217  0.457500  7.0  8.0  8.0  8.00  10.0\n",
       "2          44.0  8.363636  0.650256  7.0  8.0  8.0  9.00  10.0\n",
       "3          22.0  8.590909  0.734140  7.0  8.0  9.0  9.00  10.0\n",
       "4           6.0  9.333333  0.516398  9.0  9.0  9.0  9.75  10.0"
      ]
     },
     "execution_count": 41,
     "metadata": {},
     "output_type": "execute_result"
    }
   ],
   "source": [
    "data_film.groupby(['Clusters'])['Your Rating'].describe()\n",
    "# Low standard Deviation in ratings, so, probably has clustered some sort of relationship."
   ]
  },
  {
   "cell_type": "code",
   "execution_count": 42,
   "metadata": {},
   "outputs": [],
   "source": [
    "# Lets try and visualize the groups \n",
    "\n",
    "grouped_df = data_film.groupby(['Clusters'])\n",
    "\n",
    "clust_0 = grouped_df.get_group(0)\n",
    "clust_1 = grouped_df.get_group(1)\n",
    "clust_2 = grouped_df.get_group(2)\n",
    "clust_3 = grouped_df.get_group(3)\n",
    "clust_4 = grouped_df.get_group(4)"
   ]
  },
  {
   "cell_type": "code",
   "execution_count": 43,
   "metadata": {
    "scrolled": false
   },
   "outputs": [
    {
     "data": {
      "text/html": [
       "<div>\n",
       "<style scoped>\n",
       "    .dataframe tbody tr th:only-of-type {\n",
       "        vertical-align: middle;\n",
       "    }\n",
       "\n",
       "    .dataframe tbody tr th {\n",
       "        vertical-align: top;\n",
       "    }\n",
       "\n",
       "    .dataframe thead th {\n",
       "        text-align: right;\n",
       "    }\n",
       "</style>\n",
       "<table border=\"1\" class=\"dataframe\">\n",
       "  <thead>\n",
       "    <tr style=\"text-align: right;\">\n",
       "      <th></th>\n",
       "      <th>Const</th>\n",
       "      <th>Your Rating</th>\n",
       "      <th>Date Rated</th>\n",
       "      <th>Title</th>\n",
       "      <th>URL</th>\n",
       "      <th>Title Type</th>\n",
       "      <th>IMDb Rating</th>\n",
       "      <th>Runtime (mins)</th>\n",
       "      <th>Year</th>\n",
       "      <th>Genres</th>\n",
       "      <th>Num Votes</th>\n",
       "      <th>Release Date</th>\n",
       "      <th>Directors</th>\n",
       "      <th>Clusters</th>\n",
       "    </tr>\n",
       "  </thead>\n",
       "  <tbody>\n",
       "    <tr>\n",
       "      <th>94</th>\n",
       "      <td>tt0021749</td>\n",
       "      <td>9</td>\n",
       "      <td>2018-12-26</td>\n",
       "      <td>City Lights</td>\n",
       "      <td>https://www.imdb.com/title/tt0021749/</td>\n",
       "      <td>movie</td>\n",
       "      <td>8.5</td>\n",
       "      <td>87</td>\n",
       "      <td>1931</td>\n",
       "      <td>Comedy, Drama, Romance</td>\n",
       "      <td>141725</td>\n",
       "      <td>1931-01-30</td>\n",
       "      <td>Charles Chaplin</td>\n",
       "      <td>3</td>\n",
       "    </tr>\n",
       "    <tr>\n",
       "      <th>141</th>\n",
       "      <td>tt0032553</td>\n",
       "      <td>9</td>\n",
       "      <td>2016-04-27</td>\n",
       "      <td>The Great Dictator</td>\n",
       "      <td>https://www.imdb.com/title/tt0032553/</td>\n",
       "      <td>movie</td>\n",
       "      <td>8.5</td>\n",
       "      <td>125</td>\n",
       "      <td>1940</td>\n",
       "      <td>Comedy, Drama, War</td>\n",
       "      <td>175008</td>\n",
       "      <td>1940-10-15</td>\n",
       "      <td>Charles Chaplin</td>\n",
       "      <td>3</td>\n",
       "    </tr>\n",
       "    <tr>\n",
       "      <th>212</th>\n",
       "      <td>tt0048473</td>\n",
       "      <td>9</td>\n",
       "      <td>2016-09-01</td>\n",
       "      <td>Pather Panchali</td>\n",
       "      <td>https://www.imdb.com/title/tt0048473/</td>\n",
       "      <td>movie</td>\n",
       "      <td>8.5</td>\n",
       "      <td>125</td>\n",
       "      <td>1955</td>\n",
       "      <td>Drama</td>\n",
       "      <td>18525</td>\n",
       "      <td>1955-08-26</td>\n",
       "      <td>Satyajit Ray</td>\n",
       "      <td>3</td>\n",
       "    </tr>\n",
       "    <tr>\n",
       "      <th>215</th>\n",
       "      <td>tt0048956</td>\n",
       "      <td>8</td>\n",
       "      <td>2018-12-24</td>\n",
       "      <td>Aparajito</td>\n",
       "      <td>https://www.imdb.com/title/tt0048956/</td>\n",
       "      <td>movie</td>\n",
       "      <td>8.2</td>\n",
       "      <td>110</td>\n",
       "      <td>1956</td>\n",
       "      <td>Drama</td>\n",
       "      <td>9241</td>\n",
       "      <td>1956-10-11</td>\n",
       "      <td>Satyajit Ray</td>\n",
       "      <td>3</td>\n",
       "    </tr>\n",
       "    <tr>\n",
       "      <th>231</th>\n",
       "      <td>tt0057012</td>\n",
       "      <td>9</td>\n",
       "      <td>2019-01-08</td>\n",
       "      <td>Dr. Strangelove or: How I Learned to Stop Worr...</td>\n",
       "      <td>https://www.imdb.com/title/tt0057012/</td>\n",
       "      <td>movie</td>\n",
       "      <td>8.4</td>\n",
       "      <td>95</td>\n",
       "      <td>1964</td>\n",
       "      <td>Comedy</td>\n",
       "      <td>405988</td>\n",
       "      <td>1964-01-29</td>\n",
       "      <td>Stanley Kubrick</td>\n",
       "      <td>3</td>\n",
       "    </tr>\n",
       "    <tr>\n",
       "      <th>237</th>\n",
       "      <td>tt0059742</td>\n",
       "      <td>9</td>\n",
       "      <td>2016-08-20</td>\n",
       "      <td>The Sound of Music</td>\n",
       "      <td>https://www.imdb.com/title/tt0059742/</td>\n",
       "      <td>movie</td>\n",
       "      <td>8.0</td>\n",
       "      <td>172</td>\n",
       "      <td>1965</td>\n",
       "      <td>Biography, Drama, Family, Musical, Romance</td>\n",
       "      <td>177591</td>\n",
       "      <td>1965-03-02</td>\n",
       "      <td>Robert Wise</td>\n",
       "      <td>3</td>\n",
       "    </tr>\n",
       "    <tr>\n",
       "      <th>241</th>\n",
       "      <td>tt0061722</td>\n",
       "      <td>8</td>\n",
       "      <td>2017-02-08</td>\n",
       "      <td>The Graduate</td>\n",
       "      <td>https://www.imdb.com/title/tt0061722/</td>\n",
       "      <td>movie</td>\n",
       "      <td>8.0</td>\n",
       "      <td>106</td>\n",
       "      <td>1967</td>\n",
       "      <td>Comedy, Drama, Romance</td>\n",
       "      <td>234011</td>\n",
       "      <td>1967-12-21</td>\n",
       "      <td>Mike Nichols</td>\n",
       "      <td>3</td>\n",
       "    </tr>\n",
       "    <tr>\n",
       "      <th>243</th>\n",
       "      <td>tt0062622</td>\n",
       "      <td>8</td>\n",
       "      <td>2016-04-27</td>\n",
       "      <td>2001: A Space Odyssey</td>\n",
       "      <td>https://www.imdb.com/title/tt0062622/</td>\n",
       "      <td>movie</td>\n",
       "      <td>8.3</td>\n",
       "      <td>149</td>\n",
       "      <td>1968</td>\n",
       "      <td>Adventure, Sci-Fi</td>\n",
       "      <td>527162</td>\n",
       "      <td>1968-04-02</td>\n",
       "      <td>Stanley Kubrick</td>\n",
       "      <td>3</td>\n",
       "    </tr>\n",
       "    <tr>\n",
       "      <th>249</th>\n",
       "      <td>tt0066763</td>\n",
       "      <td>10</td>\n",
       "      <td>2016-09-01</td>\n",
       "      <td>Anand</td>\n",
       "      <td>https://www.imdb.com/title/tt0066763/</td>\n",
       "      <td>movie</td>\n",
       "      <td>8.8</td>\n",
       "      <td>122</td>\n",
       "      <td>1971</td>\n",
       "      <td>Drama</td>\n",
       "      <td>21909</td>\n",
       "      <td>1971-03-12</td>\n",
       "      <td>Hrishikesh Mukherjee</td>\n",
       "      <td>3</td>\n",
       "    </tr>\n",
       "    <tr>\n",
       "      <th>250</th>\n",
       "      <td>tt0067334</td>\n",
       "      <td>9</td>\n",
       "      <td>2017-04-01</td>\n",
       "      <td>Le Mans</td>\n",
       "      <td>https://www.imdb.com/title/tt0067334/</td>\n",
       "      <td>movie</td>\n",
       "      <td>6.8</td>\n",
       "      <td>106</td>\n",
       "      <td>1971</td>\n",
       "      <td>Action, Adventure, Drama, Sport</td>\n",
       "      <td>7718</td>\n",
       "      <td>1971-06-23</td>\n",
       "      <td>Lee H. Katzin</td>\n",
       "      <td>3</td>\n",
       "    </tr>\n",
       "  </tbody>\n",
       "</table>\n",
       "</div>"
      ],
      "text/plain": [
       "         Const  Your Rating  Date Rated  \\\n",
       "94   tt0021749            9  2018-12-26   \n",
       "141  tt0032553            9  2016-04-27   \n",
       "212  tt0048473            9  2016-09-01   \n",
       "215  tt0048956            8  2018-12-24   \n",
       "231  tt0057012            9  2019-01-08   \n",
       "237  tt0059742            9  2016-08-20   \n",
       "241  tt0061722            8  2017-02-08   \n",
       "243  tt0062622            8  2016-04-27   \n",
       "249  tt0066763           10  2016-09-01   \n",
       "250  tt0067334            9  2017-04-01   \n",
       "\n",
       "                                                 Title  \\\n",
       "94                                         City Lights   \n",
       "141                                 The Great Dictator   \n",
       "212                                    Pather Panchali   \n",
       "215                                          Aparajito   \n",
       "231  Dr. Strangelove or: How I Learned to Stop Worr...   \n",
       "237                                 The Sound of Music   \n",
       "241                                       The Graduate   \n",
       "243                              2001: A Space Odyssey   \n",
       "249                                              Anand   \n",
       "250                                            Le Mans   \n",
       "\n",
       "                                       URL Title Type  IMDb Rating  \\\n",
       "94   https://www.imdb.com/title/tt0021749/      movie          8.5   \n",
       "141  https://www.imdb.com/title/tt0032553/      movie          8.5   \n",
       "212  https://www.imdb.com/title/tt0048473/      movie          8.5   \n",
       "215  https://www.imdb.com/title/tt0048956/      movie          8.2   \n",
       "231  https://www.imdb.com/title/tt0057012/      movie          8.4   \n",
       "237  https://www.imdb.com/title/tt0059742/      movie          8.0   \n",
       "241  https://www.imdb.com/title/tt0061722/      movie          8.0   \n",
       "243  https://www.imdb.com/title/tt0062622/      movie          8.3   \n",
       "249  https://www.imdb.com/title/tt0066763/      movie          8.8   \n",
       "250  https://www.imdb.com/title/tt0067334/      movie          6.8   \n",
       "\n",
       "     Runtime (mins)  Year                                      Genres  \\\n",
       "94               87  1931                      Comedy, Drama, Romance   \n",
       "141             125  1940                          Comedy, Drama, War   \n",
       "212             125  1955                                       Drama   \n",
       "215             110  1956                                       Drama   \n",
       "231              95  1964                                      Comedy   \n",
       "237             172  1965  Biography, Drama, Family, Musical, Romance   \n",
       "241             106  1967                      Comedy, Drama, Romance   \n",
       "243             149  1968                           Adventure, Sci-Fi   \n",
       "249             122  1971                                       Drama   \n",
       "250             106  1971             Action, Adventure, Drama, Sport   \n",
       "\n",
       "     Num Votes Release Date             Directors  Clusters  \n",
       "94      141725   1931-01-30       Charles Chaplin         3  \n",
       "141     175008   1940-10-15       Charles Chaplin         3  \n",
       "212      18525   1955-08-26          Satyajit Ray         3  \n",
       "215       9241   1956-10-11          Satyajit Ray         3  \n",
       "231     405988   1964-01-29       Stanley Kubrick         3  \n",
       "237     177591   1965-03-02           Robert Wise         3  \n",
       "241     234011   1967-12-21          Mike Nichols         3  \n",
       "243     527162   1968-04-02       Stanley Kubrick         3  \n",
       "249      21909   1971-03-12  Hrishikesh Mukherjee         3  \n",
       "250       7718   1971-06-23         Lee H. Katzin         3  "
      ]
     },
     "execution_count": 43,
     "metadata": {},
     "output_type": "execute_result"
    }
   ],
   "source": [
    "clust_3.head(10)"
   ]
  },
  {
   "cell_type": "markdown",
   "metadata": {},
   "source": [
    "#### 1 Sample T-Test to compare population your rating and cluster your rating."
   ]
  },
  {
   "cell_type": "code",
   "execution_count": 66,
   "metadata": {},
   "outputs": [
    {
     "name": "stdout",
     "output_type": "stream",
     "text": [
      "7.896 250\n",
      "8.590909090909092 22\n",
      "\n",
      " T-Stat for hypothesis test 4.439771794851792 and P-value 0.00022703454144251792\n",
      "T-critical for n = 21, alpha = 0.05 is\n",
      "Statisttically significant result, but have read that with large enough sample size, most differences are statistically significant\n"
     ]
    }
   ],
   "source": [
    "# Lets perform 1 sample t test between population your rating (data_film) and sample clust_0\n",
    "from scipy.stats import ttest_1samp\n",
    "\n",
    "pop_film = data_film['Your Rating'].tolist()\n",
    "print(np.mean(pop_film), len(pop_film))\n",
    "\n",
    "clust_3_sample = clust_3['Your Rating'].tolist()\n",
    "print(np.mean(clust_3_sample), len(clust_3_sample))\n",
    "\n",
    "tstat, pvalue = ttest_1samp(clust_3_sample, np.mean(pop_film))\n",
    "print('\\n T-Stat for hypothesis test {} and P-value {}'.format(tstat, pvalue))\n",
    "print('T-critical for n = {}, alpha = 0.05 is'.format(len(clust_3_sample)-1))\n",
    "if pvalue<0.05:\n",
    "    print('Statisttically significant result, but have read that with large enough sample size, most differences are statistically significant')"
   ]
  },
  {
   "cell_type": "markdown",
   "metadata": {},
   "source": [
    "#### 2 Sample T-Test for independent sample to compare your rating from two clusters."
   ]
  },
  {
   "cell_type": "code",
   "execution_count": 76,
   "metadata": {},
   "outputs": [],
   "source": [
    "from scipy.stats import ttest_ind"
   ]
  },
  {
   "cell_type": "code",
   "execution_count": 77,
   "metadata": {},
   "outputs": [],
   "source": [
    "clust_2_sample = clust_2['Your Rating'].tolist()\n",
    "clust_3_sample = clust_3['Your Rating'].tolist()"
   ]
  },
  {
   "cell_type": "code",
   "execution_count": 78,
   "metadata": {},
   "outputs": [],
   "source": [
    "tstat, pvalue = ttest_ind(clust_2_sample, clust_3_sample)"
   ]
  },
  {
   "cell_type": "code",
   "execution_count": 83,
   "metadata": {},
   "outputs": [],
   "source": [
    "from scipy.stats import t"
   ]
  },
  {
   "cell_type": "code",
   "execution_count": 81,
   "metadata": {},
   "outputs": [
    {
     "name": "stdout",
     "output_type": "stream",
     "text": [
      "Sample means 1: 8.363636363636363, 2: 8.590909090909092\n",
      "\n",
      "T-Stat for hypothesis test -1.2820117729284253 and P-value 0.2044631953357978\n",
      "T-critical for Degrees of freedom = 64, alpha = 0.05 is\n",
      "Difference not statistically different.\n"
     ]
    }
   ],
   "source": [
    "print('Sample means 1: {}, 2: {}'.format(np.mean(clust_2_sample), np.mean(clust_3_sample)))\n",
    "print('\\nT-Stat for hypothesis test {} and P-value {}'.format(tstat, pvalue))\n",
    "print('T-critical for Degrees of freedom = {}, alpha = 0.05 is'.format(len(clust_2_sample) + len(clust_3_sample) - 2, t.ppf()))\n",
    "if pvalue<0.05:\n",
    "    print('Statisttically significant result, but have read that with large enough sample size, most differences are statistically significant.')\n",
    "else:\n",
    "    print('Difference not statistically different.')"
   ]
  },
  {
   "cell_type": "code",
   "execution_count": 44,
   "metadata": {},
   "outputs": [
    {
     "data": {
      "text/plain": [
       "<matplotlib.axes._subplots.AxesSubplot at 0x1254c5780>"
      ]
     },
     "execution_count": 44,
     "metadata": {},
     "output_type": "execute_result"
    },
    {
     "data": {
      "image/png": "[encoded data removed]",
      "text/plain": [
       "<Figure size 1008x432 with 1 Axes>"
      ]
     },
     "metadata": {
      "needs_background": "light"
     },
     "output_type": "display_data"
    }
   ],
   "source": [
    "plt.figure(figsize=(14,6))\n",
    "sns.boxplot(x = 'Clusters', y = 'Your Rating', data = data_film)"
   ]
  },
  {
   "cell_type": "code",
   "execution_count": 45,
   "metadata": {},
   "outputs": [
    {
     "data": {
      "text/plain": [
       "<matplotlib.axes._subplots.AxesSubplot at 0x125dbbf98>"
      ]
     },
     "execution_count": 45,
     "metadata": {},
     "output_type": "execute_result"
    },
    {
     "data": {
      "image/png": "[encoded data removed]",
      "text/plain": [
       "<Figure size 1008x432 with 1 Axes>"
      ]
     },
     "metadata": {
      "needs_background": "light"
     },
     "output_type": "display_data"
    }
   ],
   "source": [
    "plt.figure(figsize=(14,6))\n",
    "sns.boxplot(x = 'Clusters', y = 'IMDb Rating', data = data_film)"
   ]
  },
  {
   "cell_type": "code",
   "execution_count": 46,
   "metadata": {},
   "outputs": [
    {
     "data": {
      "text/plain": [
       "<matplotlib.axes._subplots.AxesSubplot at 0x125439cc0>"
      ]
     },
     "execution_count": 46,
     "metadata": {},
     "output_type": "execute_result"
    },
    {
     "data": {
      "image/png": "[encoded data removed]",
      "text/plain": [
       "<Figure size 1008x432 with 1 Axes>"
      ]
     },
     "metadata": {
      "needs_background": "light"
     },
     "output_type": "display_data"
    }
   ],
   "source": [
    "plt.figure(figsize=(14,6))\n",
    "sns.boxplot(x = 'Clusters', y = 'Year', data = data_film)"
   ]
  },
  {
   "cell_type": "markdown",
   "metadata": {},
   "source": [
    "#### Insight: I tend to rate newer movies lower that tend to have higher IMDb scores due to recency bias."
   ]
  },
  {
   "cell_type": "code",
   "execution_count": 47,
   "metadata": {},
   "outputs": [
    {
     "data": {
      "text/plain": [
       "<matplotlib.axes._subplots.AxesSubplot at 0x125d932b0>"
      ]
     },
     "execution_count": 47,
     "metadata": {},
     "output_type": "execute_result"
    },
    {
     "data": {
      "image/png": "[encoded data removed]",
      "text/plain": [
       "<Figure size 1008x432 with 1 Axes>"
      ]
     },
     "metadata": {
      "needs_background": "light"
     },
     "output_type": "display_data"
    }
   ],
   "source": [
    "plt.figure(figsize=(14,6))\n",
    "sns.boxplot(x = 'Clusters', y = 'Num Votes', data = data_film)"
   ]
  },
  {
   "cell_type": "code",
   "execution_count": null,
   "metadata": {},
   "outputs": [],
   "source": []
  }
 ],
 "metadata": {
  "kernelspec": {
   "display_name": "Python 3",
   "language": "python",
   "name": "python3"
  },
  "language_info": {
   "codemirror_mode": {
    "name": "ipython",
    "version": 3
   },
   "file_extension": ".py",
   "mimetype": "text/x-python",
   "name": "python",
   "nbconvert_exporter": "python",
   "pygments_lexer": "ipython3",
   "version": "3.6.4"
  }
 },
 "nbformat": 4,
 "nbformat_minor": 2
}
