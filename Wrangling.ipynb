{
 "cells": [
  {
   "cell_type": "code",
   "execution_count": null,
   "metadata": {},
   "outputs": [],
   "source": []
  },
  {
   "cell_type": "code",
   "execution_count": 478,
   "metadata": {},
   "outputs": [],
   "source": [
    "''' To Do\n",
    "1. Add more data from IMDB database.(Gross, language, )\n",
    "\n",
    "\n",
    "Fetching more data from OMDB API\n",
    "apikey=2be1b857<br>\n",
    "Example Request :  http://www.omdbapi.com/?i=tt3896198&apikey=2be1b857\n",
    "Returns JSON\n",
    "\n",
    "Action Plan:\n",
    "1. Load your ratings csv and get all IMDB ids\n",
    "2. using urllib.request urlopen to fetch/get data from OMDB API\n",
    "3. Using JSON module to actually parse this data.\n",
    "4. Add/Merge/Join/Concatenate back to original Dataframe.\n",
    "'''\n",
    "\n",
    "import pandas as pd\n",
    "import numpy as np\n",
    "\n",
    "pd.set_option('display.max_columns', 100)\n",
    "pd.set_option('display.max_rows', 100)\n",
    "import json\n",
    "from urllib.request import urlopen\n",
    "\n",
    "API_Key_OMDB = '2be1b857'\n",
    "# Lets first read the existing csv to grab the film ids\n",
    "\n",
    "data_exist = pd.read_csv('Data/imdb_ratings_april_2020.csv', engine='python', index_col=0)\n",
    "\n",
    "# filtering just films using .loc indexer\n",
    "film_filter = (data_exist['Title Type'] == 'movie')\n",
    "\n",
    "# Film data\n",
    "data_film = data_exist.loc[film_filter]\n",
    "\n",
    "# Lets get the IMDB film IDs in a list\n",
    "\n",
    "index_interest = data_film.index.to_list()\n",
    "\n"
   ]
  },
  {
   "cell_type": "code",
   "execution_count": 33,
   "metadata": {},
   "outputs": [],
   "source": [
    "\n",
    "# Creating url request for the API with movie IDs in the form http://www.omdbapi.com/?i=<IMDB ID>&apikey=2be1b857\n",
    "# Using urlopen.read to fetch the JSON\n",
    "\n",
    "# Write a function that just gets the dictionary keys from JSON and creates a DF\n",
    "def create_df(API_Key_OMDB):\n",
    "    '''\n",
    "    Takes in OMDB key and creates empty dataframe with the required columns taken from json keys\n",
    "    :param index_interest:\n",
    "    :return:\n",
    "    '''\n",
    "    with urlopen('http://www.omdbapi.com/?i=tt3896198&apikey=' + API_Key_OMDB) as response:\n",
    "        # fetching the JSON string for item\n",
    "        source = response.read()\n",
    "        # loading json string as a python dictionary\n",
    "        data = json.loads(source)\n",
    "        new_df = pd.DataFrame.from_dict(data, orient = 'columns')\n",
    "        new_df.drop([0,1,2], axis = 0 , inplace = True)\n",
    "        return new_df\n",
    "\n",
    "\n",
    "empty_df = create_df(API_Key_OMDB)"
   ]
  },
  {
   "cell_type": "code",
   "execution_count": 43,
   "metadata": {},
   "outputs": [
    {
     "name": "stdout",
     "output_type": "stream",
     "text": [
      "3\n",
      "3\n",
      "3\n",
      "2\n",
      "3\n",
      "2\n",
      "3\n",
      "3\n",
      "3\n",
      "3\n",
      "2\n",
      "3\n",
      "3\n",
      "1\n",
      "3\n",
      "3\n",
      "3\n",
      "3\n",
      "3\n",
      "3\n",
      "2\n",
      "3\n",
      "3\n",
      "3\n",
      "3\n",
      "3\n",
      "3\n",
      "3\n",
      "3\n",
      "3\n",
      "3\n",
      "3\n",
      "3\n",
      "3\n",
      "3\n",
      "1\n",
      "3\n",
      "3\n",
      "1\n",
      "3\n",
      "3\n",
      "1\n",
      "3\n",
      "3\n",
      "3\n",
      "3\n",
      "3\n",
      "3\n",
      "3\n",
      "3\n",
      "3\n",
      "2\n",
      "3\n",
      "3\n",
      "3\n",
      "3\n",
      "3\n",
      "3\n",
      "3\n",
      "3\n",
      "2\n",
      "3\n",
      "3\n",
      "3\n",
      "3\n",
      "3\n",
      "3\n",
      "3\n",
      "1\n",
      "1\n",
      "3\n",
      "3\n",
      "1\n",
      "3\n",
      "3\n",
      "3\n",
      "3\n",
      "3\n",
      "3\n",
      "3\n",
      "3\n",
      "1\n",
      "3\n",
      "2\n",
      "3\n",
      "3\n",
      "1\n",
      "3\n",
      "3\n",
      "1\n",
      "2\n",
      "3\n",
      "3\n",
      "3\n",
      "3\n",
      "3\n",
      "3\n",
      "3\n",
      "3\n",
      "3\n",
      "3\n",
      "3\n",
      "2\n",
      "3\n",
      "3\n",
      "3\n",
      "3\n",
      "3\n",
      "3\n",
      "3\n",
      "3\n",
      "1\n",
      "3\n",
      "3\n",
      "1\n",
      "3\n",
      "3\n",
      "3\n",
      "3\n",
      "1\n",
      "2\n",
      "3\n",
      "3\n",
      "3\n",
      "3\n",
      "3\n",
      "3\n",
      "3\n",
      "1\n",
      "3\n",
      "3\n",
      "3\n",
      "3\n",
      "2\n",
      "3\n",
      "3\n",
      "3\n",
      "3\n",
      "3\n",
      "3\n",
      "3\n",
      "3\n",
      "1\n",
      "3\n",
      "3\n",
      "3\n",
      "3\n",
      "2\n",
      "3\n",
      "3\n",
      "3\n",
      "3\n",
      "3\n",
      "2\n",
      "3\n",
      "2\n",
      "3\n",
      "2\n",
      "3\n",
      "3\n",
      "3\n",
      "3\n",
      "3\n",
      "2\n",
      "3\n",
      "3\n",
      "3\n",
      "3\n",
      "3\n",
      "3\n",
      "2\n",
      "3\n",
      "3\n",
      "3\n",
      "3\n",
      "3\n",
      "3\n",
      "1\n",
      "2\n",
      "3\n",
      "3\n",
      "3\n",
      "3\n",
      "3\n",
      "3\n",
      "3\n",
      "2\n",
      "3\n",
      "3\n",
      "3\n",
      "3\n",
      "2\n",
      "3\n",
      "3\n",
      "2\n",
      "3\n",
      "3\n",
      "1\n",
      "3\n",
      "3\n",
      "2\n",
      "3\n",
      "2\n",
      "3\n",
      "2\n",
      "3\n",
      "3\n",
      "3\n",
      "1\n",
      "3\n",
      "3\n",
      "3\n",
      "1\n",
      "3\n",
      "3\n",
      "2\n",
      "1\n",
      "3\n",
      "3\n",
      "3\n",
      "3\n",
      "2\n",
      "2\n",
      "2\n",
      "2\n",
      "3\n",
      "3\n",
      "3\n",
      "3\n",
      "3\n",
      "3\n",
      "3\n",
      "2\n",
      "3\n",
      "2\n",
      "3\n",
      "3\n",
      "2\n",
      "3\n",
      "2\n",
      "3\n",
      "2\n",
      "1\n",
      "3\n",
      "3\n",
      "3\n",
      "2\n",
      "3\n",
      "3\n",
      "3\n",
      "2\n",
      "3\n",
      "3\n",
      "3\n",
      "3\n",
      "2\n",
      "3\n",
      "2\n",
      "3\n",
      "2\n",
      "3\n",
      "2\n",
      "2\n",
      "2\n",
      "2\n",
      "2\n",
      "3\n",
      "1\n",
      "3\n",
      "3\n",
      "1\n",
      "3\n",
      "3\n",
      "2\n",
      "3\n",
      "2\n",
      "2\n",
      "2\n",
      "3\n",
      "2\n",
      "3\n",
      "1\n",
      "3\n",
      "2\n",
      "3\n",
      "3\n",
      "3\n",
      "2\n",
      "1\n",
      "2\n",
      "2\n",
      "3\n",
      "3\n",
      "3\n",
      "2\n",
      "3\n",
      "3\n",
      "3\n",
      "3\n",
      "2\n",
      "2\n",
      "3\n",
      "3\n",
      "3\n",
      "2\n",
      "3\n",
      "3\n",
      "2\n",
      "2\n",
      "3\n",
      "3\n",
      "3\n",
      "3\n",
      "2\n",
      "3\n",
      "3\n",
      "3\n",
      "2\n",
      "3\n",
      "3\n",
      "3\n",
      "3\n",
      "3\n",
      "3\n",
      "3\n",
      "3\n",
      "3\n",
      "3\n",
      "2\n",
      "3\n",
      "3\n",
      "3\n",
      "3\n",
      "3\n",
      "1\n",
      "3\n",
      "1\n",
      "3\n",
      "3\n",
      "3\n",
      "3\n",
      "3\n",
      "2\n",
      "3\n",
      "3\n"
     ]
    }
   ],
   "source": [
    "\n",
    "# Function that adds to this dataframe details of all movies in index_interest\n",
    "\n",
    "def fetch_data(df, list_IDS, API_Key_OMDB):\n",
    "    ''' For some reason a few of the JSONs for a few of the movie Idsare creating more than one row.\n",
    "    Later drop all rows with index greater than 1.\n",
    "    '''\n",
    "    for i, item in enumerate(list_IDS):\n",
    "        with urlopen('http://www.omdbapi.com/?i=' + item + '&apikey=' + API_Key_OMDB) as response:\n",
    "            # fetching the JSON string for item\n",
    "            source = response.read()\n",
    "            # loading json string as a python dictionary\n",
    "            data = json.loads(source)\n",
    "            add_df = pd.DataFrame.from_dict(data)\n",
    "            print(len(add_df))\n",
    "            #add_df.drop([1,2], axis = 0 , inplace = True)\n",
    "            df = pd.concat([df,add_df])\n",
    "    return df\n",
    "\n",
    "\n",
    "complete_df = fetch_data(empty_df, index_interest, API_Key_OMDB)"
   ]
  },
  {
   "cell_type": "markdown",
   "metadata": {},
   "source": [
    "### Removing Duplicates "
   ]
  },
  {
   "cell_type": "code",
   "execution_count": 127,
   "metadata": {},
   "outputs": [],
   "source": [
    "# Removing Duplicates \n",
    "distinct_df = complete_df.loc[complete_df.index < 1]"
   ]
  },
  {
   "cell_type": "code",
   "execution_count": 601,
   "metadata": {},
   "outputs": [
    {
     "data": {
      "text/plain": [
       "<matplotlib.axes._subplots.AxesSubplot at 0x126e7be48>"
      ]
     },
     "execution_count": 601,
     "metadata": {},
     "output_type": "execute_result"
    },
    {
     "data": {
      "image/png": "[encoded data removed]",
      "text/plain": [
       "<Figure size 432x288 with 1 Axes>"
      ]
     },
     "metadata": {
      "needs_background": "light"
     },
     "output_type": "display_data"
    }
   ],
   "source": [
    "complete_df.loc[complete_df.index < 1].Metascore.replace('N/A', np.nan).astype(float).plot(kind = 'kde')"
   ]
  },
  {
   "cell_type": "code",
   "execution_count": 605,
   "metadata": {},
   "outputs": [
    {
     "data": {
      "text/plain": [
       "<matplotlib.axes._subplots.AxesSubplot at 0x12707b550>"
      ]
     },
     "execution_count": 605,
     "metadata": {},
     "output_type": "execute_result"
    },
    {
     "data": {
      "image/png": "[encoded data removed]",
      "text/plain": [
       "<Figure size 432x288 with 1 Axes>"
      ]
     },
     "metadata": {
      "needs_background": "light"
     },
     "output_type": "display_data"
    }
   ],
   "source": [
    "complete_df.loc[complete_df.index < 1].BoxOffice.replace('N/A', np.nan).str.replace('$','').str.replace(',','').astype(float).plot(kind = 'kde')"
   ]
  },
  {
   "cell_type": "code",
   "execution_count": 128,
   "metadata": {},
   "outputs": [],
   "source": [
    "distinct_df.set_index('imdbID', drop=True, inplace=True)"
   ]
  },
  {
   "cell_type": "code",
   "execution_count": 70,
   "metadata": {},
   "outputs": [],
   "source": [
    "### Save this DF returned by API\n",
    "\n",
    "distinct_df.to_csv('Data/Film_data_from_OMDB_API.csv')"
   ]
  },
  {
   "cell_type": "markdown",
   "metadata": {},
   "source": [
    "#### All columns are Objects"
   ]
  },
  {
   "cell_type": "code",
   "execution_count": 129,
   "metadata": {},
   "outputs": [
    {
     "data": {
      "text/html": [
       "<div>\n",
       "<style scoped>\n",
       "    .dataframe tbody tr th:only-of-type {\n",
       "        vertical-align: middle;\n",
       "    }\n",
       "\n",
       "    .dataframe tbody tr th {\n",
       "        vertical-align: top;\n",
       "    }\n",
       "\n",
       "    .dataframe thead th {\n",
       "        text-align: right;\n",
       "    }\n",
       "</style>\n",
       "<table border=\"1\" class=\"dataframe\">\n",
       "  <thead>\n",
       "    <tr style=\"text-align: right;\">\n",
       "      <th></th>\n",
       "      <th>Title</th>\n",
       "      <th>Year</th>\n",
       "      <th>Rated</th>\n",
       "      <th>Released</th>\n",
       "      <th>Runtime</th>\n",
       "      <th>Genre</th>\n",
       "      <th>Director</th>\n",
       "      <th>Writer</th>\n",
       "      <th>Actors</th>\n",
       "      <th>Plot</th>\n",
       "      <th>Language</th>\n",
       "      <th>Country</th>\n",
       "      <th>Awards</th>\n",
       "      <th>Poster</th>\n",
       "      <th>Ratings</th>\n",
       "      <th>Metascore</th>\n",
       "      <th>imdbRating</th>\n",
       "      <th>imdbVotes</th>\n",
       "      <th>Type</th>\n",
       "      <th>DVD</th>\n",
       "      <th>BoxOffice</th>\n",
       "      <th>Production</th>\n",
       "      <th>Website</th>\n",
       "      <th>Response</th>\n",
       "    </tr>\n",
       "    <tr>\n",
       "      <th>imdbID</th>\n",
       "      <th></th>\n",
       "      <th></th>\n",
       "      <th></th>\n",
       "      <th></th>\n",
       "      <th></th>\n",
       "      <th></th>\n",
       "      <th></th>\n",
       "      <th></th>\n",
       "      <th></th>\n",
       "      <th></th>\n",
       "      <th></th>\n",
       "      <th></th>\n",
       "      <th></th>\n",
       "      <th></th>\n",
       "      <th></th>\n",
       "      <th></th>\n",
       "      <th></th>\n",
       "      <th></th>\n",
       "      <th></th>\n",
       "      <th></th>\n",
       "      <th></th>\n",
       "      <th></th>\n",
       "      <th></th>\n",
       "      <th></th>\n",
       "    </tr>\n",
       "  </thead>\n",
       "  <tbody>\n",
       "    <tr>\n",
       "      <th>tt1010048</th>\n",
       "      <td>Slumdog Millionaire</td>\n",
       "      <td>2008</td>\n",
       "      <td>R</td>\n",
       "      <td>25 Dec 2008</td>\n",
       "      <td>120 min</td>\n",
       "      <td>Drama, Romance</td>\n",
       "      <td>Danny Boyle, Loveleen Tandan(co-director)</td>\n",
       "      <td>Simon Beaufoy (screenplay), Vikas Swarup (novel)</td>\n",
       "      <td>Dev Patel, Saurabh Shukla, Anil Kapoor, Raj Zu...</td>\n",
       "      <td>A Mumbai teenager reflects on his life after b...</td>\n",
       "      <td>English, Hindi, French, German</td>\n",
       "      <td>UK</td>\n",
       "      <td>Won 8 Oscars. Another 147 wins &amp; 131 nominations.</td>\n",
       "      <td>https://m.media-amazon.com/images/M/MV5BZmNjZW...</td>\n",
       "      <td>{'Source': 'Internet Movie Database', 'Value':...</td>\n",
       "      <td>85</td>\n",
       "      <td>8.0</td>\n",
       "      <td>770,590</td>\n",
       "      <td>movie</td>\n",
       "      <td>31 Mar 2009</td>\n",
       "      <td>$141,243,551</td>\n",
       "      <td>Fox Searchlight Pictures</td>\n",
       "      <td>N/A</td>\n",
       "      <td>True</td>\n",
       "    </tr>\n",
       "    <tr>\n",
       "      <th>tt1022603</th>\n",
       "      <td>500 Days of Summer</td>\n",
       "      <td>2009</td>\n",
       "      <td>PG-13</td>\n",
       "      <td>07 Aug 2009</td>\n",
       "      <td>95 min</td>\n",
       "      <td>Comedy, Drama, Romance</td>\n",
       "      <td>Marc Webb</td>\n",
       "      <td>Scott Neustadter, Michael H. Weber</td>\n",
       "      <td>Joseph Gordon-Levitt, Zooey Deschanel, Geoffre...</td>\n",
       "      <td>An offbeat romantic comedy about a woman who d...</td>\n",
       "      <td>English, French, Swedish</td>\n",
       "      <td>USA</td>\n",
       "      <td>Nominated for 2 Golden Globes. Another 17 wins...</td>\n",
       "      <td>https://m.media-amazon.com/images/M/MV5BMTk5Mj...</td>\n",
       "      <td>{'Source': 'Internet Movie Database', 'Value':...</td>\n",
       "      <td>76</td>\n",
       "      <td>7.7</td>\n",
       "      <td>456,349</td>\n",
       "      <td>movie</td>\n",
       "      <td>22 Dec 2009</td>\n",
       "      <td>$32,118,648</td>\n",
       "      <td>Fox Searchlight Pictures</td>\n",
       "      <td>N/A</td>\n",
       "      <td>True</td>\n",
       "    </tr>\n",
       "  </tbody>\n",
       "</table>\n",
       "</div>"
      ],
      "text/plain": [
       "                         Title  Year  Rated     Released  Runtime  \\\n",
       "imdbID                                                              \n",
       "tt1010048  Slumdog Millionaire  2008      R  25 Dec 2008  120 min   \n",
       "tt1022603   500 Days of Summer  2009  PG-13  07 Aug 2009   95 min   \n",
       "\n",
       "                            Genre                                   Director  \\\n",
       "imdbID                                                                         \n",
       "tt1010048          Drama, Romance  Danny Boyle, Loveleen Tandan(co-director)   \n",
       "tt1022603  Comedy, Drama, Romance                                  Marc Webb   \n",
       "\n",
       "                                                     Writer  \\\n",
       "imdbID                                                        \n",
       "tt1010048  Simon Beaufoy (screenplay), Vikas Swarup (novel)   \n",
       "tt1022603                Scott Neustadter, Michael H. Weber   \n",
       "\n",
       "                                                      Actors  \\\n",
       "imdbID                                                         \n",
       "tt1010048  Dev Patel, Saurabh Shukla, Anil Kapoor, Raj Zu...   \n",
       "tt1022603  Joseph Gordon-Levitt, Zooey Deschanel, Geoffre...   \n",
       "\n",
       "                                                        Plot  \\\n",
       "imdbID                                                         \n",
       "tt1010048  A Mumbai teenager reflects on his life after b...   \n",
       "tt1022603  An offbeat romantic comedy about a woman who d...   \n",
       "\n",
       "                                 Language Country  \\\n",
       "imdbID                                              \n",
       "tt1010048  English, Hindi, French, German      UK   \n",
       "tt1022603        English, French, Swedish     USA   \n",
       "\n",
       "                                                      Awards  \\\n",
       "imdbID                                                         \n",
       "tt1010048  Won 8 Oscars. Another 147 wins & 131 nominations.   \n",
       "tt1022603  Nominated for 2 Golden Globes. Another 17 wins...   \n",
       "\n",
       "                                                      Poster  \\\n",
       "imdbID                                                         \n",
       "tt1010048  https://m.media-amazon.com/images/M/MV5BZmNjZW...   \n",
       "tt1022603  https://m.media-amazon.com/images/M/MV5BMTk5Mj...   \n",
       "\n",
       "                                                     Ratings Metascore  \\\n",
       "imdbID                                                                   \n",
       "tt1010048  {'Source': 'Internet Movie Database', 'Value':...        85   \n",
       "tt1022603  {'Source': 'Internet Movie Database', 'Value':...        76   \n",
       "\n",
       "          imdbRating imdbVotes   Type          DVD     BoxOffice  \\\n",
       "imdbID                                                             \n",
       "tt1010048        8.0   770,590  movie  31 Mar 2009  $141,243,551   \n",
       "tt1022603        7.7   456,349  movie  22 Dec 2009   $32,118,648   \n",
       "\n",
       "                         Production Website Response  \n",
       "imdbID                                                \n",
       "tt1010048  Fox Searchlight Pictures     N/A     True  \n",
       "tt1022603  Fox Searchlight Pictures     N/A     True  "
      ]
     },
     "execution_count": 129,
     "metadata": {},
     "output_type": "execute_result"
    }
   ],
   "source": [
    "distinct_df.head(2)"
   ]
  },
  {
   "cell_type": "markdown",
   "metadata": {},
   "source": [
    "### Selecting which columns to and which to drop"
   ]
  },
  {
   "cell_type": "markdown",
   "metadata": {},
   "source": [
    "1. Title, - keep for now.\n",
    "2. Year of release already in data. - Drop\n",
    "2. Rated could be Important - Keep (10 Features)\n",
    "3. Released,Runtime, Genre- Drop\n",
    "4. *Director, Writer (328 distinct), Actors (344 distinct) - Could be interesting, drop for now.\n",
    "5. PLot - Sentiment Analysis on this ? later, drop for now\n",
    "6. Language - Keep \n",
    "7. COuntry - keep\n",
    "8. Awards - COuld get complicated in text.(keep)\n",
    "9. Poster, Ratings, imdbRating, imdbVotes, type, dvd - drop\n",
    "10. metascore,Boxoffice - keep\n",
    "11. Production - could be interesting (108 Features) - keep\n",
    "12. Website, response - Drop"
   ]
  },
  {
   "cell_type": "code",
   "execution_count": 131,
   "metadata": {},
   "outputs": [
    {
     "name": "stderr",
     "output_type": "stream",
     "text": [
      "/Library/Frameworks/Python.framework/Versions/3.6/lib/python3.6/site-packages/pandas/core/frame.py:3997: SettingWithCopyWarning: \n",
      "A value is trying to be set on a copy of a slice from a DataFrame\n",
      "\n",
      "See the caveats in the documentation: https://pandas.pydata.org/pandas-docs/stable/user_guide/indexing.html#returning-a-view-versus-a-copy\n",
      "  errors=errors,\n"
     ]
    }
   ],
   "source": [
    "distinct_df.drop(['Year', 'Released', 'Runtime', 'Genre', 'Director', 'Writer', 'Actors', 'Plot','Poster', 'Ratings', 'imdbRating', 'imdbVotes', 'Type', 'DVD', 'Website', 'Response' ], axis = 1 , inplace = True)"
   ]
  },
  {
   "cell_type": "code",
   "execution_count": 154,
   "metadata": {},
   "outputs": [
    {
     "data": {
      "text/html": [
       "<div>\n",
       "<style scoped>\n",
       "    .dataframe tbody tr th:only-of-type {\n",
       "        vertical-align: middle;\n",
       "    }\n",
       "\n",
       "    .dataframe tbody tr th {\n",
       "        vertical-align: top;\n",
       "    }\n",
       "\n",
       "    .dataframe thead th {\n",
       "        text-align: right;\n",
       "    }\n",
       "</style>\n",
       "<table border=\"1\" class=\"dataframe\">\n",
       "  <thead>\n",
       "    <tr style=\"text-align: right;\">\n",
       "      <th></th>\n",
       "      <th>Title</th>\n",
       "      <th>Rated</th>\n",
       "      <th>Language</th>\n",
       "      <th>Country</th>\n",
       "      <th>Awards</th>\n",
       "      <th>Metascore</th>\n",
       "      <th>BoxOffice</th>\n",
       "      <th>Production</th>\n",
       "    </tr>\n",
       "    <tr>\n",
       "      <th>imdbID</th>\n",
       "      <th></th>\n",
       "      <th></th>\n",
       "      <th></th>\n",
       "      <th></th>\n",
       "      <th></th>\n",
       "      <th></th>\n",
       "      <th></th>\n",
       "      <th></th>\n",
       "    </tr>\n",
       "  </thead>\n",
       "  <tbody>\n",
       "    <tr>\n",
       "      <th>tt1010048</th>\n",
       "      <td>Slumdog Millionaire</td>\n",
       "      <td>R</td>\n",
       "      <td>English, Hindi, French, German</td>\n",
       "      <td>UK</td>\n",
       "      <td>Won 8 Oscars. Another 147 wins &amp; 131 nominations.</td>\n",
       "      <td>85</td>\n",
       "      <td>$141,243,551</td>\n",
       "      <td>Fox Searchlight Pictures</td>\n",
       "    </tr>\n",
       "    <tr>\n",
       "      <th>tt1022603</th>\n",
       "      <td>500 Days of Summer</td>\n",
       "      <td>T</td>\n",
       "      <td>English, French, Swedish</td>\n",
       "      <td>USA</td>\n",
       "      <td>Nominated for 2 Golden Globes. Another 17 wins...</td>\n",
       "      <td>76</td>\n",
       "      <td>$32,118,648</td>\n",
       "      <td>Fox Searchlight Pictures</td>\n",
       "    </tr>\n",
       "  </tbody>\n",
       "</table>\n",
       "</div>"
      ],
      "text/plain": [
       "                         Title Rated                        Language Country  \\\n",
       "imdbID                                                                         \n",
       "tt1010048  Slumdog Millionaire     R  English, Hindi, French, German      UK   \n",
       "tt1022603   500 Days of Summer     T        English, French, Swedish     USA   \n",
       "\n",
       "                                                      Awards Metascore  \\\n",
       "imdbID                                                                   \n",
       "tt1010048  Won 8 Oscars. Another 147 wins & 131 nominations.        85   \n",
       "tt1022603  Nominated for 2 Golden Globes. Another 17 wins...        76   \n",
       "\n",
       "              BoxOffice                Production  \n",
       "imdbID                                             \n",
       "tt1010048  $141,243,551  Fox Searchlight Pictures  \n",
       "tt1022603   $32,118,648  Fox Searchlight Pictures  "
      ]
     },
     "execution_count": 154,
     "metadata": {},
     "output_type": "execute_result"
    }
   ],
   "source": [
    "distinct_df.head(2)"
   ]
  },
  {
   "cell_type": "markdown",
   "metadata": {},
   "source": [
    "### Data Wrangling/ Pre-processing/ Cleaning \n",
    "Process of converting or mapping data from original raw form into another format, preparing it for further analysis.\n",
    "1. Identifying and Handling missing values.\n",
    "2. Data Formating.\n",
    "3. Data Normalization(centering and scaling).\n",
    "4. Data bining.\n",
    "5. Turning categorical values into numerical values."
   ]
  },
  {
   "cell_type": "markdown",
   "metadata": {},
   "source": [
    "### Rated Column\n",
    "lets have everything in 4 columns:\n",
    "1. Younguns (G) - G\n",
    "2. teens(T) - PG, pg 13\n",
    "3. Mature(M) - M, Tv-MA\n",
    "4. Unrated/Missing(NA) - Most Not Rated movies are Indian Movies. Keep NA(better would be to get Indian Ratings and replace with corresponding)"
   ]
  },
  {
   "cell_type": "code",
   "execution_count": 133,
   "metadata": {},
   "outputs": [
    {
     "data": {
      "text/plain": [
       "10"
      ]
     },
     "execution_count": 133,
     "metadata": {},
     "output_type": "execute_result"
    }
   ],
   "source": [
    "len(distinct_df['Rated'].unique())"
   ]
  },
  {
   "cell_type": "code",
   "execution_count": 150,
   "metadata": {},
   "outputs": [
    {
     "data": {
      "text/plain": [
       "R            126\n",
       "T            121\n",
       "Not Rated     81\n",
       "G             17\n",
       "Name: Rated, dtype: int64"
      ]
     },
     "execution_count": 150,
     "metadata": {},
     "output_type": "execute_result"
    }
   ],
   "source": [
    "distinct_df['Rated'].value_counts()"
   ]
  },
  {
   "cell_type": "markdown",
   "metadata": {},
   "source": [
    "### Languages :\n",
    "1. More than One language = Multilingual/Foreign\n",
    "2. Single language keep as is\n",
    "3. Problem is many foreign films with a bit of english etc. also get grouped here."
   ]
  },
  {
   "cell_type": "code",
   "execution_count": 149,
   "metadata": {},
   "outputs": [
    {
     "name": "stderr",
     "output_type": "stream",
     "text": [
      "/Library/Frameworks/Python.framework/Versions/3.6/lib/python3.6/site-packages/pandas/core/generic.py:6746: SettingWithCopyWarning: \n",
      "A value is trying to be set on a copy of a slice from a DataFrame\n",
      "\n",
      "See the caveats in the documentation: https://pandas.pydata.org/pandas-docs/stable/user_guide/indexing.html#returning-a-view-versus-a-copy\n",
      "  self._update_inplace(new_data)\n"
     ]
    }
   ],
   "source": [
    "#distinct_df['Rated'].replace('TV-MA', 'R', inplace = True)"
   ]
  },
  {
   "cell_type": "code",
   "execution_count": 284,
   "metadata": {},
   "outputs": [
    {
     "name": "stderr",
     "output_type": "stream",
     "text": [
      "/Library/Frameworks/Python.framework/Versions/3.6/lib/python3.6/site-packages/pandas/core/indexing.py:670: SettingWithCopyWarning: \n",
      "A value is trying to be set on a copy of a slice from a DataFrame\n",
      "\n",
      "See the caveats in the documentation: https://pandas.pydata.org/pandas-docs/stable/user_guide/indexing.html#returning-a-view-versus-a-copy\n",
      "  self._setitem_with_indexer(indexer, value)\n",
      "/Library/Frameworks/Python.framework/Versions/3.6/lib/python3.6/site-packages/ipykernel_launcher.py:1: SettingWithCopyWarning: \n",
      "A value is trying to be set on a copy of a slice from a DataFrame\n",
      "\n",
      "See the caveats in the documentation: https://pandas.pydata.org/pandas-docs/stable/user_guide/indexing.html#returning-a-view-versus-a-copy\n",
      "  \"\"\"Entry point for launching an IPython kernel.\n"
     ]
    }
   ],
   "source": [
    "distinct_df.loc[(~distinct_df['Language'].isin(['English','Hindi'])), ['Language']]  = 'Multilingual/Foreign'"
   ]
  },
  {
   "cell_type": "markdown",
   "metadata": {},
   "source": [
    "### Country Column\n",
    "1. Lets split the countries and expand column. (first column has 16 features, keep these)\n",
    "2. Keep only two cols, remove rest,\n",
    "3. Add these two cols back up to see how many combinations we're left with.(50, too many)"
   ]
  },
  {
   "cell_type": "code",
   "execution_count": 364,
   "metadata": {},
   "outputs": [
    {
     "name": "stderr",
     "output_type": "stream",
     "text": [
      "/Library/Frameworks/Python.framework/Versions/3.6/lib/python3.6/site-packages/pandas/core/frame.py:2963: SettingWithCopyWarning: \n",
      "A value is trying to be set on a copy of a slice from a DataFrame.\n",
      "Try using .loc[row_indexer,col_indexer] = value instead\n",
      "\n",
      "See the caveats in the documentation: https://pandas.pydata.org/pandas-docs/stable/user_guide/indexing.html#returning-a-view-versus-a-copy\n",
      "  self[k1] = value[k2]\n"
     ]
    }
   ],
   "source": [
    "distinct_df[['Country', 'Country1']] = distinct_df['Country'].str.split(',', expand = True)"
   ]
  },
  {
   "cell_type": "code",
   "execution_count": 366,
   "metadata": {},
   "outputs": [
    {
     "name": "stderr",
     "output_type": "stream",
     "text": [
      "/Library/Frameworks/Python.framework/Versions/3.6/lib/python3.6/site-packages/pandas/core/frame.py:3997: SettingWithCopyWarning: \n",
      "A value is trying to be set on a copy of a slice from a DataFrame\n",
      "\n",
      "See the caveats in the documentation: https://pandas.pydata.org/pandas-docs/stable/user_guide/indexing.html#returning-a-view-versus-a-copy\n",
      "  errors=errors,\n"
     ]
    }
   ],
   "source": [
    "distinct_df.drop(['Country1'], axis = 1, inplace = True)"
   ]
  },
  {
   "cell_type": "markdown",
   "metadata": {},
   "source": [
    "### Awards\n",
    "1. If the word oscar occurs in the filed, set Bafta, emmy, oscar nominee/winner = 1, else = 0\n",
    "2. Could also parse/ create bins according to how many awards nom/win, too much work, requires re."
   ]
  },
  {
   "cell_type": "code",
   "execution_count": 399,
   "metadata": {},
   "outputs": [
    {
     "name": "stderr",
     "output_type": "stream",
     "text": [
      "/Library/Frameworks/Python.framework/Versions/3.6/lib/python3.6/site-packages/pandas/core/indexing.py:670: SettingWithCopyWarning: \n",
      "A value is trying to be set on a copy of a slice from a DataFrame\n",
      "\n",
      "See the caveats in the documentation: https://pandas.pydata.org/pandas-docs/stable/user_guide/indexing.html#returning-a-view-versus-a-copy\n",
      "  self._setitem_with_indexer(indexer, value)\n",
      "/Library/Frameworks/Python.framework/Versions/3.6/lib/python3.6/site-packages/ipykernel_launcher.py:1: SettingWithCopyWarning: \n",
      "A value is trying to be set on a copy of a slice from a DataFrame\n",
      "\n",
      "See the caveats in the documentation: https://pandas.pydata.org/pandas-docs/stable/user_guide/indexing.html#returning-a-view-versus-a-copy\n",
      "  \"\"\"Entry point for launching an IPython kernel.\n"
     ]
    }
   ],
   "source": [
    "distinct_df.loc[(distinct_df['Awards'].str.contains('Oscars')), 'Major_Awards' ] = 1"
   ]
  },
  {
   "cell_type": "code",
   "execution_count": 429,
   "metadata": {},
   "outputs": [
    {
     "name": "stderr",
     "output_type": "stream",
     "text": [
      "/Library/Frameworks/Python.framework/Versions/3.6/lib/python3.6/site-packages/pandas/core/indexing.py:670: SettingWithCopyWarning: \n",
      "A value is trying to be set on a copy of a slice from a DataFrame\n",
      "\n",
      "See the caveats in the documentation: https://pandas.pydata.org/pandas-docs/stable/user_guide/indexing.html#returning-a-view-versus-a-copy\n",
      "  self._setitem_with_indexer(indexer, value)\n",
      "/Library/Frameworks/Python.framework/Versions/3.6/lib/python3.6/site-packages/ipykernel_launcher.py:1: SettingWithCopyWarning: \n",
      "A value is trying to be set on a copy of a slice from a DataFrame\n",
      "\n",
      "See the caveats in the documentation: https://pandas.pydata.org/pandas-docs/stable/user_guide/indexing.html#returning-a-view-versus-a-copy\n",
      "  \"\"\"Entry point for launching an IPython kernel.\n"
     ]
    }
   ],
   "source": [
    "distinct_df.loc[(distinct_df['Awards'].str.contains('Oscar')), 'Major_Awards' ] = 1"
   ]
  },
  {
   "cell_type": "code",
   "execution_count": 400,
   "metadata": {},
   "outputs": [
    {
     "name": "stderr",
     "output_type": "stream",
     "text": [
      "/Library/Frameworks/Python.framework/Versions/3.6/lib/python3.6/site-packages/pandas/core/indexing.py:670: SettingWithCopyWarning: \n",
      "A value is trying to be set on a copy of a slice from a DataFrame\n",
      "\n",
      "See the caveats in the documentation: https://pandas.pydata.org/pandas-docs/stable/user_guide/indexing.html#returning-a-view-versus-a-copy\n",
      "  self._setitem_with_indexer(indexer, value)\n",
      "/Library/Frameworks/Python.framework/Versions/3.6/lib/python3.6/site-packages/ipykernel_launcher.py:1: SettingWithCopyWarning: \n",
      "A value is trying to be set on a copy of a slice from a DataFrame\n",
      "\n",
      "See the caveats in the documentation: https://pandas.pydata.org/pandas-docs/stable/user_guide/indexing.html#returning-a-view-versus-a-copy\n",
      "  \"\"\"Entry point for launching an IPython kernel.\n"
     ]
    }
   ],
   "source": [
    "distinct_df.loc[(distinct_df['Awards'].str.contains('Golden Globe')), 'Major_Awards'] = 1"
   ]
  },
  {
   "cell_type": "code",
   "execution_count": 408,
   "metadata": {},
   "outputs": [
    {
     "name": "stderr",
     "output_type": "stream",
     "text": [
      "/Library/Frameworks/Python.framework/Versions/3.6/lib/python3.6/site-packages/pandas/core/indexing.py:670: SettingWithCopyWarning: \n",
      "A value is trying to be set on a copy of a slice from a DataFrame\n",
      "\n",
      "See the caveats in the documentation: https://pandas.pydata.org/pandas-docs/stable/user_guide/indexing.html#returning-a-view-versus-a-copy\n",
      "  self._setitem_with_indexer(indexer, value)\n",
      "/Library/Frameworks/Python.framework/Versions/3.6/lib/python3.6/site-packages/ipykernel_launcher.py:1: SettingWithCopyWarning: \n",
      "A value is trying to be set on a copy of a slice from a DataFrame\n",
      "\n",
      "See the caveats in the documentation: https://pandas.pydata.org/pandas-docs/stable/user_guide/indexing.html#returning-a-view-versus-a-copy\n",
      "  \"\"\"Entry point for launching an IPython kernel.\n"
     ]
    }
   ],
   "source": [
    "distinct_df.loc[(distinct_df['Awards'].str.contains('Emmy')), 'Major_Awards'] = 1"
   ]
  },
  {
   "cell_type": "code",
   "execution_count": 414,
   "metadata": {},
   "outputs": [
    {
     "name": "stderr",
     "output_type": "stream",
     "text": [
      "/Library/Frameworks/Python.framework/Versions/3.6/lib/python3.6/site-packages/pandas/core/indexing.py:670: SettingWithCopyWarning: \n",
      "A value is trying to be set on a copy of a slice from a DataFrame\n",
      "\n",
      "See the caveats in the documentation: https://pandas.pydata.org/pandas-docs/stable/user_guide/indexing.html#returning-a-view-versus-a-copy\n",
      "  self._setitem_with_indexer(indexer, value)\n",
      "/Library/Frameworks/Python.framework/Versions/3.6/lib/python3.6/site-packages/ipykernel_launcher.py:1: SettingWithCopyWarning: \n",
      "A value is trying to be set on a copy of a slice from a DataFrame\n",
      "\n",
      "See the caveats in the documentation: https://pandas.pydata.org/pandas-docs/stable/user_guide/indexing.html#returning-a-view-versus-a-copy\n",
      "  \"\"\"Entry point for launching an IPython kernel.\n"
     ]
    }
   ],
   "source": [
    "distinct_df.loc[(distinct_df['Awards'].str.contains('BAFTA')), 'Major_Awards'] = 1"
   ]
  },
  {
   "cell_type": "code",
   "execution_count": 433,
   "metadata": {},
   "outputs": [
    {
     "name": "stderr",
     "output_type": "stream",
     "text": [
      "/Library/Frameworks/Python.framework/Versions/3.6/lib/python3.6/site-packages/pandas/core/indexing.py:670: SettingWithCopyWarning: \n",
      "A value is trying to be set on a copy of a slice from a DataFrame\n",
      "\n",
      "See the caveats in the documentation: https://pandas.pydata.org/pandas-docs/stable/user_guide/indexing.html#returning-a-view-versus-a-copy\n",
      "  self._setitem_with_indexer(indexer, value)\n",
      "/Library/Frameworks/Python.framework/Versions/3.6/lib/python3.6/site-packages/ipykernel_launcher.py:1: SettingWithCopyWarning: \n",
      "A value is trying to be set on a copy of a slice from a DataFrame\n",
      "\n",
      "See the caveats in the documentation: https://pandas.pydata.org/pandas-docs/stable/user_guide/indexing.html#returning-a-view-versus-a-copy\n",
      "  \"\"\"Entry point for launching an IPython kernel.\n"
     ]
    }
   ],
   "source": [
    "distinct_df.loc[(distinct_df['Major_Awards'].isna()), 'Major_Awards'] = 0"
   ]
  },
  {
   "cell_type": "code",
   "execution_count": 451,
   "metadata": {},
   "outputs": [],
   "source": [
    "#distinct_df.loc[distinct_df['Major_Awards'] == 0, ['Title','Metascore']].sort_values(by = 'Metascore', ascending = False).head(100)"
   ]
  },
  {
   "cell_type": "markdown",
   "metadata": {},
   "source": [
    "#### Metascore (Binning)\n",
    "1. Important Metric of critic praise.\n",
    "2. Multiple missing values, what do ?\n",
    "3. Lets bin the scores, >75 - high, >50 - mid > 25 Low, unknown - N/A"
   ]
  },
  {
   "cell_type": "code",
   "execution_count": 456,
   "metadata": {},
   "outputs": [
    {
     "data": {
      "text/plain": [
       "False    262\n",
       "True      83\n",
       "Name: Metascore, dtype: int64"
      ]
     },
     "execution_count": 456,
     "metadata": {},
     "output_type": "execute_result"
    }
   ],
   "source": [
    "distinct_df['Metascore'].isin(['N/A']).value_counts()"
   ]
  },
  {
   "cell_type": "code",
   "execution_count": 481,
   "metadata": {},
   "outputs": [
    {
     "name": "stderr",
     "output_type": "stream",
     "text": [
      "/Library/Frameworks/Python.framework/Versions/3.6/lib/python3.6/site-packages/pandas/core/generic.py:6746: SettingWithCopyWarning: \n",
      "A value is trying to be set on a copy of a slice from a DataFrame\n",
      "\n",
      "See the caveats in the documentation: https://pandas.pydata.org/pandas-docs/stable/user_guide/indexing.html#returning-a-view-versus-a-copy\n",
      "  self._update_inplace(new_data)\n"
     ]
    }
   ],
   "source": [
    "distinct_df.Metascore.replace('N/A', '0', inplace = True)"
   ]
  },
  {
   "cell_type": "code",
   "execution_count": 482,
   "metadata": {},
   "outputs": [
    {
     "name": "stderr",
     "output_type": "stream",
     "text": [
      "/Library/Frameworks/Python.framework/Versions/3.6/lib/python3.6/site-packages/pandas/core/generic.py:5303: SettingWithCopyWarning: \n",
      "A value is trying to be set on a copy of a slice from a DataFrame.\n",
      "Try using .loc[row_indexer,col_indexer] = value instead\n",
      "\n",
      "See the caveats in the documentation: https://pandas.pydata.org/pandas-docs/stable/user_guide/indexing.html#returning-a-view-versus-a-copy\n",
      "  self[name] = value\n"
     ]
    }
   ],
   "source": [
    "distinct_df.Metascore = distinct_df.Metascore.astype(int)"
   ]
  },
  {
   "cell_type": "code",
   "execution_count": 555,
   "metadata": {},
   "outputs": [],
   "source": [
    "# Creating equally spaced bins\n",
    "\n",
    "#bins = np.linspace(min(distinct_df.Metascore), max(distinct_df.Metascore), 4)"
   ]
  },
  {
   "cell_type": "code",
   "execution_count": 492,
   "metadata": {},
   "outputs": [],
   "source": [
    "bins = np.insert(bins,1, 1)"
   ]
  },
  {
   "cell_type": "code",
   "execution_count": 488,
   "metadata": {},
   "outputs": [],
   "source": [
    "# create list of categorical values for bin names \n",
    "\n",
    "group_name = ['N/A','low', 'mid', 'high']"
   ]
  },
  {
   "cell_type": "code",
   "execution_count": 494,
   "metadata": {},
   "outputs": [
    {
     "name": "stderr",
     "output_type": "stream",
     "text": [
      "/Library/Frameworks/Python.framework/Versions/3.6/lib/python3.6/site-packages/ipykernel_launcher.py:1: SettingWithCopyWarning: \n",
      "A value is trying to be set on a copy of a slice from a DataFrame.\n",
      "Try using .loc[row_indexer,col_indexer] = value instead\n",
      "\n",
      "See the caveats in the documentation: https://pandas.pydata.org/pandas-docs/stable/user_guide/indexing.html#returning-a-view-versus-a-copy\n",
      "  \"\"\"Entry point for launching an IPython kernel.\n"
     ]
    }
   ],
   "source": [
    "distinct_df['Metascore_binned'] = pd.cut(distinct_df['Metascore'], bins, labels = group_name, include_lowest=True)"
   ]
  },
  {
   "cell_type": "code",
   "execution_count": 497,
   "metadata": {},
   "outputs": [
    {
     "name": "stderr",
     "output_type": "stream",
     "text": [
      "/Library/Frameworks/Python.framework/Versions/3.6/lib/python3.6/site-packages/pandas/core/frame.py:3997: SettingWithCopyWarning: \n",
      "A value is trying to be set on a copy of a slice from a DataFrame\n",
      "\n",
      "See the caveats in the documentation: https://pandas.pydata.org/pandas-docs/stable/user_guide/indexing.html#returning-a-view-versus-a-copy\n",
      "  errors=errors,\n"
     ]
    }
   ],
   "source": [
    "distinct_df.drop(['Awards', 'Metascore'], axis = 1, inplace = True)"
   ]
  },
  {
   "cell_type": "markdown",
   "metadata": {},
   "source": [
    "### Box Office (Just US Box OFfice, Keeping for Now)\n",
    "0. Almost half the data is missing.\n",
    "1. Strings, split on $.\n",
    "2. convert to number.\n",
    "3. Bin as, Billion $500Million, 100 Million, 10 Million, 1 Million, NA"
   ]
  },
  {
   "cell_type": "code",
   "execution_count": 502,
   "metadata": {},
   "outputs": [
    {
     "data": {
      "text/plain": [
       "True     191\n",
       "False    154\n",
       "Name: BoxOffice, dtype: int64"
      ]
     },
     "execution_count": 502,
     "metadata": {},
     "output_type": "execute_result"
    }
   ],
   "source": [
    "distinct_df['BoxOffice'].isin(['N/A']).value_counts()"
   ]
  },
  {
   "cell_type": "code",
   "execution_count": 510,
   "metadata": {},
   "outputs": [
    {
     "name": "stderr",
     "output_type": "stream",
     "text": [
      "/Library/Frameworks/Python.framework/Versions/3.6/lib/python3.6/site-packages/ipykernel_launcher.py:1: SettingWithCopyWarning: \n",
      "A value is trying to be set on a copy of a slice from a DataFrame.\n",
      "Try using .loc[row_indexer,col_indexer] = value instead\n",
      "\n",
      "See the caveats in the documentation: https://pandas.pydata.org/pandas-docs/stable/user_guide/indexing.html#returning-a-view-versus-a-copy\n",
      "  \"\"\"Entry point for launching an IPython kernel.\n"
     ]
    }
   ],
   "source": [
    "distinct_df['BoxOffice'] = distinct_df['BoxOffice'].str.replace('$', '')"
   ]
  },
  {
   "cell_type": "code",
   "execution_count": 513,
   "metadata": {},
   "outputs": [
    {
     "name": "stderr",
     "output_type": "stream",
     "text": [
      "/Library/Frameworks/Python.framework/Versions/3.6/lib/python3.6/site-packages/ipykernel_launcher.py:1: SettingWithCopyWarning: \n",
      "A value is trying to be set on a copy of a slice from a DataFrame.\n",
      "Try using .loc[row_indexer,col_indexer] = value instead\n",
      "\n",
      "See the caveats in the documentation: https://pandas.pydata.org/pandas-docs/stable/user_guide/indexing.html#returning-a-view-versus-a-copy\n",
      "  \"\"\"Entry point for launching an IPython kernel.\n"
     ]
    }
   ],
   "source": [
    "distinct_df['BoxOffice'] = distinct_df['BoxOffice'].str.replace(',', '')"
   ]
  },
  {
   "cell_type": "code",
   "execution_count": 526,
   "metadata": {},
   "outputs": [
    {
     "name": "stderr",
     "output_type": "stream",
     "text": [
      "/Library/Frameworks/Python.framework/Versions/3.6/lib/python3.6/site-packages/pandas/core/generic.py:6746: SettingWithCopyWarning: \n",
      "A value is trying to be set on a copy of a slice from a DataFrame\n",
      "\n",
      "See the caveats in the documentation: https://pandas.pydata.org/pandas-docs/stable/user_guide/indexing.html#returning-a-view-versus-a-copy\n",
      "  self._update_inplace(new_data)\n"
     ]
    }
   ],
   "source": [
    "distinct_df['BoxOffice'].replace('N/A',  0, inplace = True)"
   ]
  },
  {
   "cell_type": "code",
   "execution_count": 530,
   "metadata": {},
   "outputs": [
    {
     "name": "stderr",
     "output_type": "stream",
     "text": [
      "/Library/Frameworks/Python.framework/Versions/3.6/lib/python3.6/site-packages/ipykernel_launcher.py:1: SettingWithCopyWarning: \n",
      "A value is trying to be set on a copy of a slice from a DataFrame.\n",
      "Try using .loc[row_indexer,col_indexer] = value instead\n",
      "\n",
      "See the caveats in the documentation: https://pandas.pydata.org/pandas-docs/stable/user_guide/indexing.html#returning-a-view-versus-a-copy\n",
      "  \"\"\"Entry point for launching an IPython kernel.\n"
     ]
    }
   ],
   "source": [
    "distinct_df['BoxOffice'] = distinct_df['BoxOffice'].astype(float)"
   ]
  },
  {
   "cell_type": "code",
   "execution_count": 532,
   "metadata": {},
   "outputs": [
    {
     "data": {
      "text/plain": [
       "imdbID\n",
       "tt0032553            0.0\n",
       "tt4154796            0.0\n",
       "tt0420293            0.0\n",
       "tt4354792            0.0\n",
       "tt0437086            0.0\n",
       "                ...     \n",
       "tt0369610    528757749.0\n",
       "tt0468569    533316061.0\n",
       "tt2527336    619117636.0\n",
       "tt0499549    749700000.0\n",
       "tt2488496    936658640.0\n",
       "Name: BoxOffice, Length: 345, dtype: float64"
      ]
     },
     "execution_count": 532,
     "metadata": {},
     "output_type": "execute_result"
    }
   ],
   "source": [
    "distinct_df['BoxOffice'].sort_values()"
   ]
  },
  {
   "cell_type": "code",
   "execution_count": 562,
   "metadata": {},
   "outputs": [],
   "source": [
    "# Creating equally spaced bins\n",
    "\n",
    "bins = np.array([0.0, 1.0, 1000000.0, 10000000.0, 100000000.0, 500000000.0])"
   ]
  },
  {
   "cell_type": "code",
   "execution_count": 561,
   "metadata": {},
   "outputs": [],
   "source": [
    "group_name = ['N/A','1Mil', '10Mil', '100Mil','500Mil']"
   ]
  },
  {
   "cell_type": "code",
   "execution_count": 563,
   "metadata": {},
   "outputs": [
    {
     "name": "stderr",
     "output_type": "stream",
     "text": [
      "/Library/Frameworks/Python.framework/Versions/3.6/lib/python3.6/site-packages/ipykernel_launcher.py:1: SettingWithCopyWarning: \n",
      "A value is trying to be set on a copy of a slice from a DataFrame.\n",
      "Try using .loc[row_indexer,col_indexer] = value instead\n",
      "\n",
      "See the caveats in the documentation: https://pandas.pydata.org/pandas-docs/stable/user_guide/indexing.html#returning-a-view-versus-a-copy\n",
      "  \"\"\"Entry point for launching an IPython kernel.\n"
     ]
    }
   ],
   "source": [
    "distinct_df['Box_office_binned'] = pd.cut(distinct_df['BoxOffice'], bins, labels = group_name, include_lowest=True)"
   ]
  },
  {
   "cell_type": "code",
   "execution_count": 564,
   "metadata": {},
   "outputs": [
    {
     "data": {
      "text/plain": [
       "N/A       191\n",
       "100Mil     73\n",
       "500Mil     45\n",
       "10Mil      21\n",
       "1Mil       10\n",
       "Name: Box_office_binned, dtype: int64"
      ]
     },
     "execution_count": 564,
     "metadata": {},
     "output_type": "execute_result"
    }
   ],
   "source": [
    "distinct_df['Box_office_binned'].value_counts()"
   ]
  },
  {
   "cell_type": "code",
   "execution_count": 570,
   "metadata": {},
   "outputs": [
    {
     "name": "stderr",
     "output_type": "stream",
     "text": [
      "/Library/Frameworks/Python.framework/Versions/3.6/lib/python3.6/site-packages/pandas/core/frame.py:3997: SettingWithCopyWarning: \n",
      "A value is trying to be set on a copy of a slice from a DataFrame\n",
      "\n",
      "See the caveats in the documentation: https://pandas.pydata.org/pandas-docs/stable/user_guide/indexing.html#returning-a-view-versus-a-copy\n",
      "  errors=errors,\n"
     ]
    }
   ],
   "source": [
    "distinct_df.drop(['BoxOffice'], axis = 1, inplace = True)"
   ]
  },
  {
   "cell_type": "markdown",
   "metadata": {},
   "source": [
    "### Production House\n",
    "80 missing values and 107 studios, too many, drop for now."
   ]
  },
  {
   "cell_type": "code",
   "execution_count": 574,
   "metadata": {},
   "outputs": [
    {
     "data": {
      "text/plain": [
       "N/A                        80\n",
       "Warner Bros. Pictures      21\n",
       "20th Century Fox           19\n",
       "Universal Pictures         17\n",
       "Paramount Pictures         12\n",
       "                           ..\n",
       "LionsGate Entertainment     1\n",
       "Inferno Entertainment       1\n",
       "Aamir Khan Productions      1\n",
       "Marvel Studios              1\n",
       "FilmDistrict                1\n",
       "Name: Production, Length: 108, dtype: int64"
      ]
     },
     "execution_count": 574,
     "metadata": {},
     "output_type": "execute_result"
    }
   ],
   "source": [
    "distinct_df['Production'].value_counts()"
   ]
  },
  {
   "cell_type": "markdown",
   "metadata": {},
   "source": [
    "### Saving Final DF"
   ]
  },
  {
   "cell_type": "code",
   "execution_count": 578,
   "metadata": {},
   "outputs": [
    {
     "name": "stderr",
     "output_type": "stream",
     "text": [
      "/Library/Frameworks/Python.framework/Versions/3.6/lib/python3.6/site-packages/pandas/core/frame.py:3997: SettingWithCopyWarning: \n",
      "A value is trying to be set on a copy of a slice from a DataFrame\n",
      "\n",
      "See the caveats in the documentation: https://pandas.pydata.org/pandas-docs/stable/user_guide/indexing.html#returning-a-view-versus-a-copy\n",
      "  errors=errors,\n"
     ]
    }
   ],
   "source": [
    "distinct_df.drop(['Title', 'Production'], axis = 1, inplace = True)"
   ]
  },
  {
   "cell_type": "code",
   "execution_count": 580,
   "metadata": {},
   "outputs": [
    {
     "data": {
      "text/html": [
       "<div>\n",
       "<style scoped>\n",
       "    .dataframe tbody tr th:only-of-type {\n",
       "        vertical-align: middle;\n",
       "    }\n",
       "\n",
       "    .dataframe tbody tr th {\n",
       "        vertical-align: top;\n",
       "    }\n",
       "\n",
       "    .dataframe thead th {\n",
       "        text-align: right;\n",
       "    }\n",
       "</style>\n",
       "<table border=\"1\" class=\"dataframe\">\n",
       "  <thead>\n",
       "    <tr style=\"text-align: right;\">\n",
       "      <th></th>\n",
       "      <th>Rated</th>\n",
       "      <th>Language</th>\n",
       "      <th>Country</th>\n",
       "      <th>Major_Awards</th>\n",
       "      <th>Metascore_binned</th>\n",
       "      <th>Box_office_binned</th>\n",
       "    </tr>\n",
       "    <tr>\n",
       "      <th>imdbID</th>\n",
       "      <th></th>\n",
       "      <th></th>\n",
       "      <th></th>\n",
       "      <th></th>\n",
       "      <th></th>\n",
       "      <th></th>\n",
       "    </tr>\n",
       "  </thead>\n",
       "  <tbody>\n",
       "    <tr>\n",
       "      <th>tt1010048</th>\n",
       "      <td>R</td>\n",
       "      <td>Multilingual/Foreign</td>\n",
       "      <td>UK</td>\n",
       "      <td>1</td>\n",
       "      <td>high</td>\n",
       "      <td>500Mil</td>\n",
       "    </tr>\n",
       "    <tr>\n",
       "      <th>tt1022603</th>\n",
       "      <td>T</td>\n",
       "      <td>Multilingual/Foreign</td>\n",
       "      <td>USA</td>\n",
       "      <td>1</td>\n",
       "      <td>high</td>\n",
       "      <td>100Mil</td>\n",
       "    </tr>\n",
       "  </tbody>\n",
       "</table>\n",
       "</div>"
      ],
      "text/plain": [
       "          Rated              Language Country Major_Awards Metascore_binned  \\\n",
       "imdbID                                                                        \n",
       "tt1010048     R  Multilingual/Foreign      UK            1             high   \n",
       "tt1022603     T  Multilingual/Foreign     USA            1             high   \n",
       "\n",
       "          Box_office_binned  \n",
       "imdbID                       \n",
       "tt1010048            500Mil  \n",
       "tt1022603            100Mil  "
      ]
     },
     "execution_count": 580,
     "metadata": {},
     "output_type": "execute_result"
    }
   ],
   "source": [
    "distinct_df.head(2)"
   ]
  },
  {
   "cell_type": "code",
   "execution_count": 579,
   "metadata": {},
   "outputs": [],
   "source": [
    "distinct_df.to_csv('Data/wrangled_Film_data_from_OMDB_API.csv')"
   ]
  }
 ],
 "metadata": {
  "kernelspec": {
   "display_name": "Python 3",
   "language": "python",
   "name": "python3"
  },
  "language_info": {
   "codemirror_mode": {
    "name": "ipython",
    "version": 3
   },
   "file_extension": ".py",
   "mimetype": "text/x-python",
   "name": "python",
   "nbconvert_exporter": "python",
   "pygments_lexer": "ipython3",
   "version": "3.6.4"
  }
 },
 "nbformat": 4,
 "nbformat_minor": 4
}
