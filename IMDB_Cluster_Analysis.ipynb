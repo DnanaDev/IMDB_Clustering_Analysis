{
 "cells": [
  {
   "cell_type": "code",
   "execution_count": 43,
   "metadata": {},
   "outputs": [],
   "source": [
    "#!/usr/bin/python \n",
    "\n",
    "\"\"\" \n",
    "    Skeleton code for k-means clustering mini-project.\n",
    "\"\"\"\n",
    "\n",
    "import pickle\n",
    "import numpy as np\n",
    "import matplotlib.pyplot as plt\n",
    "import sys\n",
    "import pandas as pd\n",
    "sys.path.append(\"../tools/\")\n",
    "from feature_format import featureFormat, targetFeatureSplit"
   ]
  },
  {
   "cell_type": "code",
   "execution_count": 44,
   "metadata": {},
   "outputs": [],
   "source": [
    "def Draw(pred, features, poi, mark_poi=False, name=\"image.png\", f1_name=\"feature 1\", f2_name=\"feature 2\"):\n",
    "    \"\"\" some plotting code designed to help you visualize your clusters \"\"\"\n",
    "\n",
    "    ### plot each cluster with a different color--add more colors for\n",
    "    ### drawing more than five clusters\n",
    "    colors = [\"b\", \"c\", \"k\", \"m\", \"g\"]\n",
    "    for ii, pp in enumerate(pred):\n",
    "        plt.scatter(features[ii][0], features[ii][1], color = colors[pred[ii]])\n",
    "\n",
    "    ### if you like, place red stars over points that are POIs (just for funsies)\n",
    "    if mark_poi:\n",
    "        for ii, pp in enumerate(pred):\n",
    "            if poi[ii]:\n",
    "                plt.scatter(features[ii][0], features[ii][1], color=\"r\", marker=\"*\")\n",
    "    plt.xlabel(f1_name)\n",
    "    plt.ylabel(f2_name)\n",
    "    plt.savefig(name)\n",
    "    plt.show()"
   ]
  },
  {
   "cell_type": "markdown",
   "metadata": {},
   "source": [
    "# Lets see if we can Find Clusters in my IMDB Ratings Dataset."
   ]
  },
  {
   "cell_type": "code",
   "execution_count": 180,
   "metadata": {},
   "outputs": [],
   "source": [
    "path = '/Users/apple/Desktop/DS/Datasets/imdb_ratings.csv'\n",
    "\n",
    "import os\n",
    "from pathlib import Path"
   ]
  },
  {
   "cell_type": "code",
   "execution_count": 175,
   "metadata": {},
   "outputs": [
    {
     "name": "stdout",
     "output_type": "stream",
     "text": [
      "/Users/apple/Desktop/DS/Basic_ML_Algos./K-Means_Clustering\n",
      "/Users/apple\n"
     ]
    }
   ],
   "source": [
    "print(Path.cwd())\n",
    "print(Path.home())"
   ]
  },
  {
   "cell_type": "code",
   "execution_count": 355,
   "metadata": {},
   "outputs": [],
   "source": [
    "data = pd.read_csv(path, engine='python')"
   ]
  },
  {
   "cell_type": "code",
   "execution_count": 356,
   "metadata": {},
   "outputs": [
    {
     "data": {
      "text/html": [
       "<div>\n",
       "<style scoped>\n",
       "    .dataframe tbody tr th:only-of-type {\n",
       "        vertical-align: middle;\n",
       "    }\n",
       "\n",
       "    .dataframe tbody tr th {\n",
       "        vertical-align: top;\n",
       "    }\n",
       "\n",
       "    .dataframe thead th {\n",
       "        text-align: right;\n",
       "    }\n",
       "</style>\n",
       "<table border=\"1\" class=\"dataframe\">\n",
       "  <thead>\n",
       "    <tr style=\"text-align: right;\">\n",
       "      <th></th>\n",
       "      <th>Const</th>\n",
       "      <th>Your Rating</th>\n",
       "      <th>Date Rated</th>\n",
       "      <th>Title</th>\n",
       "      <th>URL</th>\n",
       "      <th>Title Type</th>\n",
       "      <th>IMDb Rating</th>\n",
       "      <th>Runtime (mins)</th>\n",
       "      <th>Year</th>\n",
       "      <th>Genres</th>\n",
       "      <th>Num Votes</th>\n",
       "      <th>Release Date</th>\n",
       "      <th>Directors</th>\n",
       "    </tr>\n",
       "  </thead>\n",
       "  <tbody>\n",
       "    <tr>\n",
       "      <th>count</th>\n",
       "      <td>301</td>\n",
       "      <td>301.000000</td>\n",
       "      <td>301</td>\n",
       "      <td>301</td>\n",
       "      <td>301</td>\n",
       "      <td>301</td>\n",
       "      <td>301.000000</td>\n",
       "      <td>301.000000</td>\n",
       "      <td>301.000000</td>\n",
       "      <td>301</td>\n",
       "      <td>3.010000e+02</td>\n",
       "      <td>300</td>\n",
       "      <td>258</td>\n",
       "    </tr>\n",
       "    <tr>\n",
       "      <th>unique</th>\n",
       "      <td>301</td>\n",
       "      <td>NaN</td>\n",
       "      <td>126</td>\n",
       "      <td>301</td>\n",
       "      <td>301</td>\n",
       "      <td>6</td>\n",
       "      <td>NaN</td>\n",
       "      <td>NaN</td>\n",
       "      <td>NaN</td>\n",
       "      <td>145</td>\n",
       "      <td>NaN</td>\n",
       "      <td>290</td>\n",
       "      <td>203</td>\n",
       "    </tr>\n",
       "    <tr>\n",
       "      <th>top</th>\n",
       "      <td>tt3183660</td>\n",
       "      <td>NaN</td>\n",
       "      <td>2016-04-27</td>\n",
       "      <td>Before Sunrise</td>\n",
       "      <td>https://www.imdb.com/title/tt0470752/</td>\n",
       "      <td>movie</td>\n",
       "      <td>NaN</td>\n",
       "      <td>NaN</td>\n",
       "      <td>NaN</td>\n",
       "      <td>Comedy, Drama</td>\n",
       "      <td>NaN</td>\n",
       "      <td>2018-06-28</td>\n",
       "      <td>Christopher Nolan</td>\n",
       "    </tr>\n",
       "    <tr>\n",
       "      <th>freq</th>\n",
       "      <td>1</td>\n",
       "      <td>NaN</td>\n",
       "      <td>32</td>\n",
       "      <td>1</td>\n",
       "      <td>1</td>\n",
       "      <td>250</td>\n",
       "      <td>NaN</td>\n",
       "      <td>NaN</td>\n",
       "      <td>NaN</td>\n",
       "      <td>26</td>\n",
       "      <td>NaN</td>\n",
       "      <td>2</td>\n",
       "      <td>6</td>\n",
       "    </tr>\n",
       "    <tr>\n",
       "      <th>mean</th>\n",
       "      <td>NaN</td>\n",
       "      <td>7.996678</td>\n",
       "      <td>NaN</td>\n",
       "      <td>NaN</td>\n",
       "      <td>NaN</td>\n",
       "      <td>NaN</td>\n",
       "      <td>7.882060</td>\n",
       "      <td>116.229236</td>\n",
       "      <td>2008.328904</td>\n",
       "      <td>NaN</td>\n",
       "      <td>2.971019e+05</td>\n",
       "      <td>NaN</td>\n",
       "      <td>NaN</td>\n",
       "    </tr>\n",
       "    <tr>\n",
       "      <th>std</th>\n",
       "      <td>NaN</td>\n",
       "      <td>0.939852</td>\n",
       "      <td>NaN</td>\n",
       "      <td>NaN</td>\n",
       "      <td>NaN</td>\n",
       "      <td>NaN</td>\n",
       "      <td>0.696235</td>\n",
       "      <td>61.651688</td>\n",
       "      <td>12.819313</td>\n",
       "      <td>NaN</td>\n",
       "      <td>3.445646e+05</td>\n",
       "      <td>NaN</td>\n",
       "      <td>NaN</td>\n",
       "    </tr>\n",
       "    <tr>\n",
       "      <th>min</th>\n",
       "      <td>NaN</td>\n",
       "      <td>5.000000</td>\n",
       "      <td>NaN</td>\n",
       "      <td>NaN</td>\n",
       "      <td>NaN</td>\n",
       "      <td>NaN</td>\n",
       "      <td>5.600000</td>\n",
       "      <td>6.000000</td>\n",
       "      <td>1931.000000</td>\n",
       "      <td>NaN</td>\n",
       "      <td>3.300000e+01</td>\n",
       "      <td>NaN</td>\n",
       "      <td>NaN</td>\n",
       "    </tr>\n",
       "    <tr>\n",
       "      <th>25%</th>\n",
       "      <td>NaN</td>\n",
       "      <td>8.000000</td>\n",
       "      <td>NaN</td>\n",
       "      <td>NaN</td>\n",
       "      <td>NaN</td>\n",
       "      <td>NaN</td>\n",
       "      <td>7.500000</td>\n",
       "      <td>98.000000</td>\n",
       "      <td>2007.000000</td>\n",
       "      <td>NaN</td>\n",
       "      <td>4.267900e+04</td>\n",
       "      <td>NaN</td>\n",
       "      <td>NaN</td>\n",
       "    </tr>\n",
       "    <tr>\n",
       "      <th>50%</th>\n",
       "      <td>NaN</td>\n",
       "      <td>8.000000</td>\n",
       "      <td>NaN</td>\n",
       "      <td>NaN</td>\n",
       "      <td>NaN</td>\n",
       "      <td>NaN</td>\n",
       "      <td>7.900000</td>\n",
       "      <td>115.000000</td>\n",
       "      <td>2013.000000</td>\n",
       "      <td>NaN</td>\n",
       "      <td>1.852270e+05</td>\n",
       "      <td>NaN</td>\n",
       "      <td>NaN</td>\n",
       "    </tr>\n",
       "    <tr>\n",
       "      <th>75%</th>\n",
       "      <td>NaN</td>\n",
       "      <td>9.000000</td>\n",
       "      <td>NaN</td>\n",
       "      <td>NaN</td>\n",
       "      <td>NaN</td>\n",
       "      <td>NaN</td>\n",
       "      <td>8.300000</td>\n",
       "      <td>132.000000</td>\n",
       "      <td>2016.000000</td>\n",
       "      <td>NaN</td>\n",
       "      <td>4.329790e+05</td>\n",
       "      <td>NaN</td>\n",
       "      <td>NaN</td>\n",
       "    </tr>\n",
       "    <tr>\n",
       "      <th>max</th>\n",
       "      <td>NaN</td>\n",
       "      <td>10.000000</td>\n",
       "      <td>NaN</td>\n",
       "      <td>NaN</td>\n",
       "      <td>NaN</td>\n",
       "      <td>NaN</td>\n",
       "      <td>9.900000</td>\n",
       "      <td>594.000000</td>\n",
       "      <td>2018.000000</td>\n",
       "      <td>NaN</td>\n",
       "      <td>2.039088e+06</td>\n",
       "      <td>NaN</td>\n",
       "      <td>NaN</td>\n",
       "    </tr>\n",
       "  </tbody>\n",
       "</table>\n",
       "</div>"
      ],
      "text/plain": [
       "            Const  Your Rating  Date Rated           Title  \\\n",
       "count         301   301.000000         301             301   \n",
       "unique        301          NaN         126             301   \n",
       "top     tt3183660          NaN  2016-04-27  Before Sunrise   \n",
       "freq            1          NaN          32               1   \n",
       "mean          NaN     7.996678         NaN             NaN   \n",
       "std           NaN     0.939852         NaN             NaN   \n",
       "min           NaN     5.000000         NaN             NaN   \n",
       "25%           NaN     8.000000         NaN             NaN   \n",
       "50%           NaN     8.000000         NaN             NaN   \n",
       "75%           NaN     9.000000         NaN             NaN   \n",
       "max           NaN    10.000000         NaN             NaN   \n",
       "\n",
       "                                          URL Title Type  IMDb Rating  \\\n",
       "count                                     301        301   301.000000   \n",
       "unique                                    301          6          NaN   \n",
       "top     https://www.imdb.com/title/tt0470752/      movie          NaN   \n",
       "freq                                        1        250          NaN   \n",
       "mean                                      NaN        NaN     7.882060   \n",
       "std                                       NaN        NaN     0.696235   \n",
       "min                                       NaN        NaN     5.600000   \n",
       "25%                                       NaN        NaN     7.500000   \n",
       "50%                                       NaN        NaN     7.900000   \n",
       "75%                                       NaN        NaN     8.300000   \n",
       "max                                       NaN        NaN     9.900000   \n",
       "\n",
       "        Runtime (mins)         Year         Genres     Num Votes Release Date  \\\n",
       "count       301.000000   301.000000            301  3.010000e+02          300   \n",
       "unique             NaN          NaN            145           NaN          290   \n",
       "top                NaN          NaN  Comedy, Drama           NaN   2018-06-28   \n",
       "freq               NaN          NaN             26           NaN            2   \n",
       "mean        116.229236  2008.328904            NaN  2.971019e+05          NaN   \n",
       "std          61.651688    12.819313            NaN  3.445646e+05          NaN   \n",
       "min           6.000000  1931.000000            NaN  3.300000e+01          NaN   \n",
       "25%          98.000000  2007.000000            NaN  4.267900e+04          NaN   \n",
       "50%         115.000000  2013.000000            NaN  1.852270e+05          NaN   \n",
       "75%         132.000000  2016.000000            NaN  4.329790e+05          NaN   \n",
       "max         594.000000  2018.000000            NaN  2.039088e+06          NaN   \n",
       "\n",
       "                Directors  \n",
       "count                 258  \n",
       "unique                203  \n",
       "top     Christopher Nolan  \n",
       "freq                    6  \n",
       "mean                  NaN  \n",
       "std                   NaN  \n",
       "min                   NaN  \n",
       "25%                   NaN  \n",
       "50%                   NaN  \n",
       "75%                   NaN  \n",
       "max                   NaN  "
      ]
     },
     "execution_count": 356,
     "metadata": {},
     "output_type": "execute_result"
    }
   ],
   "source": [
    "data.describe(include='all')"
   ]
  },
  {
   "cell_type": "code",
   "execution_count": 510,
   "metadata": {},
   "outputs": [
    {
     "data": {
      "text/html": [
       "<div>\n",
       "<style scoped>\n",
       "    .dataframe tbody tr th:only-of-type {\n",
       "        vertical-align: middle;\n",
       "    }\n",
       "\n",
       "    .dataframe tbody tr th {\n",
       "        vertical-align: top;\n",
       "    }\n",
       "\n",
       "    .dataframe thead th {\n",
       "        text-align: right;\n",
       "    }\n",
       "</style>\n",
       "<table border=\"1\" class=\"dataframe\">\n",
       "  <thead>\n",
       "    <tr style=\"text-align: right;\">\n",
       "      <th></th>\n",
       "      <th>Const</th>\n",
       "      <th>Your Rating</th>\n",
       "      <th>Date Rated</th>\n",
       "      <th>Title</th>\n",
       "      <th>URL</th>\n",
       "      <th>Title Type</th>\n",
       "      <th>IMDb Rating</th>\n",
       "      <th>Runtime (mins)</th>\n",
       "      <th>Year</th>\n",
       "      <th>Genres</th>\n",
       "      <th>Num Votes</th>\n",
       "      <th>Release Date</th>\n",
       "      <th>Directors</th>\n",
       "      <th>Clusters</th>\n",
       "    </tr>\n",
       "  </thead>\n",
       "  <tbody>\n",
       "    <tr>\n",
       "      <th>0</th>\n",
       "      <td>tt1010048</td>\n",
       "      <td>8</td>\n",
       "      <td>2016-10-18</td>\n",
       "      <td>Slumdog Millionaire</td>\n",
       "      <td>https://www.imdb.com/title/tt1010048/</td>\n",
       "      <td>movie</td>\n",
       "      <td>8.0</td>\n",
       "      <td>120</td>\n",
       "      <td>2008</td>\n",
       "      <td>Drama, Romance</td>\n",
       "      <td>733122</td>\n",
       "      <td>2008-08-30</td>\n",
       "      <td>Loveleen Tandan, Danny Boyle</td>\n",
       "      <td>4</td>\n",
       "    </tr>\n",
       "    <tr>\n",
       "      <th>2</th>\n",
       "      <td>tt1022603</td>\n",
       "      <td>8</td>\n",
       "      <td>2016-12-17</td>\n",
       "      <td>(500) Days of Summer</td>\n",
       "      <td>https://www.imdb.com/title/tt1022603/</td>\n",
       "      <td>movie</td>\n",
       "      <td>7.7</td>\n",
       "      <td>95</td>\n",
       "      <td>2009</td>\n",
       "      <td>Comedy, Drama, Romance</td>\n",
       "      <td>432979</td>\n",
       "      <td>2009-01-17</td>\n",
       "      <td>Marc Webb</td>\n",
       "      <td>1</td>\n",
       "    </tr>\n",
       "    <tr>\n",
       "      <th>3</th>\n",
       "      <td>tt1024648</td>\n",
       "      <td>8</td>\n",
       "      <td>2016-04-27</td>\n",
       "      <td>Argo</td>\n",
       "      <td>https://www.imdb.com/title/tt1024648/</td>\n",
       "      <td>movie</td>\n",
       "      <td>7.7</td>\n",
       "      <td>120</td>\n",
       "      <td>2012</td>\n",
       "      <td>Biography, Drama, Thriller</td>\n",
       "      <td>525225</td>\n",
       "      <td>2012-08-31</td>\n",
       "      <td>Ben Affleck</td>\n",
       "      <td>1</td>\n",
       "    </tr>\n",
       "    <tr>\n",
       "      <th>4</th>\n",
       "      <td>tt1028532</td>\n",
       "      <td>8</td>\n",
       "      <td>2016-09-01</td>\n",
       "      <td>Hachi: A Dog's Tale</td>\n",
       "      <td>https://www.imdb.com/title/tt1028532/</td>\n",
       "      <td>movie</td>\n",
       "      <td>8.1</td>\n",
       "      <td>93</td>\n",
       "      <td>2009</td>\n",
       "      <td>Drama, Family</td>\n",
       "      <td>216392</td>\n",
       "      <td>2009-06-13</td>\n",
       "      <td>Lasse Hallstr�m</td>\n",
       "      <td>1</td>\n",
       "    </tr>\n",
       "    <tr>\n",
       "      <th>5</th>\n",
       "      <td>tt1033575</td>\n",
       "      <td>8</td>\n",
       "      <td>2016-12-17</td>\n",
       "      <td>The Descendants</td>\n",
       "      <td>https://www.imdb.com/title/tt1033575/</td>\n",
       "      <td>movie</td>\n",
       "      <td>7.3</td>\n",
       "      <td>115</td>\n",
       "      <td>2011</td>\n",
       "      <td>Comedy, Drama</td>\n",
       "      <td>221377</td>\n",
       "      <td>2011-09-02</td>\n",
       "      <td>Alexander Payne</td>\n",
       "      <td>1</td>\n",
       "    </tr>\n",
       "    <tr>\n",
       "      <th>...</th>\n",
       "      <td>...</td>\n",
       "      <td>...</td>\n",
       "      <td>...</td>\n",
       "      <td>...</td>\n",
       "      <td>...</td>\n",
       "      <td>...</td>\n",
       "      <td>...</td>\n",
       "      <td>...</td>\n",
       "      <td>...</td>\n",
       "      <td>...</td>\n",
       "      <td>...</td>\n",
       "      <td>...</td>\n",
       "      <td>...</td>\n",
       "      <td>...</td>\n",
       "    </tr>\n",
       "    <tr>\n",
       "      <th>296</th>\n",
       "      <td>tt0970179</td>\n",
       "      <td>8</td>\n",
       "      <td>2018-01-04</td>\n",
       "      <td>Hugo</td>\n",
       "      <td>https://www.imdb.com/title/tt0970179/</td>\n",
       "      <td>movie</td>\n",
       "      <td>7.5</td>\n",
       "      <td>126</td>\n",
       "      <td>2011</td>\n",
       "      <td>Adventure, Drama, Family, Fantasy, Mystery, Ro...</td>\n",
       "      <td>280029</td>\n",
       "      <td>2011-10-10</td>\n",
       "      <td>Martin Scorsese</td>\n",
       "      <td>1</td>\n",
       "    </tr>\n",
       "    <tr>\n",
       "      <th>297</th>\n",
       "      <td>tt0097165</td>\n",
       "      <td>10</td>\n",
       "      <td>2016-04-27</td>\n",
       "      <td>Dead Poets Society</td>\n",
       "      <td>https://www.imdb.com/title/tt0097165/</td>\n",
       "      <td>movie</td>\n",
       "      <td>8.1</td>\n",
       "      <td>128</td>\n",
       "      <td>1989</td>\n",
       "      <td>Comedy, Drama</td>\n",
       "      <td>355592</td>\n",
       "      <td>1989-06-02</td>\n",
       "      <td>Peter Weir</td>\n",
       "      <td>2</td>\n",
       "    </tr>\n",
       "    <tr>\n",
       "      <th>298</th>\n",
       "      <td>tt0986264</td>\n",
       "      <td>8</td>\n",
       "      <td>2016-09-01</td>\n",
       "      <td>Taare Zameen Par</td>\n",
       "      <td>https://www.imdb.com/title/tt0986264/</td>\n",
       "      <td>movie</td>\n",
       "      <td>8.4</td>\n",
       "      <td>165</td>\n",
       "      <td>2007</td>\n",
       "      <td>Drama, Family</td>\n",
       "      <td>135043</td>\n",
       "      <td>2007-12-21</td>\n",
       "      <td>Aamir Khan, Amole Gupte</td>\n",
       "      <td>1</td>\n",
       "    </tr>\n",
       "    <tr>\n",
       "      <th>299</th>\n",
       "      <td>tt0098635</td>\n",
       "      <td>8</td>\n",
       "      <td>2018-12-22</td>\n",
       "      <td>When Harry Met Sally...</td>\n",
       "      <td>https://www.imdb.com/title/tt0098635/</td>\n",
       "      <td>movie</td>\n",
       "      <td>7.6</td>\n",
       "      <td>95</td>\n",
       "      <td>1989</td>\n",
       "      <td>Comedy, Drama, Romance</td>\n",
       "      <td>173606</td>\n",
       "      <td>1989-07-12</td>\n",
       "      <td>Rob Reiner</td>\n",
       "      <td>1</td>\n",
       "    </tr>\n",
       "    <tr>\n",
       "      <th>300</th>\n",
       "      <td>tt0993846</td>\n",
       "      <td>8</td>\n",
       "      <td>2016-04-27</td>\n",
       "      <td>The Wolf of Wall Street</td>\n",
       "      <td>https://www.imdb.com/title/tt0993846/</td>\n",
       "      <td>movie</td>\n",
       "      <td>8.2</td>\n",
       "      <td>180</td>\n",
       "      <td>2013</td>\n",
       "      <td>Biography, Comedy, Crime, Drama</td>\n",
       "      <td>1001066</td>\n",
       "      <td>2013-12-17</td>\n",
       "      <td>Martin Scorsese</td>\n",
       "      <td>4</td>\n",
       "    </tr>\n",
       "  </tbody>\n",
       "</table>\n",
       "<p>250 rows × 14 columns</p>\n",
       "</div>"
      ],
      "text/plain": [
       "         Const  Your Rating  Date Rated                    Title  \\\n",
       "0    tt1010048            8  2016-10-18      Slumdog Millionaire   \n",
       "2    tt1022603            8  2016-12-17     (500) Days of Summer   \n",
       "3    tt1024648            8  2016-04-27                     Argo   \n",
       "4    tt1028532            8  2016-09-01      Hachi: A Dog's Tale   \n",
       "5    tt1033575            8  2016-12-17          The Descendants   \n",
       "..         ...          ...         ...                      ...   \n",
       "296  tt0970179            8  2018-01-04                     Hugo   \n",
       "297  tt0097165           10  2016-04-27       Dead Poets Society   \n",
       "298  tt0986264            8  2016-09-01         Taare Zameen Par   \n",
       "299  tt0098635            8  2018-12-22  When Harry Met Sally...   \n",
       "300  tt0993846            8  2016-04-27  The Wolf of Wall Street   \n",
       "\n",
       "                                       URL Title Type  IMDb Rating  \\\n",
       "0    https://www.imdb.com/title/tt1010048/      movie          8.0   \n",
       "2    https://www.imdb.com/title/tt1022603/      movie          7.7   \n",
       "3    https://www.imdb.com/title/tt1024648/      movie          7.7   \n",
       "4    https://www.imdb.com/title/tt1028532/      movie          8.1   \n",
       "5    https://www.imdb.com/title/tt1033575/      movie          7.3   \n",
       "..                                     ...        ...          ...   \n",
       "296  https://www.imdb.com/title/tt0970179/      movie          7.5   \n",
       "297  https://www.imdb.com/title/tt0097165/      movie          8.1   \n",
       "298  https://www.imdb.com/title/tt0986264/      movie          8.4   \n",
       "299  https://www.imdb.com/title/tt0098635/      movie          7.6   \n",
       "300  https://www.imdb.com/title/tt0993846/      movie          8.2   \n",
       "\n",
       "     Runtime (mins)  Year                                             Genres  \\\n",
       "0               120  2008                                     Drama, Romance   \n",
       "2                95  2009                             Comedy, Drama, Romance   \n",
       "3               120  2012                         Biography, Drama, Thriller   \n",
       "4                93  2009                                      Drama, Family   \n",
       "5               115  2011                                      Comedy, Drama   \n",
       "..              ...   ...                                                ...   \n",
       "296             126  2011  Adventure, Drama, Family, Fantasy, Mystery, Ro...   \n",
       "297             128  1989                                      Comedy, Drama   \n",
       "298             165  2007                                      Drama, Family   \n",
       "299              95  1989                             Comedy, Drama, Romance   \n",
       "300             180  2013                    Biography, Comedy, Crime, Drama   \n",
       "\n",
       "     Num Votes Release Date                     Directors  Clusters  \n",
       "0       733122   2008-08-30  Loveleen Tandan, Danny Boyle         4  \n",
       "2       432979   2009-01-17                     Marc Webb         1  \n",
       "3       525225   2012-08-31                   Ben Affleck         1  \n",
       "4       216392   2009-06-13               Lasse Hallstr�m         1  \n",
       "5       221377   2011-09-02               Alexander Payne         1  \n",
       "..         ...          ...                           ...       ...  \n",
       "296     280029   2011-10-10               Martin Scorsese         1  \n",
       "297     355592   1989-06-02                    Peter Weir         2  \n",
       "298     135043   2007-12-21       Aamir Khan, Amole Gupte         1  \n",
       "299     173606   1989-07-12                    Rob Reiner         1  \n",
       "300    1001066   2013-12-17               Martin Scorsese         4  \n",
       "\n",
       "[250 rows x 14 columns]"
      ]
     },
     "execution_count": 510,
     "metadata": {},
     "output_type": "execute_result"
    }
   ],
   "source": [
    "data_film"
   ]
  },
  {
   "cell_type": "code",
   "execution_count": 357,
   "metadata": {},
   "outputs": [
    {
     "data": {
      "text/html": [
       "<div>\n",
       "<style scoped>\n",
       "    .dataframe tbody tr th:only-of-type {\n",
       "        vertical-align: middle;\n",
       "    }\n",
       "\n",
       "    .dataframe tbody tr th {\n",
       "        vertical-align: top;\n",
       "    }\n",
       "\n",
       "    .dataframe thead th {\n",
       "        text-align: right;\n",
       "    }\n",
       "</style>\n",
       "<table border=\"1\" class=\"dataframe\">\n",
       "  <thead>\n",
       "    <tr style=\"text-align: right;\">\n",
       "      <th></th>\n",
       "      <th>Const</th>\n",
       "      <th>Your Rating</th>\n",
       "      <th>Date Rated</th>\n",
       "      <th>Title</th>\n",
       "      <th>URL</th>\n",
       "      <th>Title Type</th>\n",
       "      <th>IMDb Rating</th>\n",
       "      <th>Runtime (mins)</th>\n",
       "      <th>Year</th>\n",
       "      <th>Genres</th>\n",
       "      <th>Num Votes</th>\n",
       "      <th>Release Date</th>\n",
       "      <th>Directors</th>\n",
       "    </tr>\n",
       "  </thead>\n",
       "  <tbody>\n",
       "    <tr>\n",
       "      <th>0</th>\n",
       "      <td>tt1010048</td>\n",
       "      <td>8</td>\n",
       "      <td>2016-10-18</td>\n",
       "      <td>Slumdog Millionaire</td>\n",
       "      <td>https://www.imdb.com/title/tt1010048/</td>\n",
       "      <td>movie</td>\n",
       "      <td>8.0</td>\n",
       "      <td>120</td>\n",
       "      <td>2008</td>\n",
       "      <td>Drama, Romance</td>\n",
       "      <td>733122</td>\n",
       "      <td>2008-08-30</td>\n",
       "      <td>Loveleen Tandan, Danny Boyle</td>\n",
       "    </tr>\n",
       "    <tr>\n",
       "      <th>1</th>\n",
       "      <td>tt0101049</td>\n",
       "      <td>8</td>\n",
       "      <td>2016-10-18</td>\n",
       "      <td>A Bit of Fry and Laurie</td>\n",
       "      <td>https://www.imdb.com/title/tt0101049/</td>\n",
       "      <td>tvSeries</td>\n",
       "      <td>8.3</td>\n",
       "      <td>30</td>\n",
       "      <td>1987</td>\n",
       "      <td>Comedy</td>\n",
       "      <td>8260</td>\n",
       "      <td>1987-12-26</td>\n",
       "      <td>NaN</td>\n",
       "    </tr>\n",
       "  </tbody>\n",
       "</table>\n",
       "</div>"
      ],
      "text/plain": [
       "       Const  Your Rating  Date Rated                    Title  \\\n",
       "0  tt1010048            8  2016-10-18      Slumdog Millionaire   \n",
       "1  tt0101049            8  2016-10-18  A Bit of Fry and Laurie   \n",
       "\n",
       "                                     URL Title Type  IMDb Rating  \\\n",
       "0  https://www.imdb.com/title/tt1010048/      movie          8.0   \n",
       "1  https://www.imdb.com/title/tt0101049/   tvSeries          8.3   \n",
       "\n",
       "   Runtime (mins)  Year          Genres  Num Votes Release Date  \\\n",
       "0             120  2008  Drama, Romance     733122   2008-08-30   \n",
       "1              30  1987          Comedy       8260   1987-12-26   \n",
       "\n",
       "                      Directors  \n",
       "0  Loveleen Tandan, Danny Boyle  \n",
       "1                           NaN  "
      ]
     },
     "execution_count": 357,
     "metadata": {},
     "output_type": "execute_result"
    }
   ],
   "source": [
    "data.head(2)"
   ]
  },
  {
   "cell_type": "code",
   "execution_count": 218,
   "metadata": {},
   "outputs": [
    {
     "data": {
      "text/plain": [
       "<matplotlib.axes._subplots.AxesSubplot at 0x1270e9c88>"
      ]
     },
     "execution_count": 218,
     "metadata": {},
     "output_type": "execute_result"
    },
    {
     "data": {
      "image/png": "[encoded data removed]",
      "text/plain": [
       "<Figure size 864x576 with 1 Axes>"
      ]
     },
     "metadata": {
      "needs_background": "light"
     },
     "output_type": "display_data"
    }
   ],
   "source": [
    "plt.figure(figsize=(12, 8))\n",
    "sns.boxplot(x = 'Runtime (mins)', data = data_film)"
   ]
  },
  {
   "cell_type": "code",
   "execution_count": 220,
   "metadata": {},
   "outputs": [
    {
     "data": {
      "text/plain": [
       "<matplotlib.axes._subplots.AxesSubplot at 0x126e537b8>"
      ]
     },
     "execution_count": 220,
     "metadata": {},
     "output_type": "execute_result"
    },
    {
     "data": {
      "image/png": "[encoded data removed]",
      "text/plain": [
       "<Figure size 864x576 with 1 Axes>"
      ]
     },
     "metadata": {
      "needs_background": "light"
     },
     "output_type": "display_data"
    }
   ],
   "source": [
    "plt.figure(figsize=(12, 8))\n",
    "sns.boxplot(x = 'Your Rating', y = 'Runtime (mins)', data = data_film)"
   ]
  },
  {
   "cell_type": "markdown",
   "metadata": {},
   "source": [
    "#### Lets check if there is a linear relationship between my rating and runtime"
   ]
  },
  {
   "cell_type": "code",
   "execution_count": 222,
   "metadata": {},
   "outputs": [
    {
     "data": {
      "text/plain": [
       "<matplotlib.axes._subplots.AxesSubplot at 0x12a2cad30>"
      ]
     },
     "execution_count": 222,
     "metadata": {},
     "output_type": "execute_result"
    },
    {
     "data": {
      "image/png": "[encoded data removed]",
      "text/plain": [
       "<Figure size 432x288 with 1 Axes>"
      ]
     },
     "metadata": {
      "needs_background": "light"
     },
     "output_type": "display_data"
    }
   ],
   "source": [
    "sns.regplot(y = 'Your Rating', x = 'Runtime (mins)', data = data_film)\n",
    "# No SIgnificant Relationship"
   ]
  },
  {
   "cell_type": "markdown",
   "metadata": {},
   "source": [
    "#### Lets check if there is a linear relationship between my rating and IMDB rating"
   ]
  },
  {
   "cell_type": "code",
   "execution_count": 224,
   "metadata": {},
   "outputs": [
    {
     "data": {
      "text/plain": [
       "<matplotlib.axes._subplots.AxesSubplot at 0x128efde80>"
      ]
     },
     "execution_count": 224,
     "metadata": {},
     "output_type": "execute_result"
    },
    {
     "data": {
      "image/png": "[encoded data removed]",
      "text/plain": [
       "<Figure size 432x288 with 1 Axes>"
      ]
     },
     "metadata": {
      "needs_background": "light"
     },
     "output_type": "display_data"
    }
   ],
   "source": [
    "sns.regplot(y = 'Your Rating', x = 'IMDb Rating', data = data_film)\n",
    "# Very strong Positive relationship. Not a hipster after all."
   ]
  },
  {
   "cell_type": "markdown",
   "metadata": {},
   "source": [
    "#### Lets check if there is a linear relationship between my rating and Year of films release."
   ]
  },
  {
   "cell_type": "code",
   "execution_count": 226,
   "metadata": {},
   "outputs": [
    {
     "data": {
      "text/plain": [
       "<matplotlib.axes._subplots.AxesSubplot at 0x12b17d6d8>"
      ]
     },
     "execution_count": 226,
     "metadata": {},
     "output_type": "execute_result"
    },
    {
     "data": {
      "image/png": "[encoded data removed]",
      "text/plain": [
       "<Figure size 432x288 with 1 Axes>"
      ]
     },
     "metadata": {
      "needs_background": "light"
     },
     "output_type": "display_data"
    }
   ],
   "source": [
    "sns.regplot(y = 'Your Rating', x = 'Year', data = data_film)"
   ]
  },
  {
   "cell_type": "markdown",
   "metadata": {},
   "source": [
    "#### Insight: I tend to rate older movies highly and newer movies worse."
   ]
  },
  {
   "cell_type": "markdown",
   "metadata": {},
   "source": [
    "#### Lets check if there is a linear relationship between my rating and The number of votes/Popularity."
   ]
  },
  {
   "cell_type": "code",
   "execution_count": 227,
   "metadata": {},
   "outputs": [
    {
     "data": {
      "text/plain": [
       "<matplotlib.axes._subplots.AxesSubplot at 0x12a12bcc0>"
      ]
     },
     "execution_count": 227,
     "metadata": {},
     "output_type": "execute_result"
    },
    {
     "data": {
      "image/png": "[encoded data removed]",
      "text/plain": [
       "<Figure size 432x288 with 1 Axes>"
      ]
     },
     "metadata": {
      "needs_background": "light"
     },
     "output_type": "display_data"
    }
   ],
   "source": [
    "sns.regplot(y = 'Your Rating', x = 'Num Votes', data = data_film)"
   ]
  },
  {
   "cell_type": "markdown",
   "metadata": {},
   "source": [
    "#### Insight: Popular movies tend to get rated higher, decent positive trend."
   ]
  },
  {
   "cell_type": "code",
   "execution_count": 228,
   "metadata": {},
   "outputs": [
    {
     "data": {
      "text/plain": [
       "<matplotlib.axes._subplots.AxesSubplot at 0x12a10c128>"
      ]
     },
     "execution_count": 228,
     "metadata": {},
     "output_type": "execute_result"
    },
    {
     "data": {
      "image/png": "[encoded data removed]",
      "text/plain": [
       "<Figure size 432x288 with 1 Axes>"
      ]
     },
     "metadata": {
      "needs_background": "light"
     },
     "output_type": "display_data"
    }
   ],
   "source": [
    "sns.regplot(y = 'IMDb Rating', x = 'Num Votes', data = data_film)"
   ]
  },
  {
   "cell_type": "markdown",
   "metadata": {},
   "source": [
    "#### Getting Data for Clustering, Need a feature vector (starting with two simple Feature)\n",
    "#### 1. Clustering Based on runtime and runtime. Lets see If I give tend to give a certain rating to movies of a certain length."
   ]
  },
  {
   "cell_type": "markdown",
   "metadata": {},
   "source": [
    "#### Lets first filter only movies "
   ]
  },
  {
   "cell_type": "code",
   "execution_count": 358,
   "metadata": {},
   "outputs": [],
   "source": [
    "# create filter \n",
    "\n",
    "film_filt = (data['Title Type'] == 'movie')\n",
    "\n",
    "# getting film data using loc indexer \n",
    "# syntax .loc[condition in form of df['']== , list of columns you want displayed]\n",
    "\n",
    "data_film = data.loc[(film_filt)]"
   ]
  },
  {
   "cell_type": "code",
   "execution_count": 359,
   "metadata": {},
   "outputs": [
    {
     "data": {
      "text/html": [
       "<div>\n",
       "<style scoped>\n",
       "    .dataframe tbody tr th:only-of-type {\n",
       "        vertical-align: middle;\n",
       "    }\n",
       "\n",
       "    .dataframe tbody tr th {\n",
       "        vertical-align: top;\n",
       "    }\n",
       "\n",
       "    .dataframe thead th {\n",
       "        text-align: right;\n",
       "    }\n",
       "</style>\n",
       "<table border=\"1\" class=\"dataframe\">\n",
       "  <thead>\n",
       "    <tr style=\"text-align: right;\">\n",
       "      <th></th>\n",
       "      <th>Your Rating</th>\n",
       "      <th>IMDb Rating</th>\n",
       "      <th>Runtime (mins)</th>\n",
       "      <th>Year</th>\n",
       "      <th>Num Votes</th>\n",
       "    </tr>\n",
       "  </thead>\n",
       "  <tbody>\n",
       "    <tr>\n",
       "      <th>count</th>\n",
       "      <td>250.000000</td>\n",
       "      <td>250.000000</td>\n",
       "      <td>250.000000</td>\n",
       "      <td>250.000000</td>\n",
       "      <td>2.500000e+02</td>\n",
       "    </tr>\n",
       "    <tr>\n",
       "      <th>mean</th>\n",
       "      <td>7.896000</td>\n",
       "      <td>7.712400</td>\n",
       "      <td>122.052000</td>\n",
       "      <td>2007.660000</td>\n",
       "      <td>3.210570e+05</td>\n",
       "    </tr>\n",
       "    <tr>\n",
       "      <th>std</th>\n",
       "      <td>0.912422</td>\n",
       "      <td>0.588619</td>\n",
       "      <td>26.250135</td>\n",
       "      <td>13.661734</td>\n",
       "      <td>3.532972e+05</td>\n",
       "    </tr>\n",
       "    <tr>\n",
       "      <th>min</th>\n",
       "      <td>5.000000</td>\n",
       "      <td>5.600000</td>\n",
       "      <td>60.000000</td>\n",
       "      <td>1931.000000</td>\n",
       "      <td>3.300000e+01</td>\n",
       "    </tr>\n",
       "    <tr>\n",
       "      <th>25%</th>\n",
       "      <td>7.000000</td>\n",
       "      <td>7.400000</td>\n",
       "      <td>105.000000</td>\n",
       "      <td>2006.000000</td>\n",
       "      <td>4.887300e+04</td>\n",
       "    </tr>\n",
       "    <tr>\n",
       "      <th>50%</th>\n",
       "      <td>8.000000</td>\n",
       "      <td>7.800000</td>\n",
       "      <td>118.000000</td>\n",
       "      <td>2012.000000</td>\n",
       "      <td>2.224305e+05</td>\n",
       "    </tr>\n",
       "    <tr>\n",
       "      <th>75%</th>\n",
       "      <td>8.000000</td>\n",
       "      <td>8.100000</td>\n",
       "      <td>135.000000</td>\n",
       "      <td>2016.000000</td>\n",
       "      <td>4.596830e+05</td>\n",
       "    </tr>\n",
       "    <tr>\n",
       "      <th>max</th>\n",
       "      <td>10.000000</td>\n",
       "      <td>9.300000</td>\n",
       "      <td>321.000000</td>\n",
       "      <td>2018.000000</td>\n",
       "      <td>2.039088e+06</td>\n",
       "    </tr>\n",
       "  </tbody>\n",
       "</table>\n",
       "</div>"
      ],
      "text/plain": [
       "       Your Rating  IMDb Rating  Runtime (mins)         Year     Num Votes\n",
       "count   250.000000   250.000000      250.000000   250.000000  2.500000e+02\n",
       "mean      7.896000     7.712400      122.052000  2007.660000  3.210570e+05\n",
       "std       0.912422     0.588619       26.250135    13.661734  3.532972e+05\n",
       "min       5.000000     5.600000       60.000000  1931.000000  3.300000e+01\n",
       "25%       7.000000     7.400000      105.000000  2006.000000  4.887300e+04\n",
       "50%       8.000000     7.800000      118.000000  2012.000000  2.224305e+05\n",
       "75%       8.000000     8.100000      135.000000  2016.000000  4.596830e+05\n",
       "max      10.000000     9.300000      321.000000  2018.000000  2.039088e+06"
      ]
     },
     "execution_count": 359,
     "metadata": {},
     "output_type": "execute_result"
    }
   ],
   "source": [
    "# 250 Movies \n",
    "data_film.describe()"
   ]
  },
  {
   "cell_type": "markdown",
   "metadata": {},
   "source": [
    "#### Comparing BoxPlots"
   ]
  },
  {
   "cell_type": "code",
   "execution_count": 216,
   "metadata": {},
   "outputs": [
    {
     "data": {
      "text/plain": [
       "<matplotlib.axes._subplots.AxesSubplot at 0x129707f60>"
      ]
     },
     "execution_count": 216,
     "metadata": {},
     "output_type": "execute_result"
    },
    {
     "data": {
      "image/png": "[encoded data removed]",
      "text/plain": [
       "<Figure size 1008x504 with 1 Axes>"
      ]
     },
     "metadata": {
      "needs_background": "light"
     },
     "output_type": "display_data"
    }
   ],
   "source": [
    "plt.figure(figsize=(14,7))\n",
    "sns.boxplot(x = 'Your Rating', y = 'IMDb Rating', data = data_film)\n",
    "#sns.boxplot(x = 'IMDb Rating', data = data_film, color = 'gray')"
   ]
  },
  {
   "cell_type": "markdown",
   "metadata": {},
   "source": [
    "#### Insight: I generally follow the same tresnds as the IMDb ratings. The movies I've rated the highest tend to be highly rated movies in general. There is a large percentage of movies I've rated lower that the IMDb public likes."
   ]
  },
  {
   "cell_type": "markdown",
   "metadata": {},
   "source": [
    "#### Lets just plot the features and try and find clusters."
   ]
  },
  {
   "cell_type": "code",
   "execution_count": 217,
   "metadata": {},
   "outputs": [
    {
     "data": {
      "text/plain": [
       "Text(0, 0.5, 'Rating')"
      ]
     },
     "execution_count": 217,
     "metadata": {},
     "output_type": "execute_result"
    },
    {
     "data": {
      "image/png": "[encoded data removed]",
      "text/plain": [
       "<Figure size 864x576 with 1 Axes>"
      ]
     },
     "metadata": {
      "needs_background": "light"
     },
     "output_type": "display_data"
    }
   ],
   "source": [
    "plt.figure(figsize=(12,8))\n",
    "plt.plot( data_film['Runtime (mins)'], data_film['Your Rating'].to_list(), 'r.')\n",
    "plt.xlabel('Runtime in mins')\n",
    "plt.ylabel('Rating')"
   ]
  },
  {
   "cell_type": "markdown",
   "metadata": {},
   "source": [
    "### Getting the features for the clustering (using Runtime and My Ratings)\n",
    "Coverting DF to dict, and using the given helper function."
   ]
  },
  {
   "cell_type": "code",
   "execution_count": 360,
   "metadata": {},
   "outputs": [],
   "source": [
    "film_dict = data_film.to_dict()"
   ]
  },
  {
   "cell_type": "code",
   "execution_count": 361,
   "metadata": {},
   "outputs": [
    {
     "data": {
      "text/plain": [
       "dict_keys(['Const', 'Your Rating', 'Date Rated', 'Title', 'URL', 'Title Type', 'IMDb Rating', 'Runtime (mins)', 'Year', 'Genres', 'Num Votes', 'Release Date', 'Directors'])"
      ]
     },
     "execution_count": 361,
     "metadata": {},
     "output_type": "execute_result"
    }
   ],
   "source": [
    "film_dict.keys()"
   ]
  },
  {
   "cell_type": "code",
   "execution_count": 474,
   "metadata": {},
   "outputs": [],
   "source": [
    "feature_1 = 'Runtime (mins)'\n",
    "feature_2 = 'Your Rating'\n",
    "feature_3 = 'Year'\n",
    "feature_4 = 'IMDb Rating'\n",
    "feature_5 = 'Num Votes'\n",
    "# poi is supposed to be target for helper, here dummy column\n",
    "\n",
    "poi = 'Const'\n",
    "\n",
    "# Ge list 2D array of rows with the features - [[feature_1, feature_2]]"
   ]
  },
  {
   "cell_type": "code",
   "execution_count": 363,
   "metadata": {},
   "outputs": [],
   "source": [
    "# Adding all film runtimes to list, sure there is a better way.\n",
    "run_time = []\n",
    "for i in film_dict[feature_1]:\n",
    "    run_time.append(film_dict[feature_1][i])"
   ]
  },
  {
   "cell_type": "code",
   "execution_count": 364,
   "metadata": {},
   "outputs": [],
   "source": [
    "# Adding all your ratings to list, sure there is a better way.\n",
    "\n",
    "y_rating = []\n",
    "for i in film_dict[feature_2]:\n",
    "    y_rating.append(film_dict[feature_2][i])"
   ]
  },
  {
   "cell_type": "code",
   "execution_count": 365,
   "metadata": {},
   "outputs": [],
   "source": [
    "# year to list \n",
    "\n",
    "year = []\n",
    "for i in film_dict[feature_3]:\n",
    "    year.append(film_dict[feature_3][i])"
   ]
  },
  {
   "cell_type": "code",
   "execution_count": 475,
   "metadata": {},
   "outputs": [],
   "source": [
    "# IMDb Rating to list \n",
    "\n",
    "imdb_rate = []\n",
    "for i in film_dict[feature_4]:\n",
    "    imdb_rate.append(film_dict[feature_4][i])"
   ]
  },
  {
   "cell_type": "code",
   "execution_count": 477,
   "metadata": {},
   "outputs": [],
   "source": [
    "# Num of votes to list \n",
    "\n",
    "num_votes = []\n",
    "\n",
    "for i in film_dict[feature_5]:\n",
    "    num_votes.append(film_dict[feature_5][i])"
   ]
  },
  {
   "cell_type": "code",
   "execution_count": 480,
   "metadata": {},
   "outputs": [],
   "source": [
    "# Convert to numpy arrays and vstack or concatenate.\n",
    "\n",
    "run_arr = np.array(run_time)\n",
    "rat_arr = np.array(y_rating)\n",
    "year_arr = np.array(year)\n",
    "imdb_rat_arr = np.array(imdb_rate)\n",
    "num_votes_arr = np.array(num_votes)"
   ]
  },
  {
   "cell_type": "code",
   "execution_count": 481,
   "metadata": {},
   "outputs": [],
   "source": [
    "run_arr = run_arr.reshape(-1,1)\n",
    "rat_arr = rat_arr.reshape(-1,1)\n",
    "year_arr = year_arr.reshape(-1,1)\n",
    "imdb_rat_arr = imdb_rat_arr.reshape(-1,1)\n",
    "num_votes_arr = num_votes_arr.reshape(-1,1)"
   ]
  },
  {
   "cell_type": "code",
   "execution_count": 485,
   "metadata": {},
   "outputs": [],
   "source": [
    "# hstack to get rows with arrays of [feat 1, feat 2].\n",
    "movie_features = np.hstack((run_arr, rat_arr, year_arr, imdb_rat_arr, num_votes_arr))\n",
    "\n",
    "# convert to list of arrays for compatibility with helper function\n",
    "movie_features_list = list(movie_features)"
   ]
  },
  {
   "cell_type": "markdown",
   "metadata": {},
   "source": [
    "## Fitting Kmeans - Clustering algo.\n",
    "1. Scale features first.\n",
    "\n",
    "## Difficult to Interpret with Runtime and YourRating.\n",
    "# TO DO:\n",
    "1. Let's see if changing order of features, affects the clusters (shouldn't since its scaled ?) <b> (No Difference)</b>\n",
    "2. Add Year feature to the mix.(Now we're Getting interesting Results). \n",
    "The clusters are split into : 1 - Highly rated, 3 - moderately rated a low rated movies clusters. <br>\n",
    "Of the 3 moderately rated clusters, 1- is a cluster of older movies. The rest of the two are look to be seprated based on no. of votes. (not sure.)\n",
    "3. Lets add more numerical features.( IMDb Rating - can get cluster of movies showing vastly different tastes)(Num Votes to get popularity in the mix.\n",
    ")"
   ]
  },
  {
   "cell_type": "code",
   "execution_count": 473,
   "metadata": {},
   "outputs": [
    {
     "name": "stdout",
     "output_type": "stream",
     "text": [
      "<class 'pandas.core.frame.DataFrame'>\n",
      "Int64Index: 250 entries, 0 to 300\n",
      "Data columns (total 14 columns):\n",
      " #   Column          Non-Null Count  Dtype  \n",
      "---  ------          --------------  -----  \n",
      " 0   Const           250 non-null    object \n",
      " 1   Your Rating     250 non-null    int64  \n",
      " 2   Date Rated      250 non-null    object \n",
      " 3   Title           250 non-null    object \n",
      " 4   URL             250 non-null    object \n",
      " 5   Title Type      250 non-null    object \n",
      " 6   IMDb Rating     250 non-null    float64\n",
      " 7   Runtime (mins)  250 non-null    int64  \n",
      " 8   Year            250 non-null    int64  \n",
      " 9   Genres          250 non-null    object \n",
      " 10  Num Votes       250 non-null    int64  \n",
      " 11  Release Date    249 non-null    object \n",
      " 12  Directors       250 non-null    object \n",
      " 13  Clusters        250 non-null    int32  \n",
      "dtypes: float64(1), int32(1), int64(4), object(8)\n",
      "memory usage: 38.3+ KB\n"
     ]
    }
   ],
   "source": [
    "data_film.info()"
   ]
  },
  {
   "cell_type": "code",
   "execution_count": 488,
   "metadata": {},
   "outputs": [],
   "source": [
    "from sklearn.preprocessing import MinMaxScaler\n",
    "\n",
    "# Transforming to scaled features\n",
    "scaled_mov_features = MinMaxScaler().fit_transform(movie_features_list)"
   ]
  },
  {
   "cell_type": "code",
   "execution_count": 491,
   "metadata": {},
   "outputs": [
    {
     "data": {
      "image/png": "[encoded data removed]",
      "text/plain": [
       "<Figure size 1296x864 with 1 Axes>"
      ]
     },
     "metadata": {
      "needs_background": "light"
     },
     "output_type": "display_data"
    }
   ],
   "source": [
    "from sklearn.cluster import KMeans\n",
    "\n",
    "cluster_film = KMeans(n_clusters = 5, n_init=10, max_iter= 100).fit(scaled_mov_features)\n",
    "\n",
    "pred_film = cluster_film.labels_\n",
    "\n",
    "plt.figure(figsize=(18,12))\n",
    "\n",
    "try:\n",
    "    Draw(pred_film, movie_features_list, poi, mark_poi=False, name=\"Filmclusters_rating_year_runtime_imdb_numVotes.pdf\", f1_name=feature_1, f2_name=feature_2)\n",
    "except NameError:\n",
    "    print(\"no predictions object named pred found, no clusters to plot\")"
   ]
  },
  {
   "cell_type": "code",
   "execution_count": 516,
   "metadata": {},
   "outputs": [
    {
     "name": "stdout",
     "output_type": "stream",
     "text": [
      "Runtime Your Rating Year IMDb Rating Num Votes\n",
      "[[0.22824302 0.33968254 0.95548258 0.4036894  0.07470704]\n",
      " [0.23674829 0.63304348 0.92693653 0.57884841 0.08923739]\n",
      " [0.2344131  0.71818182 0.45872518 0.67813268 0.14139224]\n",
      " [0.33971903 0.86666667 0.79885057 0.88738739 0.82546931]\n",
      " [0.24172762 0.67272727 0.87748171 0.69287469 0.37107101]]\n"
     ]
    }
   ],
   "source": [
    "# Lets get the center of the clusters \n",
    "print('Runtime', 'Your Rating','Year','IMDb Rating','Num Votes')\n",
    "# 5 dimensions for each cluster.\n",
    "print(cluster_film.cluster_centers_)"
   ]
  },
  {
   "cell_type": "markdown",
   "metadata": {},
   "source": [
    "### The splits are still Mostly on the basis of ratings."
   ]
  },
  {
   "cell_type": "markdown",
   "metadata": {},
   "source": [
    "### Lets Place the cluster labels back into dataframe and check which Movies got Clustered Together."
   ]
  },
  {
   "cell_type": "code",
   "execution_count": 492,
   "metadata": {},
   "outputs": [
    {
     "name": "stderr",
     "output_type": "stream",
     "text": [
      "/Library/Frameworks/Python.framework/Versions/3.6/lib/python3.6/site-packages/ipykernel_launcher.py:1: SettingWithCopyWarning: \n",
      "A value is trying to be set on a copy of a slice from a DataFrame.\n",
      "Try using .loc[row_indexer,col_indexer] = value instead\n",
      "\n",
      "See the caveats in the documentation: https://pandas.pydata.org/pandas-docs/stable/user_guide/indexing.html#returning-a-view-versus-a-copy\n",
      "  \"\"\"Entry point for launching an IPython kernel.\n"
     ]
    }
   ],
   "source": [
    "data_film['Clusters'] = pred_film"
   ]
  },
  {
   "cell_type": "markdown",
   "metadata": {},
   "source": [
    "### Investigating Clusters"
   ]
  },
  {
   "cell_type": "markdown",
   "metadata": {},
   "source": [
    "### The splits are still Mostly on the basis of ratings."
   ]
  },
  {
   "cell_type": "code",
   "execution_count": 493,
   "metadata": {},
   "outputs": [
    {
     "data": {
      "text/plain": [
       "Clusters\n",
       "0     63\n",
       "1    115\n",
       "2     22\n",
       "3      6\n",
       "4     44\n",
       "Name: Your Rating, dtype: int64"
      ]
     },
     "execution_count": 493,
     "metadata": {},
     "output_type": "execute_result"
    }
   ],
   "source": [
    "data_film.groupby(['Clusters'])['Your Rating'].size()"
   ]
  },
  {
   "cell_type": "code",
   "execution_count": 494,
   "metadata": {},
   "outputs": [
    {
     "data": {
      "text/plain": [
       "Clusters\n",
       "0    6.698413\n",
       "1    8.165217\n",
       "2    8.590909\n",
       "3    9.333333\n",
       "4    8.363636\n",
       "Name: Your Rating, dtype: float64"
      ]
     },
     "execution_count": 494,
     "metadata": {},
     "output_type": "execute_result"
    }
   ],
   "source": [
    "data_film.groupby(['Clusters'])['Your Rating'].mean()\n",
    "# A group of movies that is highly rated and a group with low ratings.\n",
    "# Lets investigate these groups "
   ]
  },
  {
   "cell_type": "code",
   "execution_count": 495,
   "metadata": {},
   "outputs": [
    {
     "data": {
      "text/html": [
       "<div>\n",
       "<style scoped>\n",
       "    .dataframe tbody tr th:only-of-type {\n",
       "        vertical-align: middle;\n",
       "    }\n",
       "\n",
       "    .dataframe tbody tr th {\n",
       "        vertical-align: top;\n",
       "    }\n",
       "\n",
       "    .dataframe thead th {\n",
       "        text-align: right;\n",
       "    }\n",
       "</style>\n",
       "<table border=\"1\" class=\"dataframe\">\n",
       "  <thead>\n",
       "    <tr style=\"text-align: right;\">\n",
       "      <th></th>\n",
       "      <th>count</th>\n",
       "      <th>mean</th>\n",
       "      <th>std</th>\n",
       "      <th>min</th>\n",
       "      <th>25%</th>\n",
       "      <th>50%</th>\n",
       "      <th>75%</th>\n",
       "      <th>max</th>\n",
       "    </tr>\n",
       "    <tr>\n",
       "      <th>Clusters</th>\n",
       "      <th></th>\n",
       "      <th></th>\n",
       "      <th></th>\n",
       "      <th></th>\n",
       "      <th></th>\n",
       "      <th></th>\n",
       "      <th></th>\n",
       "      <th></th>\n",
       "    </tr>\n",
       "  </thead>\n",
       "  <tbody>\n",
       "    <tr>\n",
       "      <th>0</th>\n",
       "      <td>63.0</td>\n",
       "      <td>6.698413</td>\n",
       "      <td>0.585715</td>\n",
       "      <td>5.0</td>\n",
       "      <td>6.0</td>\n",
       "      <td>7.0</td>\n",
       "      <td>7.00</td>\n",
       "      <td>8.0</td>\n",
       "    </tr>\n",
       "    <tr>\n",
       "      <th>1</th>\n",
       "      <td>115.0</td>\n",
       "      <td>8.165217</td>\n",
       "      <td>0.457500</td>\n",
       "      <td>7.0</td>\n",
       "      <td>8.0</td>\n",
       "      <td>8.0</td>\n",
       "      <td>8.00</td>\n",
       "      <td>10.0</td>\n",
       "    </tr>\n",
       "    <tr>\n",
       "      <th>2</th>\n",
       "      <td>22.0</td>\n",
       "      <td>8.590909</td>\n",
       "      <td>0.734140</td>\n",
       "      <td>7.0</td>\n",
       "      <td>8.0</td>\n",
       "      <td>9.0</td>\n",
       "      <td>9.00</td>\n",
       "      <td>10.0</td>\n",
       "    </tr>\n",
       "    <tr>\n",
       "      <th>3</th>\n",
       "      <td>6.0</td>\n",
       "      <td>9.333333</td>\n",
       "      <td>0.516398</td>\n",
       "      <td>9.0</td>\n",
       "      <td>9.0</td>\n",
       "      <td>9.0</td>\n",
       "      <td>9.75</td>\n",
       "      <td>10.0</td>\n",
       "    </tr>\n",
       "    <tr>\n",
       "      <th>4</th>\n",
       "      <td>44.0</td>\n",
       "      <td>8.363636</td>\n",
       "      <td>0.650256</td>\n",
       "      <td>7.0</td>\n",
       "      <td>8.0</td>\n",
       "      <td>8.0</td>\n",
       "      <td>9.00</td>\n",
       "      <td>10.0</td>\n",
       "    </tr>\n",
       "  </tbody>\n",
       "</table>\n",
       "</div>"
      ],
      "text/plain": [
       "          count      mean       std  min  25%  50%   75%   max\n",
       "Clusters                                                      \n",
       "0          63.0  6.698413  0.585715  5.0  6.0  7.0  7.00   8.0\n",
       "1         115.0  8.165217  0.457500  7.0  8.0  8.0  8.00  10.0\n",
       "2          22.0  8.590909  0.734140  7.0  8.0  9.0  9.00  10.0\n",
       "3           6.0  9.333333  0.516398  9.0  9.0  9.0  9.75  10.0\n",
       "4          44.0  8.363636  0.650256  7.0  8.0  8.0  9.00  10.0"
      ]
     },
     "execution_count": 495,
     "metadata": {},
     "output_type": "execute_result"
    }
   ],
   "source": [
    "data_film.groupby(['Clusters'])['Your Rating'].describe()\n",
    "# Low standard Deviation in ratings, so, probably has clustered some sort of relationship."
   ]
  },
  {
   "cell_type": "code",
   "execution_count": 496,
   "metadata": {},
   "outputs": [],
   "source": [
    "# Lets try and visualize the groups \n",
    "\n",
    "grouped_df = data_film.groupby(['Clusters'])\n",
    "\n",
    "clust_0 = grouped_df.get_group(0)\n",
    "clust_1 = grouped_df.get_group(1)\n",
    "clust_2 = grouped_df.get_group(2)\n",
    "clust_3 = grouped_df.get_group(3)\n",
    "clust_4 = grouped_df.get_group(4)"
   ]
  },
  {
   "cell_type": "code",
   "execution_count": 509,
   "metadata": {
    "scrolled": false
   },
   "outputs": [
    {
     "data": {
      "text/html": [
       "<div>\n",
       "<style scoped>\n",
       "    .dataframe tbody tr th:only-of-type {\n",
       "        vertical-align: middle;\n",
       "    }\n",
       "\n",
       "    .dataframe tbody tr th {\n",
       "        vertical-align: top;\n",
       "    }\n",
       "\n",
       "    .dataframe thead th {\n",
       "        text-align: right;\n",
       "    }\n",
       "</style>\n",
       "<table border=\"1\" class=\"dataframe\">\n",
       "  <thead>\n",
       "    <tr style=\"text-align: right;\">\n",
       "      <th></th>\n",
       "      <th>Const</th>\n",
       "      <th>Your Rating</th>\n",
       "      <th>Date Rated</th>\n",
       "      <th>Title</th>\n",
       "      <th>URL</th>\n",
       "      <th>Title Type</th>\n",
       "      <th>IMDb Rating</th>\n",
       "      <th>Runtime (mins)</th>\n",
       "      <th>Year</th>\n",
       "      <th>Genres</th>\n",
       "      <th>Num Votes</th>\n",
       "      <th>Release Date</th>\n",
       "      <th>Directors</th>\n",
       "      <th>Clusters</th>\n",
       "    </tr>\n",
       "  </thead>\n",
       "  <tbody>\n",
       "    <tr>\n",
       "      <th>10</th>\n",
       "      <td>tt0109830</td>\n",
       "      <td>9</td>\n",
       "      <td>2016-04-27</td>\n",
       "      <td>Forrest Gump</td>\n",
       "      <td>https://www.imdb.com/title/tt0109830/</td>\n",
       "      <td>movie</td>\n",
       "      <td>8.8</td>\n",
       "      <td>142</td>\n",
       "      <td>1994</td>\n",
       "      <td>Drama, Romance</td>\n",
       "      <td>1558178</td>\n",
       "      <td>1994-06-23</td>\n",
       "      <td>Robert Zemeckis</td>\n",
       "      <td>3</td>\n",
       "    </tr>\n",
       "    <tr>\n",
       "      <th>12</th>\n",
       "      <td>tt0111161</td>\n",
       "      <td>10</td>\n",
       "      <td>2017-02-04</td>\n",
       "      <td>The Shawshank Redemption</td>\n",
       "      <td>https://www.imdb.com/title/tt0111161/</td>\n",
       "      <td>movie</td>\n",
       "      <td>9.3</td>\n",
       "      <td>142</td>\n",
       "      <td>1994</td>\n",
       "      <td>Drama</td>\n",
       "      <td>2039088</td>\n",
       "      <td>1994-09-10</td>\n",
       "      <td>Frank Darabont</td>\n",
       "      <td>3</td>\n",
       "    </tr>\n",
       "    <tr>\n",
       "      <th>23</th>\n",
       "      <td>tt0120815</td>\n",
       "      <td>10</td>\n",
       "      <td>2016-04-27</td>\n",
       "      <td>Saving Private Ryan</td>\n",
       "      <td>https://www.imdb.com/title/tt0120815/</td>\n",
       "      <td>movie</td>\n",
       "      <td>8.6</td>\n",
       "      <td>169</td>\n",
       "      <td>1998</td>\n",
       "      <td>Drama, War</td>\n",
       "      <td>1076831</td>\n",
       "      <td>1998-07-21</td>\n",
       "      <td>Steven Spielberg</td>\n",
       "      <td>3</td>\n",
       "    </tr>\n",
       "    <tr>\n",
       "      <th>37</th>\n",
       "      <td>tt0137523</td>\n",
       "      <td>9</td>\n",
       "      <td>2019-01-07</td>\n",
       "      <td>Fight Club</td>\n",
       "      <td>https://www.imdb.com/title/tt0137523/</td>\n",
       "      <td>movie</td>\n",
       "      <td>8.8</td>\n",
       "      <td>139</td>\n",
       "      <td>1999</td>\n",
       "      <td>Drama</td>\n",
       "      <td>1632082</td>\n",
       "      <td>1999-09-10</td>\n",
       "      <td>David Fincher</td>\n",
       "      <td>3</td>\n",
       "    </tr>\n",
       "    <tr>\n",
       "      <th>38</th>\n",
       "      <td>tt1375666</td>\n",
       "      <td>9</td>\n",
       "      <td>2017-05-31</td>\n",
       "      <td>Inception</td>\n",
       "      <td>https://www.imdb.com/title/tt1375666/</td>\n",
       "      <td>movie</td>\n",
       "      <td>8.8</td>\n",
       "      <td>148</td>\n",
       "      <td>2010</td>\n",
       "      <td>Action, Adventure, Sci-Fi, Thriller</td>\n",
       "      <td>1786270</td>\n",
       "      <td>2010-07-08</td>\n",
       "      <td>Christopher Nolan</td>\n",
       "      <td>3</td>\n",
       "    </tr>\n",
       "    <tr>\n",
       "      <th>205</th>\n",
       "      <td>tt0468569</td>\n",
       "      <td>9</td>\n",
       "      <td>2016-04-27</td>\n",
       "      <td>The Dark Knight</td>\n",
       "      <td>https://www.imdb.com/title/tt0468569/</td>\n",
       "      <td>movie</td>\n",
       "      <td>9.0</td>\n",
       "      <td>152</td>\n",
       "      <td>2008</td>\n",
       "      <td>Action, Crime, Drama, Thriller</td>\n",
       "      <td>2006813</td>\n",
       "      <td>2008-07-14</td>\n",
       "      <td>Christopher Nolan</td>\n",
       "      <td>3</td>\n",
       "    </tr>\n",
       "  </tbody>\n",
       "</table>\n",
       "</div>"
      ],
      "text/plain": [
       "         Const  Your Rating  Date Rated                     Title  \\\n",
       "10   tt0109830            9  2016-04-27              Forrest Gump   \n",
       "12   tt0111161           10  2017-02-04  The Shawshank Redemption   \n",
       "23   tt0120815           10  2016-04-27       Saving Private Ryan   \n",
       "37   tt0137523            9  2019-01-07                Fight Club   \n",
       "38   tt1375666            9  2017-05-31                 Inception   \n",
       "205  tt0468569            9  2016-04-27           The Dark Knight   \n",
       "\n",
       "                                       URL Title Type  IMDb Rating  \\\n",
       "10   https://www.imdb.com/title/tt0109830/      movie          8.8   \n",
       "12   https://www.imdb.com/title/tt0111161/      movie          9.3   \n",
       "23   https://www.imdb.com/title/tt0120815/      movie          8.6   \n",
       "37   https://www.imdb.com/title/tt0137523/      movie          8.8   \n",
       "38   https://www.imdb.com/title/tt1375666/      movie          8.8   \n",
       "205  https://www.imdb.com/title/tt0468569/      movie          9.0   \n",
       "\n",
       "     Runtime (mins)  Year                               Genres  Num Votes  \\\n",
       "10              142  1994                       Drama, Romance    1558178   \n",
       "12              142  1994                                Drama    2039088   \n",
       "23              169  1998                           Drama, War    1076831   \n",
       "37              139  1999                                Drama    1632082   \n",
       "38              148  2010  Action, Adventure, Sci-Fi, Thriller    1786270   \n",
       "205             152  2008       Action, Crime, Drama, Thriller    2006813   \n",
       "\n",
       "    Release Date          Directors  Clusters  \n",
       "10    1994-06-23    Robert Zemeckis         3  \n",
       "12    1994-09-10     Frank Darabont         3  \n",
       "23    1998-07-21   Steven Spielberg         3  \n",
       "37    1999-09-10      David Fincher         3  \n",
       "38    2010-07-08  Christopher Nolan         3  \n",
       "205   2008-07-14  Christopher Nolan         3  "
      ]
     },
     "execution_count": 509,
     "metadata": {},
     "output_type": "execute_result"
    }
   ],
   "source": [
    "clust_3.head(10)"
   ]
  },
  {
   "cell_type": "code",
   "execution_count": 498,
   "metadata": {},
   "outputs": [
    {
     "data": {
      "text/plain": [
       "<matplotlib.axes._subplots.AxesSubplot at 0x12df25128>"
      ]
     },
     "execution_count": 498,
     "metadata": {},
     "output_type": "execute_result"
    },
    {
     "data": {
      "image/png": "[encoded data removed]",
      "text/plain": [
       "<Figure size 1008x432 with 1 Axes>"
      ]
     },
     "metadata": {
      "needs_background": "light"
     },
     "output_type": "display_data"
    }
   ],
   "source": [
    "plt.figure(figsize=(14,6))\n",
    "sns.boxplot(x = 'Clusters', y = 'Your Rating', data = data_film)"
   ]
  },
  {
   "cell_type": "code",
   "execution_count": 499,
   "metadata": {},
   "outputs": [
    {
     "data": {
      "text/plain": [
       "<matplotlib.axes._subplots.AxesSubplot at 0x12da0b630>"
      ]
     },
     "execution_count": 499,
     "metadata": {},
     "output_type": "execute_result"
    },
    {
     "data": {
      "image/png": "[encoded data removed]",
      "text/plain": [
       "<Figure size 1008x432 with 1 Axes>"
      ]
     },
     "metadata": {
      "needs_background": "light"
     },
     "output_type": "display_data"
    }
   ],
   "source": [
    "plt.figure(figsize=(14,6))\n",
    "sns.boxplot(x = 'Clusters', y = 'IMDb Rating', data = data_film)"
   ]
  },
  {
   "cell_type": "code",
   "execution_count": 500,
   "metadata": {},
   "outputs": [
    {
     "data": {
      "text/plain": [
       "<matplotlib.axes._subplots.AxesSubplot at 0x12d7cf4a8>"
      ]
     },
     "execution_count": 500,
     "metadata": {},
     "output_type": "execute_result"
    },
    {
     "data": {
      "image/png": "[encoded data removed]",
      "text/plain": [
       "<Figure size 1008x432 with 1 Axes>"
      ]
     },
     "metadata": {
      "needs_background": "light"
     },
     "output_type": "display_data"
    }
   ],
   "source": [
    "plt.figure(figsize=(14,6))\n",
    "sns.boxplot(x = 'Clusters', y = 'Year', data = data_film)"
   ]
  },
  {
   "cell_type": "markdown",
   "metadata": {},
   "source": [
    "#### Insight: I tend to rate newer movies lower that tend to have higher IMDb scores due to recency bias."
   ]
  },
  {
   "cell_type": "code",
   "execution_count": 501,
   "metadata": {},
   "outputs": [
    {
     "data": {
      "text/plain": [
       "<matplotlib.axes._subplots.AxesSubplot at 0x12f452f28>"
      ]
     },
     "execution_count": 501,
     "metadata": {},
     "output_type": "execute_result"
    },
    {
     "data": {
      "image/png": "[encoded data removed]",
      "text/plain": [
       "<Figure size 1008x432 with 1 Axes>"
      ]
     },
     "metadata": {
      "needs_background": "light"
     },
     "output_type": "display_data"
    }
   ],
   "source": [
    "plt.figure(figsize=(14,6))\n",
    "sns.boxplot(x = 'Clusters', y = 'Num Votes', data = data_film)"
   ]
  }
 ],
 "metadata": {
  "kernelspec": {
   "display_name": "Python 3",
   "language": "python",
   "name": "python3"
  },
  "language_info": {
   "codemirror_mode": {
    "name": "ipython",
    "version": 3
   },
   "file_extension": ".py",
   "mimetype": "text/x-python",
   "name": "python",
   "nbconvert_exporter": "python",
   "pygments_lexer": "ipython3",
   "version": "3.6.4"
  }
 },
 "nbformat": 4,
 "nbformat_minor": 2
}
